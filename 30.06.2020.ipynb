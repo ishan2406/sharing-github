{
 "cells": [
  {
   "cell_type": "code",
   "execution_count": 2,
   "metadata": {},
   "outputs": [
    {
     "name": "stdout",
     "output_type": "stream",
     "text": [
      "[11, 22, 33, 44, 55, 66, 77, 88, 99]\n",
      "Enter element to be deleted: 900\n",
      "Element Not Found\n"
     ]
    }
   ],
   "source": [
    "#WAP using function for Bsearch(ar,ele)\n",
    "def Bsearch(ar,ele):\n",
    "    beg=0\n",
    "    last=len(ar)-1\n",
    "    while beg<=last:\n",
    "        mid=(beg+last)//2\n",
    "        if ele==ar[mid]:\n",
    "            return mid\n",
    "        elif ele>ar[mid]:\n",
    "            beg=mid+1\n",
    "        else:\n",
    "            last=mid+1\n",
    "    else:\n",
    "        return False\n",
    "L=[11,22,33,44,55,66,77,88,99]\n",
    "print(L)\n",
    "ele=int(input(\"Enter element to be deleted: \"))\n",
    "position=Bsearch(L,ele)\n",
    "if position:\n",
    "    del L[position]\n",
    "    print(\"After deletion the list is:\")\n",
    "    print(L)\n",
    "else:\n",
    "    print(\"Element Not Found\")"
   ]
  },
  {
   "cell_type": "code",
   "execution_count": 3,
   "metadata": {},
   "outputs": [
    {
     "name": "stdout",
     "output_type": "stream",
     "text": [
      "Enter element to be inserted: 42\n",
      "[10, 34, 42, 56, 78, 900, 1200]\n"
     ]
    }
   ],
   "source": [
    "import bisect\n",
    "L=[10,34,56,78,900,1200]\n",
    "n=int(input(\"Enter element to be inserted: \"))\n",
    "bisect.insort(L,n)\n",
    "print(L)"
   ]
  },
  {
   "cell_type": "code",
   "execution_count": 4,
   "metadata": {},
   "outputs": [
    {
     "name": "stdout",
     "output_type": "stream",
     "text": [
      "Enter element to be inserted: 92\n",
      "92 is iserted at index: 4\n",
      "After inserting new list is:\n",
      "[10, 34, 56, 78, 92, 900, 1200]\n"
     ]
    }
   ],
   "source": [
    "import bisect\n",
    "L=[10,34,56,78,900,1200]\n",
    "n=int(input(\"Enter element to be inserted: \"))\n",
    "index=bisect.bisect(L,n)\n",
    "bisect.insort(L,n)\n",
    "print(n,\"is inserted at index:\",index)\n",
    "print(\"After inserting new list is:\")\n",
    "print(L)"
   ]
  },
  {
   "cell_type": "code",
   "execution_count": 6,
   "metadata": {},
   "outputs": [
    {
     "name": "stdout",
     "output_type": "stream",
     "text": [
      "[2, 4, 6, 8, 10]\n"
     ]
    }
   ],
   "source": [
    "L=[]\n",
    "for i in range(2,11,2):\n",
    "    L.append(i)\n",
    "print(L)"
   ]
  },
  {
   "cell_type": "code",
   "execution_count": 8,
   "metadata": {},
   "outputs": [
    {
     "name": "stdout",
     "output_type": "stream",
     "text": [
      "[2, 4, 6, 8, 10]\n"
     ]
    }
   ],
   "source": [
    "L=[i*2 for i in range(1,6)]\n",
    "print(L)"
   ]
  },
  {
   "cell_type": "code",
   "execution_count": 11,
   "metadata": {},
   "outputs": [
    {
     "name": "stdout",
     "output_type": "stream",
     "text": [
      "[6, 12, 18, 24, 30]\n"
     ]
    }
   ],
   "source": [
    "L=[i for i in range(1,35) if i%6==0]\n",
    "print(L)"
   ]
  },
  {
   "cell_type": "code",
   "execution_count": 12,
   "metadata": {},
   "outputs": [
    {
     "name": "stdout",
     "output_type": "stream",
     "text": [
      "[15, 42, 12, 21]\n"
     ]
    }
   ],
   "source": [
    "Val=[31,15,42,12,5,59,21,71,25]\n",
    "L=[i for i in Val if i%3==0]\n",
    "print(L)"
   ]
  },
  {
   "cell_type": "code",
   "execution_count": 13,
   "metadata": {},
   "outputs": [
    {
     "name": "stdout",
     "output_type": "stream",
     "text": [
      "[36, 39]\n"
     ]
    }
   ],
   "source": [
    "L=[(\"a\",11),(\"b\",12),(\"c\",13)]\n",
    "NL=[n*3 for (x,n) in L if x==\"b\" or x==\"c\"]\n",
    "print(NL)"
   ]
  },
  {
   "cell_type": "code",
   "execution_count": 14,
   "metadata": {},
   "outputs": [
    {
     "name": "stdout",
     "output_type": "stream",
     "text": [
      "['E', 'O', 'E', 'O', 'E']\n"
     ]
    }
   ],
   "source": [
    "R=[\"E\" if i%2==0 else \"O\" for i in range(10,15)]\n",
    "print(R)"
   ]
  },
  {
   "cell_type": "code",
   "execution_count": 15,
   "metadata": {},
   "outputs": [
    {
     "name": "stdout",
     "output_type": "stream",
     "text": [
      "Enter no. of terms: 10\n",
      "[1, 4, 9, 16, 25, 36, 49, 64, 81, 100]\n",
      "[1, 8, 27, 64, 125, 216, 343, 512, 729, 1000]\n"
     ]
    }
   ],
   "source": [
    "n=int(input(\"Enter no. of terms: \"))\n",
    "square=[i**2 for i in range(1,n+1)]\n",
    "cube=[i**3 for i in range(1,n+1)]\n",
    "print(square)\n",
    "print(cube)"
   ]
  },
  {
   "cell_type": "code",
   "execution_count": null,
   "metadata": {},
   "outputs": [],
   "source": []
  }
 ],
 "metadata": {
  "kernelspec": {
   "display_name": "Python 3",
   "language": "python",
   "name": "python3"
  },
  "language_info": {
   "codemirror_mode": {
    "name": "ipython",
    "version": 3
   },
   "file_extension": ".py",
   "mimetype": "text/x-python",
   "name": "python",
   "nbconvert_exporter": "python",
   "pygments_lexer": "ipython3",
   "version": "3.7.6"
  }
 },
 "nbformat": 4,
 "nbformat_minor": 4
}
