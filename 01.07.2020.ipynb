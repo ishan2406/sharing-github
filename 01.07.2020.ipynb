{
 "cells": [
  {
   "cell_type": "code",
   "execution_count": 1,
   "metadata": {},
   "outputs": [
    {
     "name": "stdout",
     "output_type": "stream",
     "text": [
      "[(0, 1), (0, 3), (2, 1), (2, 3), (4, 1), (4, 3)]\n"
     ]
    }
   ],
   "source": [
    "L1=[]\n",
    "for x in range(5):\n",
    "    if x%2==0:\n",
    "        for y in range(5):\n",
    "            if y%2==1:\n",
    "                L1.append((x,y))\n",
    "print(L1)"
   ]
  },
  {
   "cell_type": "code",
   "execution_count": 2,
   "metadata": {},
   "outputs": [
    {
     "name": "stdout",
     "output_type": "stream",
     "text": [
      "[(0, 1), (0, 3), (2, 1), (2, 3), (4, 1), (4, 3)]\n"
     ]
    }
   ],
   "source": [
    "L1=[(x,y) for x in range(5) if x%2==0 for y in range(5) if y%2==1]\n",
    "print(L1)"
   ]
  },
  {
   "cell_type": "code",
   "execution_count": 3,
   "metadata": {},
   "outputs": [
    {
     "name": "stdout",
     "output_type": "stream",
     "text": [
      "[101, 202, [10, 40]]\n"
     ]
    }
   ],
   "source": [
    "LA=[11,22]\n",
    "LB=[10,40]\n",
    "LC=[101,202,LB]\n",
    "print(LC)"
   ]
  },
  {
   "cell_type": "code",
   "execution_count": 7,
   "metadata": {},
   "outputs": [
    {
     "name": "stdout",
     "output_type": "stream",
     "text": [
      "40\n"
     ]
    }
   ],
   "source": [
    "print(LC[2][1])"
   ]
  },
  {
   "cell_type": "code",
   "execution_count": 8,
   "metadata": {},
   "outputs": [
    {
     "name": "stdout",
     "output_type": "stream",
     "text": [
      "[77, [11, 22], [101, 202, [10, 40]], 88]\n"
     ]
    }
   ],
   "source": [
    "LX=[77,LA,LC,88]\n",
    "print(LX)"
   ]
  },
  {
   "cell_type": "code",
   "execution_count": 10,
   "metadata": {},
   "outputs": [
    {
     "name": "stdout",
     "output_type": "stream",
     "text": [
      "40\n"
     ]
    }
   ],
   "source": [
    "print(LX[2][2][1])"
   ]
  },
  {
   "cell_type": "code",
   "execution_count": null,
   "metadata": {},
   "outputs": [],
   "source": [
    "L=[[1,2],[3,4],[5,6]]\n",
    "   0   1\n",
    "0  1   2\n",
    "1  3   4\n",
    "2  5   6"
   ]
  },
  {
   "cell_type": "code",
   "execution_count": 20,
   "metadata": {},
   "outputs": [
    {
     "name": "stdout",
     "output_type": "stream",
     "text": [
      "Enter desired no. of rows: 3\n",
      "Enter desired no. of columns: 3\n",
      "Enter element: 0,0:1\n",
      "Enter element: 0,1:2\n",
      "Enter element: 0,2:3\n",
      "Enter element: 1,0:4\n",
      "Enter element: 1,1:5\n",
      "Enter element: 1,2:6\n",
      "Enter element: 2,0:7\n",
      "Enter element: 2,1:8\n",
      "Enter element: 2,2:9\n",
      "[[1, 2, 3], [4, 5, 6], [7, 8, 9]]\n",
      "=============================================\n",
      "Original array is:\n",
      "1\t2\t3\t\n",
      "4\t5\t6\t\n",
      "7\t8\t9\t\n",
      "\n",
      "Transpose of the array is:\n",
      "1\t4\t7\t\n",
      "2\t5\t8\t\n",
      "3\t6\t9\t\n",
      "\n",
      "Traversed array is:\n",
      "3\t4\t9\t\n",
      "16\t15\t36\t\n",
      "21\t64\t27\t\n"
     ]
    }
   ],
   "source": [
    "L=[]\n",
    "r=int(input(\"Enter desired no. of rows: \"))\n",
    "c=int(input(\"Enter desired no. of columns: \"))\n",
    "for i in range(r):\n",
    "    row=[]\n",
    "    for j in range(c):\n",
    "        ele=int(input(\"Enter element: \"+str(i)+\",\"+str(j)+\":\"))\n",
    "        row.append(ele)\n",
    "    L.append(row)\n",
    "print(L)\n",
    "print(\"=============================================\")\n",
    "print(\"Original array is:\")\n",
    "for i in range(r):\n",
    "    for j in range(c):\n",
    "        print(L[i][j],end=\"\\t\")\n",
    "    print()\n",
    "print()\n",
    "\n",
    "#Transpose of array\n",
    "print(\"Transpose of the array is:\")\n",
    "for i in range(r):\n",
    "    for j in range(c):\n",
    "        print(L[j][i],end=\"\\t\")\n",
    "    print()\n",
    "print()\n",
    "\n",
    "#Traversing the array\n",
    "print(\"Traversed array is:\")\n",
    "for i in range(r):\n",
    "    for j in range(c):\n",
    "        if L[i][j]%2==0:\n",
    "            print(L[i][j]*L[i][j],end=\"\\t\")\n",
    "        else:\n",
    "            print(L[i][j]*3,end=\"\\t\")\n",
    "    print()\n",
    "print()\n",
    "\n",
    "#Sum of rows\n",
    "print(\"Sum of rows of original array is:\")\n",
    "for i in "
   ]
  },
  {
   "cell_type": "code",
   "execution_count": 29,
   "metadata": {},
   "outputs": [
    {
     "name": "stdout",
     "output_type": "stream",
     "text": [
      "[[50, 60, 80]]\n"
     ]
    }
   ],
   "source": [
    "L=[[1,2,3],[22,33,44],[50,60,80],[11,12,14]]\n",
    "print(L[2:][:1])"
   ]
  },
  {
   "cell_type": "code",
   "execution_count": null,
   "metadata": {},
   "outputs": [],
   "source": [
    "#WAP for transpose of matrix without using list comprehension\n",
    "matrix=[[1,2,3],[4,5,6],[7,8,9],[10,11,12]]\n",
    "trans=[]\n",
    "for i in range(3):\n",
    "    tr=[]\n",
    "    for row in matrix:\n",
    "        tr.append(row[i])\n",
    "    trans.append(tr)\n",
    "print(matrix)\n",
    "print(trans)"
   ]
  }
 ],
 "metadata": {
  "kernelspec": {
   "display_name": "Python 3",
   "language": "python",
   "name": "python3"
  },
  "language_info": {
   "codemirror_mode": {
    "name": "ipython",
    "version": 3
   },
   "file_extension": ".py",
   "mimetype": "text/x-python",
   "name": "python",
   "nbconvert_exporter": "python",
   "pygments_lexer": "ipython3",
   "version": "3.7.6"
  }
 },
 "nbformat": 4,
 "nbformat_minor": 4
}
