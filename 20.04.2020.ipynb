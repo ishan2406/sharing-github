{
 "cells": [
  {
   "cell_type": "code",
   "execution_count": 3,
   "metadata": {},
   "outputs": [
    {
     "name": "stdout",
     "output_type": "stream",
     "text": [
      "Enter N for sum:7\n",
      "Sum of first 7 natural numbers is: 28\n"
     ]
    }
   ],
   "source": [
    "#Sum of first N ntural numbers\n",
    "def sum(x):\n",
    "    if x==1:      #Base Statement\n",
    "        return 1\n",
    "    else:\n",
    "        return x + sum(x-1)\n",
    "n=int(input(\"Enter N for sum:\"))\n",
    "result=sum(n)\n",
    "print(\"Sum of first\",n,\"natural numbers is:\",result)"
   ]
  },
  {
   "cell_type": "code",
   "execution_count": 10,
   "metadata": {},
   "outputs": [
    {
     "name": "stdout",
     "output_type": "stream",
     "text": [
      "Enter number:5\n",
      "The factorial of 5 is 120\n"
     ]
    }
   ],
   "source": [
    "#Factorial of N\n",
    "def fact_rec(n):\n",
    "    if n==1:    #Base Statement\n",
    "        return 1\n",
    "    else:\n",
    "        return n * fact_rec(n-1)\n",
    "num=int(input(\"Enter number:\"))\n",
    "if num<0:\n",
    "    print(\"Sorry, factorial does not exist for -ve numbers\")\n",
    "elif num==0:\n",
    "    print(\"The factorial of 0 is 1\")\n",
    "else:\n",
    "    print(\"The factorial of\",num,\"is\",fact_rec(num))"
   ]
  },
  {
   "cell_type": "code",
   "execution_count": 4,
   "metadata": {},
   "outputs": [
    {
     "name": "stdout",
     "output_type": "stream",
     "text": [
      "Enter number:7\n",
      "7 is a prime number\n"
     ]
    }
   ],
   "source": [
    "#Prime number check\n",
    "def Prime(n,i=2):\n",
    "    if i==n:     #Base Statement\n",
    "        return True\n",
    "    if n%i==0:\n",
    "        return False\n",
    "    else:\n",
    "        return Prime(n,i+1)\n",
    "n=int(input(\"Enter number:\"))\n",
    "if Prime(n):\n",
    "    print(n,\"is a prime number\")\n",
    "else:\n",
    "    print(n,\"is not a prime number\")"
   ]
  },
  {
   "cell_type": "code",
   "execution_count": 3,
   "metadata": {},
   "outputs": [
    {
     "name": "stdout",
     "output_type": "stream",
     "text": [
      "Enter number of terms: 7\n",
      "0 1 1 2 3 5 8 "
     ]
    }
   ],
   "source": [
    "#Fibonacci series of N terms\n",
    "def fibo(a,b,n):\n",
    "    if n==2:\n",
    "        return\n",
    "    else:\n",
    "        c=a+b\n",
    "        print(c,end=\" \")\n",
    "        return fibo(b,c,n-1)\n",
    "a,b=0,1\n",
    "n=int(input(\"Enter number of terms: \"))\n",
    "if n==0:\n",
    "    print(\"No fibonacci for 0\")\n",
    "elif n<0:\n",
    "    print(\"No fibonacci for -ve numbers\")\n",
    "elif n==1:\n",
    "    print(a)\n",
    "elif n==2:\n",
    "    print(a,b,end=\" \")\n",
    "else:\n",
    "    print(a,b,end=\" \")\n",
    "    fibo(a,b,n)"
   ]
  },
  {
   "cell_type": "code",
   "execution_count": null,
   "metadata": {},
   "outputs": [],
   "source": []
  },
  {
   "cell_type": "code",
   "execution_count": null,
   "metadata": {},
   "outputs": [],
   "source": []
  }
 ],
 "metadata": {
  "kernelspec": {
   "display_name": "Python 3",
   "language": "python",
   "name": "python3"
  },
  "language_info": {
   "codemirror_mode": {
    "name": "ipython",
    "version": 3
   },
   "file_extension": ".py",
   "mimetype": "text/x-python",
   "name": "python",
   "nbconvert_exporter": "python",
   "pygments_lexer": "ipython3",
   "version": "3.7.6"
  }
 },
 "nbformat": 4,
 "nbformat_minor": 4
}
