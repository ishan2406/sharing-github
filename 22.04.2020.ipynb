{
 "cells": [
  {
   "cell_type": "code",
   "execution_count": 2,
   "metadata": {},
   "outputs": [
    {
     "name": "stdout",
     "output_type": "stream",
     "text": [
      "Enter value: 4\n",
      "4 3 2 1 1 2 3 4 "
     ]
    }
   ],
   "source": [
    "#Find the output of the given code:\n",
    "def printFun(test):\n",
    "    if (test<1):\n",
    "        return\n",
    "    else:\n",
    "        print(test,end=\" \")\n",
    "        printFun(test-1)\n",
    "        print(test,end=\" \")\n",
    "        return\n",
    "test=int(input(\"Enter value: \"))\n",
    "printFun(test)"
   ]
  },
  {
   "cell_type": "code",
   "execution_count": 6,
   "metadata": {},
   "outputs": [
    {
     "name": "stdout",
     "output_type": "stream",
     "text": [
      "Enter number: 15\n",
      "1 1 1 1 "
     ]
    }
   ],
   "source": [
    "#Find the output of the given code:\n",
    "def fun2(n):\n",
    "    if (n==0):\n",
    "        return\n",
    "    fun2(n//2)\n",
    "    print(n%2,end=\" \")\n",
    "n=int(input(\"Enter number: \"))\n",
    "fun2(n)"
   ]
  },
  {
   "cell_type": "code",
   "execution_count": 9,
   "metadata": {},
   "outputs": [
    {
     "name": "stdout",
     "output_type": "stream",
     "text": [
      "288\n"
     ]
    }
   ],
   "source": [
    "#Find the output of the given code:\n",
    "def sum(n):\n",
    "    if n==1:\n",
    "        return 1\n",
    "    else:\n",
    "        return pow(n,n)+sum(n-1)\n",
    "n=4\n",
    "print(sum(n))"
   ]
  },
  {
   "cell_type": "code",
   "execution_count": 4,
   "metadata": {},
   "outputs": [
    {
     "name": "stdout",
     "output_type": "stream",
     "text": [
      "Enter base: 2\n",
      "Enter exponent: -10\n",
      "Power of 2 raised to -10 is 1\n"
     ]
    }
   ],
   "source": [
    "#Write recursive function to find power of N\n",
    "def power(a,b):\n",
    "    if b<=0:\n",
    "        return 1\n",
    "    else:\n",
    "        return a*power(a,b-1)\n",
    "p=int(input(\"Enter base: \"))\n",
    "q=int(input(\"Enter exponent: \"))\n",
    "print(\"Power of\",p,\"raised to\",q,\"is\",power(p,q))"
   ]
  },
  {
   "cell_type": "code",
   "execution_count": 13,
   "metadata": {},
   "outputs": [
    {
     "name": "stdout",
     "output_type": "stream",
     "text": [
      "Enter base: 2\n",
      "Enter exponent: 10\n",
      "Power of 2 raised to 10 is 1024\n"
     ]
    }
   ],
   "source": [
    "#Write function to find power of N\n",
    "def power(a,b):\n",
    "    result=1\n",
    "    if b<=0:\n",
    "        return 1\n",
    "    else:\n",
    "        for i in range(b):\n",
    "            result=result*a\n",
    "    return result\n",
    "p=int(input(\"Enter base: \"))\n",
    "q=int(input(\"Enter exponent: \"))\n",
    "print(\"Power of\",p,\"raised to\",q,\"is\",power(p,q))"
   ]
  },
  {
   "cell_type": "code",
   "execution_count": 6,
   "metadata": {},
   "outputs": [
    {
     "name": "stdout",
     "output_type": "stream",
     "text": [
      "Enter num1: 66\n",
      "Enter num2: 22\n",
      "GCD of 66 and 22 is 22\n"
     ]
    }
   ],
   "source": [
    "#Program for GCD\n",
    "def gcd(p,q):\n",
    "    if q==0:\n",
    "        return p\n",
    "    else:\n",
    "        return gcd(q,p%q)\n",
    "a=int(input(\"Enter num1: \"))\n",
    "b=int(input(\"Enter num2: \"))\n",
    "print(\"GCD of\",a,\"and\",b,\"is\",gcd(a,b))"
   ]
  },
  {
   "cell_type": "code",
   "execution_count": 10,
   "metadata": {},
   "outputs": [
    {
     "name": "stdout",
     "output_type": "stream",
     "text": [
      "Enter upper limit: 7\n",
      "Sum of first 7 natural numbers is 28\n"
     ]
    }
   ],
   "source": [
    "#Recursive function to print sum of first N natural numbers\n",
    "def sumofn(n):\n",
    "    if n<=1:\n",
    "        return n\n",
    "    else:\n",
    "        return n + sumofn(n-1)\n",
    "n=int(input(\"Enter upper limit: \"))\n",
    "print(\"Sum of first\",n,\"natural numbers is\",sumofn(n))"
   ]
  },
  {
   "cell_type": "code",
   "execution_count": null,
   "metadata": {},
   "outputs": [],
   "source": []
  }
 ],
 "metadata": {
  "kernelspec": {
   "display_name": "Python 3",
   "language": "python",
   "name": "python3"
  },
  "language_info": {
   "codemirror_mode": {
    "name": "ipython",
    "version": 3
   },
   "file_extension": ".py",
   "mimetype": "text/x-python",
   "name": "python",
   "nbconvert_exporter": "python",
   "pygments_lexer": "ipython3",
   "version": "3.7.6"
  }
 },
 "nbformat": 4,
 "nbformat_minor": 4
}
