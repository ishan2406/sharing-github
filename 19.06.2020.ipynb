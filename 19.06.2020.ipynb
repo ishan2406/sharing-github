{
 "cells": [
  {
   "cell_type": "code",
   "execution_count": 3,
   "metadata": {},
   "outputs": [
    {
     "name": "stdout",
     "output_type": "stream",
     "text": [
      "Enter file to read from: C:\\\\Users\\\\Krishna\\\\Desktop\\\\XII A\\\\Misc\\\\story.txt\n",
      "Enter file to write to: copy.txt\n"
     ]
    }
   ],
   "source": [
    "def copyE(file1,file2):\n",
    "    f1=open(file1,\"r\")\n",
    "    f2=open(file2,\"w\")\n",
    "    line=f1.readline()\n",
    "    while line:\n",
    "        if line[0]==\"E\":\n",
    "            f2.write(line)\n",
    "        line=f1.readline()\n",
    "    f1.close()\n",
    "    f2.close()\n",
    "\n",
    "f1=input(\"Enter file to read from: \")\n",
    "f2=input(\"Enter file to write to: \")\n",
    "copyE(f1,f2)"
   ]
  },
  {
   "cell_type": "code",
   "execution_count": 4,
   "metadata": {},
   "outputs": [
    {
     "name": "stdout",
     "output_type": "stream",
     "text": [
      "Ek tha raja\n",
      "Ek thi rani\n",
      "\n"
     ]
    }
   ],
   "source": [
    "with open(\"copy.txt\",\"r\") as f:\n",
    "    print(f.read())"
   ]
  },
  {
   "cell_type": "code",
   "execution_count": 12,
   "metadata": {},
   "outputs": [
    {
     "name": "stdout",
     "output_type": "stream",
     "text": [
      "3 \n"
     ]
    }
   ],
   "source": [
    "f=open(\"Marks.dat\",\"r\")\n",
    "count=0\n",
    "rec=\"\"\n",
    "while True:\n",
    "    rec=f.readline()\n",
    "    if rec==\"\":\n",
    "        break\n",
    "    count+=1\n",
    "print(count,rec)\n",
    "f.close()"
   ]
  },
  {
   "cell_type": "code",
   "execution_count": 15,
   "metadata": {},
   "outputs": [
    {
     "name": "stdout",
     "output_type": "stream",
     "text": [
      "Ek tha Ek thi mar "
     ]
    }
   ],
   "source": [
    "file=open(\"C:\\\\Users\\\\Krishna\\\\Desktop\\\\XII A\\\\Misc\\\\story.txt\",\"r\")\n",
    "line=file.read()\n",
    "word=line.split()\n",
    "for i in word:\n",
    "    if len(i)<4:\n",
    "        print(i,end=\" \")\n",
    "file.close()"
   ]
  },
  {
   "cell_type": "code",
   "execution_count": null,
   "metadata": {},
   "outputs": [],
   "source": []
  }
 ],
 "metadata": {
  "kernelspec": {
   "display_name": "Python 3",
   "language": "python",
   "name": "python3"
  },
  "language_info": {
   "codemirror_mode": {
    "name": "ipython",
    "version": 3
   },
   "file_extension": ".py",
   "mimetype": "text/x-python",
   "name": "python",
   "nbconvert_exporter": "python",
   "pygments_lexer": "ipython3",
   "version": "3.7.6"
  }
 },
 "nbformat": 4,
 "nbformat_minor": 4
}
