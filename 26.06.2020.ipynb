{
 "cells": [
  {
   "cell_type": "code",
   "execution_count": 5,
   "metadata": {},
   "outputs": [
    {
     "name": "stdout",
     "output_type": "stream",
     "text": [
      "Total number of vowels are 113\n"
     ]
    }
   ],
   "source": [
    "#WAF to count vowels from the given file using with (open file) and add exceptional handling of FileNotFoundError\n",
    "def vowelCount():\n",
    "    try:\n",
    "        with open(r\"C:\\Users\\Krishna\\Desktop\\XII A\\Misc\\fh.txt\",\"r\") as f:\n",
    "            v=0\n",
    "            while True:\n",
    "                c=f.read(1)\n",
    "                if c!=\"\":\n",
    "                    if c in \"aeiouAEIOU\":\n",
    "                        v+=1\n",
    "                else:\n",
    "                    break\n",
    "            print(\"Total number of vowels are\",v)\n",
    "    except FileNotFoundError:\n",
    "        print(\"File Not Found\")\n",
    "vowelCount()"
   ]
  },
  {
   "cell_type": "code",
   "execution_count": 6,
   "metadata": {},
   "outputs": [
    {
     "name": "stdout",
     "output_type": "stream",
     "text": [
      "\n",
      "ajar aht kE\n",
      "\n",
      "inar iht kE\n",
      "\n",
      "eyag ram onoD\n",
      "inahak matahK\n"
     ]
    }
   ],
   "source": [
    "#WAF to reverse and display each line from text file\n",
    "def reverseLine():\n",
    "    try:\n",
    "        with open(r\"C:\\Users\\Krishna\\Desktop\\XII A\\Misc\\story.txt\",\"r\") as f:\n",
    "            s=f.readlines()\n",
    "            for line in s:\n",
    "                print(line[::-1])\n",
    "    except FileNotFoundError:\n",
    "        print(\"File Not Found\")\n",
    "reverseLine()"
   ]
  },
  {
   "cell_type": "code",
   "execution_count": 13,
   "metadata": {},
   "outputs": [
    {
     "name": "stdout",
     "output_type": "stream",
     "text": [
      "Ek tha raja,\n",
      "\n",
      "Ek thi rani\n",
      "\n",
      "Dono mar gaye,\n",
      "\n"
     ]
    }
   ],
   "source": [
    "#WAF to display lines in text file ending with comma\n",
    "def endComma():\n",
    "    try:\n",
    "        with open(r\"C:\\Users\\Krishna\\Desktop\\XII A\\Misc\\story.txt\",\"r\") as f:\n",
    "            s=f.readlines()\n",
    "            for line in s:\n",
    "                l=len(line)\n",
    "                if line[l-2] in [\",\",\"i\"]:\n",
    "                    print(line)\n",
    "    except FileNotFoundError:\n",
    "        print(\"File Not Found\")\n",
    "endComma()"
   ]
  },
  {
   "cell_type": "code",
   "execution_count": 17,
   "metadata": {},
   "outputs": [
    {
     "name": "stdout",
     "output_type": "stream",
     "text": [
      "Ek thi rani\n",
      "\n",
      "Khatam kahani\n"
     ]
    }
   ],
   "source": [
    "#WAF to display even lines from file\n",
    "def evenLines():\n",
    "    try:\n",
    "        with open(r\"C:\\Users\\Krishna\\Desktop\\XII A\\Misc\\story.txt\",\"r\") as f:\n",
    "            s=f.readlines()\n",
    "            for line in range(1,len(s),2):\n",
    "                print(s[line])\n",
    "    except:\n",
    "        print(\"File Not Found\")\n",
    "evenLines()"
   ]
  },
  {
   "cell_type": "code",
   "execution_count": 20,
   "metadata": {},
   "outputs": [],
   "source": [
    "#WAF to display the content of a file in reverse lines (i.e. last line first)\n",
    "def reverseFile():\n",
    "    try:\n",
    "        with open(r\"C:\\Users\\Krishna\\Desktop\\XII A\\Misc\\story.txt\",\"r\") as f:\n",
    "            s=f.readlines()\n",
    "            for i in range(-1,len(s),-1):\n",
    "                print(s[i])\n",
    "    except:\n",
    "        print(\"File Not Found\")\n",
    "reverseFile()"
   ]
  },
  {
   "cell_type": "code",
   "execution_count": null,
   "metadata": {},
   "outputs": [],
   "source": []
  }
 ],
 "metadata": {
  "kernelspec": {
   "display_name": "Python 3",
   "language": "python",
   "name": "python3"
  },
  "language_info": {
   "codemirror_mode": {
    "name": "ipython",
    "version": 3
   },
   "file_extension": ".py",
   "mimetype": "text/x-python",
   "name": "python",
   "nbconvert_exporter": "python",
   "pygments_lexer": "ipython3",
   "version": "3.7.6"
  }
 },
 "nbformat": 4,
 "nbformat_minor": 4
}
