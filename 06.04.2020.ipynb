{
 "cells": [
  {
   "cell_type": "code",
   "execution_count": 17,
   "metadata": {},
   "outputs": [
    {
     "name": "stdout",
     "output_type": "stream",
     "text": [
      "Python too supports file handling and allows users\n"
     ]
    }
   ],
   "source": [
    "# Let's revise\n",
    "# Create a filehandling.txt in your folder\n",
    "# 1. Code to read a file's first 50 bytes and print on screen\n",
    "f=open(r\"E:\\\\Ishan\\\\filehandling.txt\",\"r\")\n",
    "s=f.read(50)\n",
    "print(s)"
   ]
  },
  {
   "cell_type": "code",
   "execution_count": 18,
   "metadata": {},
   "outputs": [
    {
     "name": "stdout",
     "output_type": "stream",
     "text": [
      "Python too supports file handling and allows users to handle files \n",
      "i.e., to read and write files, along with many other file handling options, \n",
      "to operate on files. The concept of file handling has stretched over various \n",
      "other languages, but the implementation is either complicated or lengthy, \n",
      "but alike other concepts of Python, this concept here is also easy and short. \n",
      "Python treats file differently as text or binary and this is important. \n",
      "Each line of code includes a sequence of characters and they form text file.\n"
     ]
    }
   ],
   "source": [
    "filein=open(\"E:\\\\Ishan\\\\filehandling.txt\",\"r\")\n",
    "print(filein.read())"
   ]
  },
  {
   "cell_type": "code",
   "execution_count": 19,
   "metadata": {},
   "outputs": [
    {
     "name": "stdout",
     "output_type": "stream",
     "text": [
      "Python too supports file handling and allows users to handle files \n",
      " i.e., to read and write files, along with many other file handling options, \n",
      " to operate on files. The concept of file handling has stretched over various \n",
      " other languages, but the implementation is either complicated or lengthy, \n",
      " but alike other concepts of Python, this concept here is also easy and short. \n",
      " Python treats file differently as text or binary and this is important. \n",
      " Each line of code includes a sequence of characters and they form text file.  "
     ]
    }
   ],
   "source": [
    "myfile=open(\"E:\\\\Ishan\\\\filehandling.txt\",\"r\")\n",
    "str=\" \"\n",
    "myfile.seek(0)\n",
    "while str:\n",
    "    str=myfile.readline()\n",
    "    print(str,end=\" \")\n",
    "myfile.close()"
   ]
  },
  {
   "cell_type": "code",
   "execution_count": 21,
   "metadata": {},
   "outputs": [
    {
     "name": "stdout",
     "output_type": "stream",
     "text": [
      "Python too supports file handling and allows users to handle files \n",
      "\n",
      "i.e., to read and write files, along with many other file handling options, \n",
      "\n",
      "to operate on files. The concept of file handling has stretched over various \n",
      "\n",
      "other languages, but the implementation is either complicated or lengthy, \n",
      "\n",
      "but alike other concepts of Python, this concept here is also easy and short. \n",
      "\n",
      "Python treats file differently as text or binary and this is important. \n",
      "\n",
      "Each line of code includes a sequence of characters and they form text file.\n"
     ]
    }
   ],
   "source": [
    "myfile=open(\"E:\\\\Ishan\\\\filehandling.txt\",\"r\")\n",
    "for line in myfile:\n",
    "    print(line)\n",
    "myfile.close()"
   ]
  },
  {
   "cell_type": "markdown",
   "metadata": {},
   "source": []
  },
  {
   "cell_type": "code",
   "execution_count": 28,
   "metadata": {},
   "outputs": [
    {
     "ename": "AttributeError",
     "evalue": "'tuple' object has no attribute 'read'",
     "output_type": "error",
     "traceback": [
      "\u001b[1;31m---------------------------------------------------------------------------\u001b[0m",
      "\u001b[1;31mAttributeError\u001b[0m                            Traceback (most recent call last)",
      "\u001b[1;32m<ipython-input-28-76fa9fca39cd>\u001b[0m in \u001b[0;36m<module>\u001b[1;34m\u001b[0m\n\u001b[0;32m      1\u001b[0m \u001b[0mmyfile\u001b[0m\u001b[1;33m=\u001b[0m\u001b[1;33m(\u001b[0m\u001b[1;34mr\"E:\\\\Ishan\\\\filehandling.txt\"\u001b[0m\u001b[1;33m,\u001b[0m\u001b[1;34m\"r\"\u001b[0m\u001b[1;33m)\u001b[0m\u001b[1;33m\u001b[0m\u001b[1;33m\u001b[0m\u001b[0m\n\u001b[1;32m----> 2\u001b[1;33m \u001b[0ms\u001b[0m\u001b[1;33m=\u001b[0m\u001b[0mmyfile\u001b[0m\u001b[1;33m.\u001b[0m\u001b[0mread\u001b[0m\u001b[1;33m(\u001b[0m\u001b[1;33m)\u001b[0m\u001b[1;33m\u001b[0m\u001b[1;33m\u001b[0m\u001b[0m\n\u001b[0m\u001b[0;32m      3\u001b[0m \u001b[0msize\u001b[0m\u001b[1;33m=\u001b[0m\u001b[0mlen\u001b[0m\u001b[1;33m(\u001b[0m\u001b[0ms\u001b[0m\u001b[1;33m)\u001b[0m\u001b[1;33m\u001b[0m\u001b[1;33m\u001b[0m\u001b[0m\n\u001b[0;32m      4\u001b[0m \u001b[0mprint\u001b[0m\u001b[1;33m(\u001b[0m\u001b[0msize\u001b[0m\u001b[1;33m)\u001b[0m\u001b[1;33m\u001b[0m\u001b[1;33m\u001b[0m\u001b[0m\n",
      "\u001b[1;31mAttributeError\u001b[0m: 'tuple' object has no attribute 'read'"
     ]
    }
   ],
   "source": [
    "myfile=(r\"E:\\\\Ishan\\\\filehandling.txt\",\"r\")\n",
    "s=myfile.read()\n",
    "size=len(s)\n",
    "print(size)"
   ]
  },
  {
   "cell_type": "code",
   "execution_count": 35,
   "metadata": {},
   "outputs": [
    {
     "name": "stdout",
     "output_type": "stream",
     "text": [
      "Enter name: Ina\n",
      "Enter name: Meena\n",
      "Enter name: Dika\n"
     ]
    }
   ],
   "source": [
    "# Writing onto files\n",
    "# <filehandle>.write(str1) # Write string str1 to file referenced by file handle\n",
    "# <filehandle>.writelines(L) # Writes all strings in list L as lines to file\n",
    "# WAP to write 3 names of students on file\n",
    "fileout=open(\"stu.dat\",\"w\")\n",
    "for i in range(3):\n",
    "    name=input(\"Enter name: \")\n",
    "    fileout.write(name)\n",
    "    fileout.write(\"  \")\n",
    "fileout.close()"
   ]
  },
  {
   "cell_type": "code",
   "execution_count": 36,
   "metadata": {},
   "outputs": [
    {
     "name": "stdout",
     "output_type": "stream",
     "text": [
      "Ina  Meena  Dika  \n"
     ]
    }
   ],
   "source": [
    "filein=open(\"stu.dat\",\"r\")\n",
    "print(filein.read())"
   ]
  },
  {
   "cell_type": "code",
   "execution_count": 43,
   "metadata": {},
   "outputs": [
    {
     "name": "stdout",
     "output_type": "stream",
     "text": [
      "Enter name: Indira\n",
      "Enter name: Khushi\n",
      "Enter name: Charvi\n",
      "Enter name: Bansri\n"
     ]
    }
   ],
   "source": [
    "fo=open(\"stu1.txt\",\"w\")\n",
    "list1=[]\n",
    "for i in range(4):\n",
    "    name=input(\"Enter name: \")\n",
    "    list1.append(name+\"\\n\")\n",
    "    fo.writelines(list1)\n",
    "fo.close()"
   ]
  },
  {
   "cell_type": "code",
   "execution_count": 46,
   "metadata": {},
   "outputs": [
    {
     "name": "stdout",
     "output_type": "stream",
     "text": [
      "Indira\n",
      "Indira\n",
      "Khushi\n",
      "Indira\n",
      "Khushi\n",
      "Charvi\n",
      "Indira\n",
      "Khushi\n",
      "Charvi\n",
      "Bansri\n",
      "\n"
     ]
    }
   ],
   "source": [
    "fo=open(\"stu1.txt\",\"r\")\n",
    "print(fo.read())"
   ]
  },
  {
   "cell_type": "code",
   "execution_count": null,
   "metadata": {},
   "outputs": [],
   "source": []
  }
 ],
 "metadata": {
  "kernelspec": {
   "display_name": "Python 3",
   "language": "python",
   "name": "python3"
  },
  "language_info": {
   "codemirror_mode": {
    "name": "ipython",
    "version": 3
   },
   "file_extension": ".py",
   "mimetype": "text/x-python",
   "name": "python",
   "nbconvert_exporter": "python",
   "pygments_lexer": "ipython3",
   "version": "3.7.6"
  }
 },
 "nbformat": 4,
 "nbformat_minor": 4
}
