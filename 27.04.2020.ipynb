{
 "cells": [
  {
   "cell_type": "code",
   "execution_count": 3,
   "metadata": {},
   "outputs": [
    {
     "name": "stdout",
     "output_type": "stream",
     "text": [
      "45\n",
      "56\n",
      "67\n",
      "78\n",
      "89\n",
      "100\n",
      "111\n",
      "106\n",
      "101\n",
      "96\n",
      "107\n",
      "102\n",
      "97\n",
      "108\n",
      "103\n",
      "98\n",
      "109\n",
      "104\n",
      "99\n",
      "110\n",
      "105\n",
      "100\n"
     ]
    }
   ],
   "source": [
    "def fun(n):\n",
    "    print(n)\n",
    "    if n>100:\n",
    "        return n-5\n",
    "    return fun(fun(n+11))\n",
    "print(fun(45))"
   ]
  },
  {
   "cell_type": "code",
   "execution_count": 7,
   "metadata": {},
   "outputs": [
    {
     "name": "stdout",
     "output_type": "stream",
     "text": [
      "Original list is: ['Red', 'Green', 'White', 'Black', 'Pink', 'Yellow']\n",
      "['Red', 'Green', 'Yellow', 'Pink', 'White', 'Black']\n",
      "[10, 20, 30, 55, 99, 1000]\n",
      "[10, 1000, 20, 55, 99, 30]\n"
     ]
    }
   ],
   "source": [
    "from random import shuffle\n",
    "color=[\"Red\",\"Green\",\"White\",\"Black\",\"Pink\",\"Yellow\"]\n",
    "print(\"Original list is:\",color)\n",
    "shuffle(color)\n",
    "print(color)\n",
    "L=[10,20,30,55,99,1000]\n",
    "print(L)\n",
    "shuffle(L)\n",
    "print(L)"
   ]
  },
  {
   "cell_type": "code",
   "execution_count": 11,
   "metadata": {},
   "outputs": [
    {
     "name": "stdout",
     "output_type": "stream",
     "text": [
      "[('a', 'b', 'c'), ('a', 'c', 'b'), ('b', 'a', 'c'), ('b', 'c', 'a'), ('c', 'a', 'b'), ('c', 'b', 'a')]\n"
     ]
    }
   ],
   "source": [
    "import itertools\n",
    "print(list(itertools.permutations('abc')))"
   ]
  },
  {
   "cell_type": "code",
   "execution_count": 12,
   "metadata": {},
   "outputs": [
    {
     "name": "stdout",
     "output_type": "stream",
     "text": [
      "Enter length of list: 6\n",
      "Enter element: 10\n",
      "Enter element: -10\n",
      "Enter element: 20\n",
      "Enter element: -20\n",
      "Enter element: -30\n",
      "Enter element: 100\n",
      "Sum of list is 70\n"
     ]
    }
   ],
   "source": [
    "#WAP to sum all the items in a list\n",
    "def sumlist(L):\n",
    "    ctr=0\n",
    "    for i in L:\n",
    "        ctr+=i\n",
    "    return ctr\n",
    "n=int(input(\"Enter length of list: \"))\n",
    "L=[]\n",
    "for i in range(n):\n",
    "    ele=int(input(\"Enter element: \"))\n",
    "    L.append(ele)\n",
    "print(\"Sum of list is\",sumlist(L))"
   ]
  },
  {
   "cell_type": "code",
   "execution_count": 15,
   "metadata": {},
   "outputs": [
    {
     "name": "stdout",
     "output_type": "stream",
     "text": [
      "Enter length of list: 5\n",
      "Enter element: -200\n",
      "Enter element: 1000\n",
      "Enter element: 1234\n",
      "Enter element: 7890\n",
      "Enter element: 500\n",
      "Largest element is 7890\n"
     ]
    }
   ],
   "source": [
    "#WAP to print the largest number from list\n",
    "def max_list(L):\n",
    "    max=L[0]\n",
    "    for i in L:\n",
    "        if i>max:\n",
    "            max=i\n",
    "    return max\n",
    "n=int(input(\"Enter length of list: \"))\n",
    "L=[]\n",
    "for i in range(n):\n",
    "    ele=int(input(\"Enter element: \"))\n",
    "    L.append(ele)\n",
    "print(\"Largest element is\",max_list(L))"
   ]
  },
  {
   "cell_type": "code",
   "execution_count": 18,
   "metadata": {},
   "outputs": [
    {
     "name": "stdout",
     "output_type": "stream",
     "text": [
      "Enter length of list: 3\n",
      "Enter element: 121\n",
      "Enter element: abc\n",
      "Enter element: ara\n",
      "121\n",
      "ara\n",
      "No. of matched words are 2\n"
     ]
    }
   ],
   "source": [
    "def matchwords(words):\n",
    "    ctr=0\n",
    "    for i in words:\n",
    "        if (len(i)>=2) and (i[0]==i[-1]):\n",
    "            print(i)\n",
    "            ctr+=1\n",
    "    return ctr\n",
    "n=int(input(\"Enter length of list: \"))\n",
    "words=[]\n",
    "for i in range(n):\n",
    "    ele=input(\"Enter element: \")\n",
    "    words.append(ele)\n",
    "print(\"No. of matched words are\",matchwords(words))"
   ]
  },
  {
   "cell_type": "code",
   "execution_count": 19,
   "metadata": {},
   "outputs": [
    {
     "name": "stdout",
     "output_type": "stream",
     "text": [
      "['Python', 'general', 'programming']\n"
     ]
    }
   ],
   "source": [
    "def lw(n,str):\n",
    "    wordlen=[]\n",
    "    txt=str.split(\" \")\n",
    "    for x in txt:\n",
    "        if len(x)>n:\n",
    "            wordlen.append(x)\n",
    "    return wordlen\n",
    "print(lw(4,\"Python is a general purp programming lang\"))"
   ]
  },
  {
   "cell_type": "code",
   "execution_count": 20,
   "metadata": {},
   "outputs": [
    {
     "name": "stdout",
     "output_type": "stream",
     "text": [
      "True\n",
      "True\n"
     ]
    }
   ],
   "source": [
    "def common(L1,L2):\n",
    "    result=False\n",
    "    for x in L1:\n",
    "        for y in L2:\n",
    "            if x==y:\n",
    "                result=True\n",
    "    return result\n",
    "print(common([1,2,3,4],[4,5,6,7]))\n",
    "print(common([1,2,3,'abc'],[4,'abc',5,6,7]))"
   ]
  },
  {
   "cell_type": "code",
   "execution_count": 26,
   "metadata": {},
   "outputs": [
    {
     "name": "stdout",
     "output_type": "stream",
     "text": [
      "[121, 25, 577]\n",
      "[1, 3, 5, 7, 9]\n"
     ]
    }
   ],
   "source": [
    "def deleven(L):\n",
    "    L1=[]\n",
    "    for i in L:\n",
    "        if i%2!=0:\n",
    "            L1.append(i)\n",
    "    return L1\n",
    "print(deleven([4,18,121,25,44,200,577]))\n",
    "num=[1,2,3,4,5,6,7,8,9,10]\n",
    "num=[x for x in num if x%2!=0]\n",
    "print(num)"
   ]
  },
  {
   "cell_type": "code",
   "execution_count": 4,
   "metadata": {},
   "outputs": [
    {
     "name": "stdout",
     "output_type": "stream",
     "text": [
      "[1, 4, 9, 16, 25]\n",
      "[256, 289, 324, 361, 400]\n"
     ]
    }
   ],
   "source": [
    "def square(lower,upper):\n",
    "    L1=[]\n",
    "    L2=[]\n",
    "    for i in range(lower,lower+5):\n",
    "        L1.append(i*i)\n",
    "    print(L1)\n",
    "    for j in range(upper-4,upper+1):\n",
    "        L2.append(j*j)\n",
    "    print(L2)\n",
    "square(1,20)"
   ]
  },
  {
   "cell_type": "code",
   "execution_count": 31,
   "metadata": {},
   "outputs": [
    {
     "name": "stdout",
     "output_type": "stream",
     "text": [
      "DPS\n"
     ]
    }
   ],
   "source": [
    "def lsttostr(L):\n",
    "    string=\"\"\n",
    "    for i in L:\n",
    "        string+=i\n",
    "    return string\n",
    "print(lsttostr(['D','P','S']))"
   ]
  },
  {
   "cell_type": "code",
   "execution_count": 3,
   "metadata": {},
   "outputs": [
    {
     "name": "stdout",
     "output_type": "stream",
     "text": [
      "DPS\n"
     ]
    }
   ],
   "source": [
    "def ltostr(L):\n",
    "    return \"\".join(L)\n",
    "print(ltostr(['D','P','S']))"
   ]
  }
 ],
 "metadata": {
  "kernelspec": {
   "display_name": "Python 3",
   "language": "python",
   "name": "python3"
  },
  "language_info": {
   "codemirror_mode": {
    "name": "ipython",
    "version": 3
   },
   "file_extension": ".py",
   "mimetype": "text/x-python",
   "name": "python",
   "nbconvert_exporter": "python",
   "pygments_lexer": "ipython3",
   "version": "3.7.6"
  }
 },
 "nbformat": 4,
 "nbformat_minor": 4
}
