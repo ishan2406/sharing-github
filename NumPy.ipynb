{
 "cells": [
  {
   "cell_type": "code",
   "execution_count": 3,
   "metadata": {},
   "outputs": [
    {
     "name": "stdout",
     "output_type": "stream",
     "text": [
      "[ 1  3  5  7 11 13 17]\n"
     ]
    }
   ],
   "source": [
    "import numpy as np\n",
    "A1=[1,3,5,7,11,13,17]\n",
    "a=np.array(A1)\n",
    "print(a)"
   ]
  },
  {
   "cell_type": "code",
   "execution_count": 6,
   "metadata": {},
   "outputs": [
    {
     "name": "stdout",
     "output_type": "stream",
     "text": [
      "[[10 20]\n",
      " [30 40]\n",
      " [11 22]\n",
      " [44 88]]\n",
      "([10, 20], [30, 40], [11, 22], [44, 88])\n"
     ]
    }
   ],
   "source": [
    "A2=[10,20],[30,40],[11,22],[44,88]\n",
    "b=np.array(A2)\n",
    "print(b)\n",
    "print(A2)"
   ]
  },
  {
   "cell_type": "code",
   "execution_count": 7,
   "metadata": {},
   "outputs": [
    {
     "data": {
      "text/plain": [
       "1"
      ]
     },
     "execution_count": 7,
     "metadata": {},
     "output_type": "execute_result"
    }
   ],
   "source": [
    "a.ndim"
   ]
  },
  {
   "cell_type": "code",
   "execution_count": 8,
   "metadata": {},
   "outputs": [
    {
     "data": {
      "text/plain": [
       "2"
      ]
     },
     "execution_count": 8,
     "metadata": {},
     "output_type": "execute_result"
    }
   ],
   "source": [
    "b.ndim"
   ]
  },
  {
   "cell_type": "code",
   "execution_count": 9,
   "metadata": {},
   "outputs": [
    {
     "data": {
      "text/plain": [
       "4"
      ]
     },
     "execution_count": 9,
     "metadata": {},
     "output_type": "execute_result"
    }
   ],
   "source": [
    "a.itemsize"
   ]
  },
  {
   "cell_type": "code",
   "execution_count": 10,
   "metadata": {},
   "outputs": [
    {
     "data": {
      "text/plain": [
       "4"
      ]
     },
     "execution_count": 10,
     "metadata": {},
     "output_type": "execute_result"
    }
   ],
   "source": [
    "b.itemsize"
   ]
  },
  {
   "cell_type": "code",
   "execution_count": 11,
   "metadata": {},
   "outputs": [
    {
     "data": {
      "text/plain": [
       "8"
      ]
     },
     "execution_count": 11,
     "metadata": {},
     "output_type": "execute_result"
    }
   ],
   "source": [
    "c=np.array([1.2,4.5,6.7,8.9,3,5])\n",
    "c.itemsize"
   ]
  },
  {
   "cell_type": "code",
   "execution_count": 12,
   "metadata": {},
   "outputs": [
    {
     "data": {
      "text/plain": [
       "dtype('int32')"
      ]
     },
     "execution_count": 12,
     "metadata": {},
     "output_type": "execute_result"
    }
   ],
   "source": [
    "b.dtype"
   ]
  },
  {
   "cell_type": "code",
   "execution_count": 13,
   "metadata": {},
   "outputs": [
    {
     "data": {
      "text/plain": [
       "dtype('float64')"
      ]
     },
     "execution_count": 13,
     "metadata": {},
     "output_type": "execute_result"
    }
   ],
   "source": [
    "c.dtype"
   ]
  },
  {
   "cell_type": "code",
   "execution_count": 18,
   "metadata": {},
   "outputs": [
    {
     "data": {
      "text/plain": [
       "array([0.0000000e+000, 0.0000000e+000, 0.0000000e+000, 5.0197070e-321,\n",
       "       7.5660388e-307])"
      ]
     },
     "execution_count": 18,
     "metadata": {},
     "output_type": "execute_result"
    }
   ],
   "source": [
    "e=np.empty(5)\n",
    "e"
   ]
  },
  {
   "cell_type": "code",
   "execution_count": 19,
   "metadata": {},
   "outputs": [
    {
     "data": {
      "text/plain": [
       "array([0, 0, 0, 0, 0])"
      ]
     },
     "execution_count": 19,
     "metadata": {},
     "output_type": "execute_result"
    }
   ],
   "source": [
    "ei=np.empty(5,dtype=np.int)\n",
    "ei"
   ]
  },
  {
   "cell_type": "code",
   "execution_count": 20,
   "metadata": {},
   "outputs": [
    {
     "data": {
      "text/plain": [
       "array([0.61345281, 0.13827599, 0.14521748, 0.35086259, 0.54638263,\n",
       "       0.55097762])"
      ]
     },
     "execution_count": 20,
     "metadata": {},
     "output_type": "execute_result"
    }
   ],
   "source": [
    "er=np.random.random(6)\n",
    "er"
   ]
  },
  {
   "cell_type": "code",
   "execution_count": 5,
   "metadata": {},
   "outputs": [
    {
     "name": "stdout",
     "output_type": "stream",
     "text": [
      "[[-1  4  0  5]\n",
      " [ 3  6  8 -2]\n",
      " [ 3  4  7 -1]\n",
      " [-7 -2  9  0]]\n",
      "[[-1  0]\n",
      " [ 3  8]\n",
      " [ 3  7]\n",
      " [-7  9]]\n",
      "\n",
      "Transpose of array\n",
      "[[-1  3  3 -7]\n",
      " [ 4  6  4 -2]\n",
      " [ 0  8  7  9]\n",
      " [ 5 -2 -1  0]]\n"
     ]
    }
   ],
   "source": [
    "import numpy as np\n",
    "arr=np.array([[-1,4,0,5],\n",
    "             [3,6,8,-2],\n",
    "             [3,4,7,-1],\n",
    "             [-7,-2,9,0]])\n",
    "print(arr)\n",
    "t=arr[::,::2]    #1st part is rows & 2nd part is columns\n",
    "print(t)\n",
    "print()\n",
    "print(\"Transpose of array\")\n",
    "print(arr.T)"
   ]
  },
  {
   "cell_type": "code",
   "execution_count": 9,
   "metadata": {},
   "outputs": [
    {
     "name": "stdout",
     "output_type": "stream",
     "text": [
      "[100 566  79  96]\n",
      "[453 566 100  95]\n"
     ]
    }
   ],
   "source": [
    "arr=np.array([[-10,43,100,59],\n",
    "             [453,566,18,-92],\n",
    "             [43,46,79,-11],\n",
    "             [-57,-62,96,95]])\n",
    "print(arr.max(axis=1))\n",
    "print(arr.max(axis=0))"
   ]
  },
  {
   "cell_type": "code",
   "execution_count": 15,
   "metadata": {},
   "outputs": [
    {
     "name": "stdout",
     "output_type": "stream",
     "text": [
      "66\n",
      "[[-1  3 13 18]\n",
      " [ 3  9 17 19]\n",
      " [ 3  7 14 15]\n",
      " [ 7  5 14 14]]\n",
      "[[-1  4 10  5]\n",
      " [ 2 10 18  7]\n",
      " [ 5 14 25  8]\n",
      " [12 12 34  8]]\n"
     ]
    }
   ],
   "source": [
    "arr=np.array([[-1,4,10,5],\n",
    "             [3,6,8,2],\n",
    "             [3,4,7,1],\n",
    "             [7,-2,9,0]])\n",
    "print(arr.sum())\n",
    "print(arr.cumsum(axis=1))    #axis=1 for rows\n",
    "print(arr.cumsum(axis=0))    #axis=0 for columns"
   ]
  },
  {
   "cell_type": "code",
   "execution_count": 17,
   "metadata": {},
   "outputs": [
    {
     "name": "stdout",
     "output_type": "stream",
     "text": [
      "[-2 -1  0  1  2  3  3  4  4  5  6  7  7  8  9 10]\n",
      "[[-1 -2  7  0]\n",
      " [ 3  4  8  1]\n",
      " [ 3  4  9  2]\n",
      " [ 7  6 10  5]]\n",
      "[[-1  4  5 10]\n",
      " [ 2  3  6  8]\n",
      " [ 1  3  4  7]\n",
      " [-2  0  7  9]]\n"
     ]
    }
   ],
   "source": [
    "print(np.sort(arr,axis=None))\n",
    "print(np.sort(arr,axis=0))    #For columns\n",
    "print(np.sort(arr,axis=1))    #For rows"
   ]
  },
  {
   "cell_type": "code",
   "execution_count": 18,
   "metadata": {},
   "outputs": [
    {
     "name": "stdout",
     "output_type": "stream",
     "text": [
      "[[-1  4  5 10]\n",
      " [ 2  3  6  8]\n",
      " [ 1  3  4  7]\n",
      " [-2  0  7  9]]\n"
     ]
    }
   ],
   "source": [
    "print(np.sort(arr))    #By default considers row"
   ]
  },
  {
   "cell_type": "code",
   "execution_count": 19,
   "metadata": {},
   "outputs": [
    {
     "name": "stdout",
     "output_type": "stream",
     "text": [
      "2\n"
     ]
    }
   ],
   "source": [
    "print(arr[1,-1])"
   ]
  },
  {
   "cell_type": "code",
   "execution_count": 22,
   "metadata": {},
   "outputs": [
    {
     "name": "stdout",
     "output_type": "stream",
     "text": [
      "[array([ 12,  45, 213]), array([56, 78, 34]), array([67, 90, 78])]\n"
     ]
    },
    {
     "data": {
      "text/plain": [
       "3"
      ]
     },
     "execution_count": 22,
     "metadata": {},
     "output_type": "execute_result"
    }
   ],
   "source": [
    "a=np.array([12,45,213,56,78,34,67,90,78])\n",
    "newarr=np.array_split(a,3)\n",
    "print(newarr)\n",
    "len(newarr)"
   ]
  },
  {
   "cell_type": "code",
   "execution_count": 28,
   "metadata": {},
   "outputs": [
    {
     "name": "stdout",
     "output_type": "stream",
     "text": [
      "(array([1, 6], dtype=int32),)\n"
     ]
    }
   ],
   "source": [
    "arr=np.array([1,3,4,2,4,5,3,4])\n",
    "x=np.where(arr==3)\n",
    "print(x)"
   ]
  },
  {
   "cell_type": "code",
   "execution_count": 29,
   "metadata": {},
   "outputs": [
    {
     "name": "stdout",
     "output_type": "stream",
     "text": [
      "4\n"
     ]
    }
   ],
   "source": [
    "arr=np.array([1,3,4,5,7,8,10])\n",
    "x=np.searchsorted(arr,7)\n",
    "print(x)"
   ]
  },
  {
   "cell_type": "code",
   "execution_count": 30,
   "metadata": {},
   "outputs": [
    {
     "name": "stdout",
     "output_type": "stream",
     "text": [
      "[  9  12  34  56 560]\n"
     ]
    }
   ],
   "source": [
    "ar=np.array([34,56,12,9,560])\n",
    "print(np.sort(ar))"
   ]
  },
  {
   "cell_type": "code",
   "execution_count": 31,
   "metadata": {},
   "outputs": [
    {
     "name": "stdout",
     "output_type": "stream",
     "text": [
      "['apple' 'banana' 'cherry' 'mango']\n"
     ]
    }
   ],
   "source": [
    "ach=np.array([\"mango\",\"cherry\",\"banana\",\"apple\"])\n",
    "print(np.sort(ach))"
   ]
  },
  {
   "cell_type": "code",
   "execution_count": 35,
   "metadata": {},
   "outputs": [
    {
     "name": "stdout",
     "output_type": "stream",
     "text": [
      "[0 1 1 2 4 5]\n"
     ]
    }
   ],
   "source": [
    "arr=np.array([[1,2,4],[5,0,1]])\n",
    "print(np.sort(arr,axis=None))"
   ]
  },
  {
   "cell_type": "code",
   "execution_count": null,
   "metadata": {},
   "outputs": [],
   "source": []
  }
 ],
 "metadata": {
  "kernelspec": {
   "display_name": "Python 3",
   "language": "python",
   "name": "python3"
  },
  "language_info": {
   "codemirror_mode": {
    "name": "ipython",
    "version": 3
   },
   "file_extension": ".py",
   "mimetype": "text/x-python",
   "name": "python",
   "nbconvert_exporter": "python",
   "pygments_lexer": "ipython3",
   "version": "3.7.6"
  }
 },
 "nbformat": 4,
 "nbformat_minor": 4
}
