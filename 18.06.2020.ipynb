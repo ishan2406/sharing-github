{
 "cells": [
  {
   "cell_type": "code",
   "execution_count": 14,
   "metadata": {},
   "outputs": [
    {
     "name": "stdout",
     "output_type": "stream",
     "text": [
      "Computer\n",
      "English\n",
      "\n"
     ]
    }
   ],
   "source": [
    "lst1=[\"Computer\\n\",\"English\\n\"]\n",
    "f=open(\"tt.txt\",\"a\")\n",
    "f.writelines(lst1)\n",
    "f.close()\n",
    "f=open(\"tt.txt\")\n",
    "print(f.read())\n",
    "f.close()"
   ]
  },
  {
   "cell_type": "code",
   "execution_count": 10,
   "metadata": {},
   "outputs": [],
   "source": [
    "import os\n",
    "os.remove(\"tt.txt\")"
   ]
  },
  {
   "cell_type": "code",
   "execution_count": 5,
   "metadata": {},
   "outputs": [
    {
     "name": "stdout",
     "output_type": "stream",
     "text": [
      "['Rohan', 'Sohan', 'Mohan', 'Raju', 'Dev']\n",
      "[10, 20, 30, 40, 50]\n",
      "{'Phy': 35, 'Chem': 35, 'Maths': 40, 'English': 40, 'CS': 35}\n"
     ]
    }
   ],
   "source": [
    "import pickle\n",
    "d={\"Phy\":35,\"Chem\":35,\"Maths\":40,\"English\":40,\"CS\":35}\n",
    "lst=[\"Rohan\",\"Sohan\",\"Mohan\",\"Raju\",\"Dev\"]\n",
    "mk=[10,20,30,40,50]\n",
    "bin1=open(\"expect.dat\",\"wb\")\n",
    "pickle.dump(lst,bin1)\n",
    "pickle.dump(mk,bin1)\n",
    "pickle.dump(d,bin1)\n",
    "bin1.close()\n",
    "bin1=open(\"expect.dat\",\"rb\")\n",
    "try:\n",
    "    while True:\n",
    "        a=pickle.load(bin1)\n",
    "        print(a)\n",
    "except:\n",
    "    bin1.close()"
   ]
  },
  {
   "cell_type": "code",
   "execution_count": 18,
   "metadata": {},
   "outputs": [
    {
     "name": "stdout",
     "output_type": "stream",
     "text": [
      "Ek tha raja\n",
      "Ek thi rani\n",
      "Dono mar gaye\n",
      "Khatam kahaniThe EndGo homeThe EndGo home\n"
     ]
    }
   ],
   "source": [
    "f=open(r\"C:\\Users\\Krishna\\Desktop\\XII A\\Misc\\story.txt\",\"r\")\n",
    "print(f.read())\n",
    "f.close()"
   ]
  },
  {
   "cell_type": "code",
   "execution_count": 21,
   "metadata": {},
   "outputs": [
    {
     "name": "stdout",
     "output_type": "stream",
     "text": [
      "Ek tha raja\n",
      "Ek thi rani\n",
      "Total lines starting with E are 2\n"
     ]
    }
   ],
   "source": [
    "def dispE():\n",
    "    f=open(r\"C:\\Users\\Krishna\\Desktop\\XII A\\Misc\\story.txt\",\"r\")\n",
    "    lines=0\n",
    "    l=f.readlines()\n",
    "    for i in l:\n",
    "        if i[0]==\"E\":\n",
    "            lines+=1\n",
    "            print(i,end=\"\")\n",
    "    print(\"Total lines starting with E are\",lines)\n",
    "    f.close()\n",
    "dispE()"
   ]
  },
  {
   "cell_type": "code",
   "execution_count": 23,
   "metadata": {},
   "outputs": [
    {
     "name": "stdout",
     "output_type": "stream",
     "text": [
      "Ek tha raja\n",
      "\n",
      "Ek thi rani\n",
      "\n"
     ]
    }
   ],
   "source": [
    "def dispE():\n",
    "    f=open(r\"C:\\Users\\Krishna\\Desktop\\XII A\\Misc\\story.txt\",\"r\")\n",
    "    l=f.readline()\n",
    "    while l:\n",
    "        if l[0]==\"E\":\n",
    "            print(l)\n",
    "        l=f.readline()\n",
    "    f.close()\n",
    "dispE()"
   ]
  },
  {
   "cell_type": "code",
   "execution_count": 1,
   "metadata": {},
   "outputs": [
    {
     "name": "stdout",
     "output_type": "stream",
     "text": [
      "Enter line: Today is Friday\n",
      "Enter y to continue: y\n",
      "Enter line: It is the month of June\n",
      "Enter y to continue: n\n",
      "Today is Friday\n",
      "It is the month of June\n",
      "\n"
     ]
    }
   ],
   "source": [
    "#Write a method to write multiple lines of contents to a text file\n",
    "def write():\n",
    "    with open(\"today.txt\",\"w\") as f:\n",
    "        ans=\"y\"\n",
    "        while ans==\"y\":\n",
    "            line=input(\"Enter line: \")\n",
    "            f.write(line)\n",
    "            f.write(\"\\n\")\n",
    "            ans=input(\"Enter y to continue: \")\n",
    "    with open(\"today.txt\",\"r\") as f:\n",
    "        print(f.read())\n",
    "write()"
   ]
  },
  {
   "cell_type": "code",
   "execution_count": 29,
   "metadata": {},
   "outputs": [
    {
     "name": "stdout",
     "output_type": "stream",
     "text": [
      "Today is Thursday\n",
      "Today is a wonderful day\n",
      "\n"
     ]
    }
   ],
   "source": [
    "with open(\"today.txt\",\"r\") as f:\n",
    "    print(f.read())    "
   ]
  },
  {
   "cell_type": "code",
   "execution_count": null,
   "metadata": {},
   "outputs": [],
   "source": []
  }
 ],
 "metadata": {
  "kernelspec": {
   "display_name": "Python 3",
   "language": "python",
   "name": "python3"
  },
  "language_info": {
   "codemirror_mode": {
    "name": "ipython",
    "version": 3
   },
   "file_extension": ".py",
   "mimetype": "text/x-python",
   "name": "python",
   "nbconvert_exporter": "python",
   "pygments_lexer": "ipython3",
   "version": "3.7.6"
  }
 },
 "nbformat": 4,
 "nbformat_minor": 4
}
