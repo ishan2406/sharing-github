{
 "cells": [
  {
   "cell_type": "code",
   "execution_count": 1,
   "metadata": {},
   "outputs": [
    {
     "name": "stdout",
     "output_type": "stream",
     "text": [
      "('abc', 2, 3)\n",
      "abc 5\n"
     ]
    }
   ],
   "source": [
    "#Unpacking tuple\n",
    "tuplex = 'abc',2,3\n",
    "print(tuplex)\n",
    "n1,n2,n3 = tuplex\n",
    "print(n1,n2+n3)"
   ]
  },
  {
   "cell_type": "code",
   "execution_count": 2,
   "metadata": {},
   "outputs": [
    {
     "name": "stdout",
     "output_type": "stream",
     "text": [
      "False\n",
      "True\n"
     ]
    }
   ],
   "source": [
    "#To check ele in tuple\n",
    "tuplex = (\"P\",\"y\",\"T\",\"H\",\"o\",\"n\",3,5,7)\n",
    "print(\"h\" in tuplex)\n",
    "print(5 in tuplex)"
   ]
  },
  {
   "cell_type": "code",
   "execution_count": 3,
   "metadata": {},
   "outputs": [
    {
     "name": "stdout",
     "output_type": "stream",
     "text": [
      "[5, 10, 7, 4, 15, 3]\n",
      "(5, 10, 7, 4, 15, 3)\n"
     ]
    }
   ],
   "source": [
    "#List to tuple\n",
    "LIST = [5,10,7,4,15,3]\n",
    "print(LIST)\n",
    "TUP = tuple(LIST)\n",
    "print(TUP)"
   ]
  },
  {
   "cell_type": "code",
   "execution_count": 4,
   "metadata": {},
   "outputs": [
    {
     "name": "stdout",
     "output_type": "stream",
     "text": [
      "{'Name': 'Amit', 'Age': 45, 'Job': 'Service'}\n"
     ]
    }
   ],
   "source": [
    "tup = ((\"Name\",\"Amit\"),(\"Age\",45),(\"Job\",\"Service\"))\n",
    "print(dict((x,y) for x,y in tup))"
   ]
  },
  {
   "cell_type": "code",
   "execution_count": 5,
   "metadata": {},
   "outputs": [
    {
     "name": "stdout",
     "output_type": "stream",
     "text": [
      "('n', 'o', 'h', 't', 'y', 'P')\n",
      "(20, 15, 10, 5)\n"
     ]
    }
   ],
   "source": [
    "x = (\"Python\")\n",
    "#Reversed the tuple\n",
    "y = reversed(x)\n",
    "print(tuple(y))\n",
    "#Create another tuple\n",
    "x = (5,10,15,20)\n",
    "#Reversed the tuple\n",
    "y = reversed(x)\n",
    "print(tuple(y))"
   ]
  },
  {
   "cell_type": "code",
   "execution_count": 6,
   "metadata": {},
   "outputs": [
    {
     "name": "stdout",
     "output_type": "stream",
     "text": [
      "('language', 'is a', 'Python')\n"
     ]
    }
   ],
   "source": [
    "#Without using function\n",
    "aTuple=(\"Python\",\"is a\",\"language\")\n",
    "aTuple=aTuple[::-1]\n",
    "print(aTuple)"
   ]
  },
  {
   "cell_type": "code",
   "execution_count": 7,
   "metadata": {},
   "outputs": [
    {
     "name": "stdout",
     "output_type": "stream",
     "text": [
      "llA olleH\n"
     ]
    }
   ],
   "source": [
    "#Using user defined write str_rev(s) to reverse string\n",
    "def str_rev(str1):\n",
    "    rstr=\"\"\n",
    "    index=len(str1)\n",
    "    while index>0:\n",
    "        rstr+=str1[index-1]\n",
    "        index=index-1\n",
    "    return rstr\n",
    "print(str_rev(\"Hello All\"))"
   ]
  },
  {
   "cell_type": "code",
   "execution_count": 8,
   "metadata": {},
   "outputs": [
    {
     "name": "stdout",
     "output_type": "stream",
     "text": [
      "20\n"
     ]
    }
   ],
   "source": [
    "#Access value 20 from the following tuple\n",
    "aTup=(\"Mango\",[10,20,30],(5,15,25))\n",
    "print(aTup[1][1])"
   ]
  },
  {
   "cell_type": "code",
   "execution_count": 9,
   "metadata": {},
   "outputs": [
    {
     "name": "stdout",
     "output_type": "stream",
     "text": [
      "(50,)\n"
     ]
    }
   ],
   "source": [
    "#Create a tuplr using single item 50\n",
    "t=(50,)\n",
    "print(t)"
   ]
  },
  {
   "cell_type": "code",
   "execution_count": 10,
   "metadata": {},
   "outputs": [
    {
     "name": "stdout",
     "output_type": "stream",
     "text": [
      "Originally t1 is (80, 90) and t2 is (11, 22)\n",
      "After swapping t1 is (11, 22) and t2 is (80, 90)\n"
     ]
    }
   ],
   "source": [
    "#Swap 2 tuples\n",
    "t1=(80,90)\n",
    "t2=(11,22)\n",
    "print(\"Originally t1 is\",t1,\"and t2 is\",t2)\n",
    "t1,t2=t2,t1\n",
    "print(\"After swapping t1 is\",t1,\"and t2 is\",t2)"
   ]
  },
  {
   "cell_type": "code",
   "execution_count": 11,
   "metadata": {},
   "outputs": [
    {
     "name": "stdout",
     "output_type": "stream",
     "text": [
      "(44, 55)\n"
     ]
    }
   ],
   "source": [
    "#Copy element 44 & 55 from tuple into a new tuple\n",
    "t1=(11,22,33,44,55,66)\n",
    "t2=t1[3:-1]\n",
    "print(t2)"
   ]
  },
  {
   "cell_type": "code",
   "execution_count": 12,
   "metadata": {},
   "outputs": [
    {
     "name": "stdout",
     "output_type": "stream",
     "text": [
      "(11, [222, 33], 44, 55)\n"
     ]
    }
   ],
   "source": [
    "#Modify the first item (22) of the list inside a following tuple 222\n",
    "tuple1=(11,[22,33],44,55)\n",
    "tuple1[1][0]=222\n",
    "print(tuple1)"
   ]
  },
  {
   "cell_type": "code",
   "execution_count": 13,
   "metadata": {},
   "outputs": [
    {
     "name": "stdout",
     "output_type": "stream",
     "text": [
      "['abc', 'pqr', '1']\n"
     ]
    }
   ],
   "source": [
    "#WAF that takes list and return unique elements of list\n",
    "def unique(L):\n",
    "    uniq=[]\n",
    "    for i in L:\n",
    "        if i not in uniq:\n",
    "            uniq.append(i)\n",
    "    return uniq\n",
    "l=[1,2,2,3,3,3,4,4,4,4,4,4,5,6,6,6,6,6,6,10]\n",
    "print(unique([\"abc\",\"pqr\",\"abc\",\"1\"]))"
   ]
  },
  {
   "cell_type": "code",
   "execution_count": 14,
   "metadata": {},
   "outputs": [
    {
     "name": "stdout",
     "output_type": "stream",
     "text": [
      "Enter number: 6\n",
      "6 is a perfect number\n"
     ]
    }
   ],
   "source": [
    "#WAF to check whether a number is perfect or not i.e. sum of divisor of that number equal to that number\n",
    "#Eg:1+2+3=6 ; 1+2+4+7+14=28\n",
    "def perfect(n):\n",
    "    ctr=0\n",
    "    for i in range(1,n):\n",
    "        if n%i==0:\n",
    "            ctr+=i\n",
    "    return ctr==n\n",
    "n=int(input(\"Enter number: \"))\n",
    "if perfect(n)==True:\n",
    "    print(n,\"is a perfect number\")\n",
    "else:\n",
    "    print(n,\"is not a perfect number\")"
   ]
  },
  {
   "cell_type": "code",
   "execution_count": null,
   "metadata": {},
   "outputs": [],
   "source": []
  }
 ],
 "metadata": {
  "kernelspec": {
   "display_name": "Python 3",
   "language": "python",
   "name": "python3"
  },
  "language_info": {
   "codemirror_mode": {
    "name": "ipython",
    "version": 3
   },
   "file_extension": ".py",
   "mimetype": "text/x-python",
   "name": "python",
   "nbconvert_exporter": "python",
   "pygments_lexer": "ipython3",
   "version": "3.7.6"
  }
 },
 "nbformat": 4,
 "nbformat_minor": 4
}
