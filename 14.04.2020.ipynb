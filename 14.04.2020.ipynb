{
 "cells": [
  {
   "cell_type": "code",
   "execution_count": 1,
   "metadata": {},
   "outputs": [
    {
     "name": "stdout",
     "output_type": "stream",
     "text": [
      "Enter rno: 1\n",
      "Enter name: Amit\n",
      "Enter marks: 45\n",
      "Enter marks: 56\n",
      "Enter marks: 67\n"
     ]
    }
   ],
   "source": [
    "import pickle\n",
    "f=open(\"stud.dat\",\"wb\")\n",
    "l=[]\n",
    "r=int(input(\"Enter rno: \"))\n",
    "l.append(r)\n",
    "n=input(\"Enter name: \")\n",
    "l.append(n)\n",
    "mk=[]\n",
    "for i in range(3):\n",
    "    a=float(input(\"Enter marks: \"))\n",
    "    mk.append(a)\n",
    "l.append(mk)\n",
    "pickle.dump(l,f)\n",
    "f.close()"
   ]
  },
  {
   "cell_type": "code",
   "execution_count": 2,
   "metadata": {},
   "outputs": [
    {
     "name": "stdout",
     "output_type": "stream",
     "text": [
      "[1, 'Amit', [45.0, 56.0, 67.0]]\n"
     ]
    }
   ],
   "source": [
    "import pickle\n",
    "f=open(\"stud.dat\",\"rb\")\n",
    "try:\n",
    "    while True:\n",
    "        s=pickle.load(f)\n",
    "        print(s)\n",
    "except:\n",
    "    f.close()"
   ]
  },
  {
   "cell_type": "code",
   "execution_count": 1,
   "metadata": {},
   "outputs": [
    {
     "name": "stdout",
     "output_type": "stream",
     "text": [
      "Enter roll number: 1\n",
      "Roll number exists... Enter new...\n",
      "Enter y to continue:n\n"
     ]
    }
   ],
   "source": [
    "#Program that checks if rno exists don't allow to enter\n",
    "import pickle\n",
    "ans=\"y\"\n",
    "while ans==\"y\":\n",
    "    L=[]\n",
    "    roll=int(input(\"Enter roll number: \"))\n",
    "    try:\n",
    "        exists=0\n",
    "        f=open(\"stud.dat\",\"rb\")\n",
    "        while True:\n",
    "            s=pickle.load(f)\n",
    "            if s[0]==roll:\n",
    "                print(\"Roll number exists... Enter new...\")\n",
    "                exists=1\n",
    "                break\n",
    "    except EOFError:\n",
    "        f.close()\n",
    "    if exists==0:\n",
    "        L.append(roll)\n",
    "        f=open(\"stud.dat\",\"ab+\")\n",
    "        name=input(\"Enter name: \")\n",
    "        L.append(name)\n",
    "        marks=[]\n",
    "        for i in range(0,3):\n",
    "            m=float(input(\"Enter marks:\"))\n",
    "            marks.append(m)\n",
    "        L.append(marks)\n",
    "        pickle.dump(L,f)\n",
    "    ans=input(\"Enter y to continue:\")\n",
    "f.close()"
   ]
  },
  {
   "cell_type": "code",
   "execution_count": 14,
   "metadata": {},
   "outputs": [
    {
     "name": "stdout",
     "output_type": "stream",
     "text": [
      "[1, 'Amit', [97.0, 98.0, 99.0]]\n",
      "[2, 'Sumit', [56.0, 66.0, 77.0]]\n",
      "[3, 'Ramit', [89.0, 91.0, 78.0]]\n",
      "[4, 'Shiny', [45.0, 55.0, 65.0]]\n"
     ]
    }
   ],
   "source": [
    "import pickle\n",
    "f=open(\"Stud.dat\",\"rb\")\n",
    "try:\n",
    "    while True:\n",
    "        s=pickle.load(f)\n",
    "        print(s)\n",
    "except EOFError:\n",
    "    f.close()"
   ]
  },
  {
   "cell_type": "code",
   "execution_count": 13,
   "metadata": {},
   "outputs": [
    {
     "name": "stdout",
     "output_type": "stream",
     "text": [
      "Enter roll number to be deleted: 5\n"
     ]
    }
   ],
   "source": [
    "#Deleting record from file\n",
    "import os\n",
    "import pickle\n",
    "roll=int(input(\"Enter roll number to be deleted: \"))\n",
    "fin=open(\"stud.dat\",\"rb\")\n",
    "fout=open(\"temp.dat\",\"wb\")\n",
    "try:\n",
    "    while True:\n",
    "        a=pickle.load(fin)\n",
    "        if a[0]!=roll:\n",
    "            pickle.dump(a,fout)\n",
    "except:\n",
    "    fin.close()\n",
    "    fout.close()\n",
    "os.remove(\"stud.dat\")\n",
    "os.rename(\"temp.dat\",\"stud.dat\")"
   ]
  },
  {
   "cell_type": "code",
   "execution_count": null,
   "metadata": {},
   "outputs": [],
   "source": []
  },
  {
   "cell_type": "code",
   "execution_count": null,
   "metadata": {},
   "outputs": [],
   "source": []
  }
 ],
 "metadata": {
  "kernelspec": {
   "display_name": "Python 3",
   "language": "python",
   "name": "python3"
  },
  "language_info": {
   "codemirror_mode": {
    "name": "ipython",
    "version": 3
   },
   "file_extension": ".py",
   "mimetype": "text/x-python",
   "name": "python",
   "nbconvert_exporter": "python",
   "pygments_lexer": "ipython3",
   "version": "3.7.6"
  }
 },
 "nbformat": 4,
 "nbformat_minor": 4
}
