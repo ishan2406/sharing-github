{
 "cells": [
  {
   "cell_type": "code",
   "execution_count": 2,
   "metadata": {},
   "outputs": [
    {
     "name": "stdout",
     "output_type": "stream",
     "text": [
      "Now opening the url https://www.python.org/\n",
      "Headers are Connection: close\n",
      "Content-Length: 48850\n",
      "Server: nginx\n",
      "Content-Type: text/html; charset=utf-8\n",
      "X-Frame-Options: DENY\n",
      "Via: 1.1 vegur\n",
      "Via: 1.1 varnish\n",
      "Accept-Ranges: bytes\n",
      "Date: Wed, 01 Apr 2020 05:38:17 GMT\n",
      "Via: 1.1 varnish\n",
      "Age: 776\n",
      "X-Served-By: cache-bwi5135-BWI, cache-maa18326-MAA\n",
      "X-Cache: HIT, HIT\n",
      "X-Cache-Hits: 1, 4\n",
      "X-Timer: S1585719497.299974,VS0,VE0\n",
      "Vary: Cookie\n",
      "Strict-Transport-Security: max-age=63072000; includeSubDomains\n",
      "\n",
      "\n",
      "\n",
      "\n",
      "Information is: Connection: close\n",
      "Content-Length: 48850\n",
      "Server: nginx\n",
      "Content-Type: text/html; charset=utf-8\n",
      "X-Frame-Options: DENY\n",
      "Via: 1.1 vegur\n",
      "Via: 1.1 varnish\n",
      "Accept-Ranges: bytes\n",
      "Date: Wed, 01 Apr 2020 05:38:17 GMT\n",
      "Via: 1.1 varnish\n",
      "Age: 776\n",
      "X-Served-By: cache-bwi5135-BWI, cache-maa18326-MAA\n",
      "X-Cache: HIT, HIT\n",
      "X-Cache-Hits: 1, 4\n",
      "X-Timer: S1585719497.299974,VS0,VE0\n",
      "Vary: Cookie\n",
      "Strict-Transport-Security: max-age=63072000; includeSubDomains\n",
      "\n",
      "\n"
     ]
    },
    {
     "data": {
      "text/plain": [
       "True"
      ]
     },
     "execution_count": 2,
     "metadata": {},
     "output_type": "execute_result"
    }
   ],
   "source": [
    "import urllib\n",
    "import webbrowser\n",
    "wl=urllib.request.urlopen(\"http://python.org\")\n",
    "url=wl.geturl() #Should write this statement\n",
    "print(\"Now opening the url\",url)\n",
    "print(\"Headers are\",wl.headers)\n",
    "print(\"\\n\\nInformation is:\",wl.info())\n",
    "webbrowser.open_new(url)"
   ]
  },
  {
   "cell_type": "code",
   "execution_count": 3,
   "metadata": {},
   "outputs": [
    {
     "data": {
      "text/plain": [
       "['C:\\\\Users\\\\Ishan\\\\OneDrive\\\\Desktop\\\\Jupyter',\n",
       " 'C:\\\\Users\\\\Ishan\\\\anaconda3\\\\python37.zip',\n",
       " 'C:\\\\Users\\\\Ishan\\\\anaconda3\\\\DLLs',\n",
       " 'C:\\\\Users\\\\Ishan\\\\anaconda3\\\\lib',\n",
       " 'C:\\\\Users\\\\Ishan\\\\anaconda3',\n",
       " '',\n",
       " 'C:\\\\Users\\\\Ishan\\\\anaconda3\\\\lib\\\\site-packages',\n",
       " 'C:\\\\Users\\\\Ishan\\\\anaconda3\\\\lib\\\\site-packages\\\\win32',\n",
       " 'C:\\\\Users\\\\Ishan\\\\anaconda3\\\\lib\\\\site-packages\\\\win32\\\\lib',\n",
       " 'C:\\\\Users\\\\Ishan\\\\anaconda3\\\\lib\\\\site-packages\\\\Pythonwin',\n",
       " 'C:\\\\Users\\\\Ishan\\\\anaconda3\\\\lib\\\\site-packages\\\\IPython\\\\extensions',\n",
       " 'C:\\\\Users\\\\Ishan\\\\.ipython']"
      ]
     },
     "execution_count": 3,
     "metadata": {},
     "output_type": "execute_result"
    }
   ],
   "source": [
    "import sys\n",
    "sys.path"
   ]
  },
  {
   "cell_type": "code",
   "execution_count": 10,
   "metadata": {},
   "outputs": [
    {
     "name": "stdout",
     "output_type": "stream",
     "text": [
      "Sum of list is: 160\n"
     ]
    }
   ],
   "source": [
    "import ISpackage\n",
    "ISpackage.mylist.sumoflist.sumofl([10,40,50,60])"
   ]
  },
  {
   "cell_type": "code",
   "execution_count": 8,
   "metadata": {},
   "outputs": [
    {
     "name": "stdout",
     "output_type": "stream",
     "text": [
      "First tuple is: (120, 'Ramesh', 90, 67)\n",
      "Second tuple is: ('Amit', 'Sumit', 'Bhamit')\n",
      "(120, 'Ramesh', 90, 67, 'Amit', 'Sumit', 'Bhamit')\n"
     ]
    }
   ],
   "source": [
    "import ISpackage\n",
    "ISpackage.mytuple.join2tup.jointup((120,\"Ramesh\",90,67),(\"Amit\",\"Sumit\",\"Bhamit\"))"
   ]
  },
  {
   "cell_type": "code",
   "execution_count": 15,
   "metadata": {},
   "outputs": [
    {
     "name": "stdout",
     "output_type": "stream",
     "text": [
      "Original list is: [11, 30, 44, 60, 100]\n",
      "After swapping, list is: [30, 44, 60, 100, 11]\n"
     ]
    }
   ],
   "source": [
    "import ISpackage\n",
    "ISpackage.mylist.swaplist.swap([11,30,44,60,100])"
   ]
  },
  {
   "cell_type": "code",
   "execution_count": 16,
   "metadata": {},
   "outputs": [
    {
     "name": "stdout",
     "output_type": "stream",
     "text": [
      "Original list is: [10, 120, 340, 238]\n",
      "After swapping, list is: [120, 340, 238, 10]\n"
     ]
    }
   ],
   "source": [
    "import ISpackage\n",
    "L=[10,120,340,238]\n",
    "ISpackage.mylist.swaplist.swap(L)"
   ]
  },
  {
   "cell_type": "code",
   "execution_count": null,
   "metadata": {},
   "outputs": [],
   "source": []
  },
  {
   "cell_type": "code",
   "execution_count": null,
   "metadata": {},
   "outputs": [],
   "source": []
  },
  {
   "cell_type": "code",
   "execution_count": null,
   "metadata": {},
   "outputs": [],
   "source": []
  },
  {
   "cell_type": "code",
   "execution_count": null,
   "metadata": {},
   "outputs": [],
   "source": []
  }
 ],
 "metadata": {
  "kernelspec": {
   "display_name": "Python 3",
   "language": "python",
   "name": "python3"
  },
  "language_info": {
   "codemirror_mode": {
    "name": "ipython",
    "version": 3
   },
   "file_extension": ".py",
   "mimetype": "text/x-python",
   "name": "python",
   "nbconvert_exporter": "python",
   "pygments_lexer": "ipython3",
   "version": "3.7.6"
  }
 },
 "nbformat": 4,
 "nbformat_minor": 4
}
