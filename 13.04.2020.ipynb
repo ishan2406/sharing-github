{
 "cells": [
  {
   "cell_type": "code",
   "execution_count": 1,
   "metadata": {},
   "outputs": [
    {
     "name": "stdout",
     "output_type": "stream",
     "text": [
      "Enter name: Ishan\n",
      "Enter occupation: Student\n",
      "Enter age: 17\n",
      "Do you want to continue: y\n",
      "Enter name: Nimesh\n",
      "Enter occupation: Business\n",
      "Enter age: 44\n",
      "Do you want to continue: n\n",
      "Amit\tTeacher\t56\n",
      "Ramit\tStudent\t21\n",
      "Ishan\tStudent\t17\n",
      "Nimesh\tBusiness\t44\n",
      "\n"
     ]
    }
   ],
   "source": [
    "#Revision of text file\n",
    "#Create a test file by record.txt and enter name, occupation and age\n",
    "fo=open(\"record.txt\",\"a\")\n",
    "ch=\"y\"\n",
    "while ch==\"y\":\n",
    "    name=input(\"Enter name: \")\n",
    "    occ=input(\"Enter occupation: \")\n",
    "    age=input(\"Enter age: \")\n",
    "    fo.write(name)\n",
    "    fo.write(\"\\t\")\n",
    "    fo.write(occ)\n",
    "    fo.write(\"\\t\")\n",
    "    fo.write(age)\n",
    "    fo.write(\"\\n\")\n",
    "    ch=input(\"Do you want to continue: \")\n",
    "fo.close()\n",
    "fin=open(\"record.txt\",\"r\")\n",
    "print(fin.read())\n",
    "fin.close()"
   ]
  },
  {
   "cell_type": "code",
   "execution_count": 2,
   "metadata": {},
   "outputs": [
    {
     "name": "stdout",
     "output_type": "stream",
     "text": [
      "Name      Occupation     Age\n",
      "Ramit\tStudent\t21\n",
      "Ishan\tStudent\t17\n"
     ]
    }
   ],
   "source": [
    "#Open a file record.txt and read contents whose age>25\n",
    "fin=open(\"record.txt\",\"r\")\n",
    "s=fin.readlines()\n",
    "print(\"Name      Occupation     Age\")\n",
    "for line in s:\n",
    "    x=line.split()\n",
    "    if (int(x[2])<30):\n",
    "        print(line,end=\"\")\n",
    "fin.close()"
   ]
  }
 ],
 "metadata": {
  "kernelspec": {
   "display_name": "Python 3",
   "language": "python",
   "name": "python3"
  },
  "language_info": {
   "codemirror_mode": {
    "name": "ipython",
    "version": 3
   },
   "file_extension": ".py",
   "mimetype": "text/x-python",
   "name": "python",
   "nbconvert_exporter": "python",
   "pygments_lexer": "ipython3",
   "version": "3.7.6"
  }
 },
 "nbformat": 4,
 "nbformat_minor": 4
}
