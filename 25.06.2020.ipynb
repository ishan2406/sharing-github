{
 "cells": [
  {
   "cell_type": "code",
   "execution_count": 1,
   "metadata": {},
   "outputs": [
    {
     "name": "stdout",
     "output_type": "stream",
     "text": [
      "1. Insert record\n",
      "2. Display all records\n",
      "3. Delete record\n",
      "4. Search record\n",
      "5. Exit\n",
      "Enter choice number: 4\n",
      "Enter admn to be searched: 1234\n",
      "Record not found\n",
      "1. Insert record\n",
      "2. Display all records\n",
      "3. Delete record\n",
      "4. Search record\n",
      "5. Exit\n",
      "Enter choice number: 4\n",
      "Enter admn to be searched: 1002\n",
      "[1002, 'Leena Mehta', [88.0, 77.0, 44.0], 209.0]\n",
      "1. Insert record\n",
      "2. Display all records\n",
      "3. Delete record\n",
      "4. Search record\n",
      "5. Exit\n",
      "Enter choice number: 5\n"
     ]
    }
   ],
   "source": [
    "import pickle\n",
    "import os\n",
    "def menu():\n",
    "    print(\"1. Insert record\")\n",
    "    print(\"2. Display all records\")\n",
    "    print(\"3. Delete record\")\n",
    "    print(\"4. Search record\")\n",
    "    print(\"5. Exit\")\n",
    "def insert():\n",
    "    bin1=open(\"studmk.dat\",\"ab\")\n",
    "    lst=[]\n",
    "    marks=[]\n",
    "    admn=int(input(\"Enter admn no: \"))\n",
    "    lst.append(admn)\n",
    "    name=input(\"Enter name: \")\n",
    "    lst.append(name)\n",
    "    total=0\n",
    "    for i in range(3):\n",
    "        mk=float(input(\"Enter marks: \"))\n",
    "        marks.append(mk)\n",
    "        total+=mk\n",
    "    lst.append(marks)\n",
    "    lst.append(total)\n",
    "    pickle.dump(lst,bin1)\n",
    "    bin1.close()        \n",
    "def display():\n",
    "    bin1=open(\"studmk.dat\",\"rb\")\n",
    "    try:\n",
    "        while True:\n",
    "            print(pickle.load(bin1))\n",
    "    except:\n",
    "        bin1.close()\n",
    "def delete():\n",
    "    admn=int(input(\"Enter admn to be deleted: \"))\n",
    "    f1=open(\"studmk.dat\",\"rb\")\n",
    "    f2=open(\"temp.dat\",\"wb\")\n",
    "    flag=1\n",
    "    try:\n",
    "        while True:\n",
    "            s=pickle.load(f1)\n",
    "            if s[0]!=admn:\n",
    "                pickle.dump(s,f2)\n",
    "            else:\n",
    "                flag=0\n",
    "    except:\n",
    "        if flag==1:\n",
    "            print(\"Record not found\")\n",
    "        else:\n",
    "            print(\"Recoed deleted\")\n",
    "        f1.close()\n",
    "        f2.close()\n",
    "    os.remove(\"studmk.dat\")\n",
    "    os.rename(\"temp.dat\",\"studmk.dat\")\n",
    "def search():\n",
    "    admn=int(input(\"Enter admn to be searched: \"))\n",
    "    bin1=open(\"studmk.dat\",\"rb\")\n",
    "    flag=1\n",
    "    try:\n",
    "        while True:\n",
    "            s=pickle.load(bin1)\n",
    "            if s[0]==admn:\n",
    "                print(s)\n",
    "                flag=0\n",
    "    except:\n",
    "        if flag==1:\n",
    "            print(\"Record not found\")\n",
    "        bin1.close()\n",
    "while True:\n",
    "    menu()\n",
    "    ch=int(input(\"Enter choice number: \"))\n",
    "    if ch==1:\n",
    "        insert()\n",
    "    elif ch==2:\n",
    "        display()\n",
    "    elif ch==3:\n",
    "        delete()\n",
    "    elif ch==4:\n",
    "        search()\n",
    "    else:\n",
    "        break"
   ]
  },
  {
   "cell_type": "code",
   "execution_count": 8,
   "metadata": {},
   "outputs": [
    {
     "ename": "TypeError",
     "evalue": "list indices must be integers or slices, not str",
     "output_type": "error",
     "traceback": [
      "\u001b[1;31m---------------------------------------------------------------------------\u001b[0m",
      "\u001b[1;31mTypeError\u001b[0m                                 Traceback (most recent call last)",
      "\u001b[1;32m<ipython-input-8-f24af7c49065>\u001b[0m in \u001b[0;36m<module>\u001b[1;34m\u001b[0m\n\u001b[0;32m      3\u001b[0m     \u001b[0mlong\u001b[0m\u001b[1;33m=\u001b[0m\u001b[0mlen\u001b[0m\u001b[1;33m(\u001b[0m\u001b[0mlines\u001b[0m\u001b[1;33m[\u001b[0m\u001b[1;36m0\u001b[0m\u001b[1;33m]\u001b[0m\u001b[1;33m)\u001b[0m\u001b[1;33m\u001b[0m\u001b[1;33m\u001b[0m\u001b[0m\n\u001b[0;32m      4\u001b[0m     \u001b[1;32mfor\u001b[0m \u001b[0mi\u001b[0m \u001b[1;32min\u001b[0m \u001b[0mlines\u001b[0m\u001b[1;33m:\u001b[0m\u001b[1;33m\u001b[0m\u001b[1;33m\u001b[0m\u001b[0m\n\u001b[1;32m----> 5\u001b[1;33m         \u001b[1;32mif\u001b[0m \u001b[0mlen\u001b[0m\u001b[1;33m(\u001b[0m\u001b[0mlines\u001b[0m\u001b[1;33m[\u001b[0m\u001b[0mi\u001b[0m\u001b[1;33m]\u001b[0m\u001b[1;33m)\u001b[0m\u001b[1;33m>\u001b[0m\u001b[0mlong\u001b[0m\u001b[1;33m:\u001b[0m\u001b[1;33m\u001b[0m\u001b[1;33m\u001b[0m\u001b[0m\n\u001b[0m\u001b[0;32m      6\u001b[0m             \u001b[0mlongest\u001b[0m\u001b[1;33m=\u001b[0m\u001b[0mlines\u001b[0m\u001b[1;33m[\u001b[0m\u001b[0mi\u001b[0m\u001b[1;33m]\u001b[0m\u001b[1;33m\u001b[0m\u001b[1;33m\u001b[0m\u001b[0m\n\u001b[0;32m      7\u001b[0m     \u001b[0mprint\u001b[0m\u001b[1;33m(\u001b[0m\u001b[1;34m\"Longest line in story.txt is\"\u001b[0m\u001b[1;33m)\u001b[0m\u001b[1;33m\u001b[0m\u001b[1;33m\u001b[0m\u001b[0m\n",
      "\u001b[1;31mTypeError\u001b[0m: list indices must be integers or slices, not str"
     ]
    }
   ],
   "source": [
    "with open(\"C:\\\\Users\\\\Krishna\\\\Desktop\\\\XII A\\\\Misc\\\\story.txt\",\"r\") as f:\n",
    "    lines=f.readlines()\n",
    "    long=len(lines[0])\n",
    "    for i in lines:\n",
    "        if len(lines[i])>long:\n",
    "            longest=lines[i]\n",
    "    print(\"Longest line in story.txt is\")\n",
    "    print(longest)"
   ]
  },
  {
   "cell_type": "code",
   "execution_count": 6,
   "metadata": {},
   "outputs": [
    {
     "name": "stdout",
     "output_type": "stream",
     "text": [
      "Enter character to be searched: e\n",
      "Total occurance of e are 3\n"
     ]
    }
   ],
   "source": [
    "f=open(\"C:\\\\Users\\\\Krishna\\\\Desktop\\\\XII A\\\\Misc\\\\story.txt\",\"r\")\n",
    "ctr=0\n",
    "char=input(\"Enter character to be searched: \")\n",
    "for i in f.read():\n",
    "    if i.lower()==char or i.upper()==char:\n",
    "        ctr+=1\n",
    "print(\"Total occurance of\",char,\"are\",ctr)"
   ]
  },
  {
   "cell_type": "code",
   "execution_count": 4,
   "metadata": {},
   "outputs": [
    {
     "name": "stdout",
     "output_type": "stream",
     "text": [
      "Enter name: Shalini\n",
      "Enter hobby: Tennis\n",
      "Enter age: 15\n",
      "Enter y to continue: y\n",
      "Enter name: Sumit\n",
      "Enter hobby: Travelling\n",
      "Enter age: 19\n",
      "Enter y to continue: n\n"
     ]
    }
   ],
   "source": [
    "import pickle\n",
    "bin1=open(\"hobby.dat\",\"ab\")\n",
    "ans=\"y\"\n",
    "while ans==\"y\":\n",
    "    lst=[]\n",
    "    name=input(\"Enter name: \")\n",
    "    lst.append(name)\n",
    "    hobby=input(\"Enter hobby: \")\n",
    "    lst.append(hobby)\n",
    "    age=int(input(\"Enter age: \"))\n",
    "    lst.append(age)\n",
    "    pickle.dump(lst,bin1)\n",
    "    ans=input(\"Enter y to continue: \")\n",
    "bin1.close()"
   ]
  },
  {
   "cell_type": "code",
   "execution_count": 5,
   "metadata": {},
   "outputs": [
    {
     "name": "stdout",
     "output_type": "stream",
     "text": [
      "['Rohan', 'Reading', 25]\n",
      "['Sumit', 'Travelling', 19]\n"
     ]
    }
   ],
   "source": [
    "import pickle\n",
    "bin1=open(\"hobby.dat\",\"rb\")\n",
    "try:\n",
    "    while True:\n",
    "        s=pickle.load(bin1)\n",
    "        if 18<=s[2]<=30:\n",
    "            print(s)\n",
    "except:\n",
    "    bin1.close()"
   ]
  },
  {
   "cell_type": "code",
   "execution_count": null,
   "metadata": {},
   "outputs": [],
   "source": []
  }
 ],
 "metadata": {
  "kernelspec": {
   "display_name": "Python 3",
   "language": "python",
   "name": "python3"
  },
  "language_info": {
   "codemirror_mode": {
    "name": "ipython",
    "version": 3
   },
   "file_extension": ".py",
   "mimetype": "text/x-python",
   "name": "python",
   "nbconvert_exporter": "python",
   "pygments_lexer": "ipython3",
   "version": "3.7.6"
  }
 },
 "nbformat": 4,
 "nbformat_minor": 4
}
