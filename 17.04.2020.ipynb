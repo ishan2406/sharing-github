{
 "cells": [
  {
   "cell_type": "code",
   "execution_count": 11,
   "metadata": {},
   "outputs": [
    {
     "name": "stdout",
     "output_type": "stream",
     "text": [
      "Enter upper limit:10\n",
      "Prime numbers between 2 & 10 are:\n",
      "2 3 5 7 "
     ]
    }
   ],
   "source": [
    "def prime(n):\n",
    "    print(\"Prime numbers between 2 &\",n,\"are:\")\n",
    "    for i in range(2,n+1):\n",
    "        for j in range(2,i):\n",
    "            if i%j==0:\n",
    "                break\n",
    "        else:\n",
    "            print(i,end=\" \")\n",
    "n=int(input(\"Enter upper limit:\"))\n",
    "prime(n)"
   ]
  },
  {
   "cell_type": "code",
   "execution_count": 14,
   "metadata": {},
   "outputs": [
    {
     "name": "stdout",
     "output_type": "stream",
     "text": [
      "Enter list:[1,2,10,20]\n",
      "Sum of numbers ending with zero are:  30\n"
     ]
    }
   ],
   "source": [
    "def ZeroEnd(scores):\n",
    "    szero=0\n",
    "    for i in scores:\n",
    "        if i%10==0:\n",
    "            szero+=i\n",
    "    print(\"Sum of numbers ending with zero are: \",szero)\n",
    "L=eval(input(\"Enter list:\"))\n",
    "ZeroEnd(L)"
   ]
  },
  {
   "cell_type": "code",
   "execution_count": 19,
   "metadata": {},
   "outputs": [
    {
     "name": "stdout",
     "output_type": "stream",
     "text": [
      "Longest line's length is 14\n",
      "Longest line is: Dono Mar Gaye\n",
      "\n"
     ]
    }
   ],
   "source": [
    "def longline(filename):\n",
    "    long=\"\"\n",
    "    for line in open(filename):\n",
    "        if len(line)>len(long):\n",
    "            long=line\n",
    "    print(\"Longest line's length is\",len(long))\n",
    "    print(\"Longest line is:\",long)\n",
    "longline(\"E:\\\\Ishan\\\\story.txt\")"
   ]
  },
  {
   "cell_type": "code",
   "execution_count": 24,
   "metadata": {},
   "outputs": [
    {
     "name": "stdout",
     "output_type": "stream",
     "text": [
      "yadoT si a lufrednoW yaD\n"
     ]
    }
   ],
   "source": [
    "def revWordSen(sentence):\n",
    "    words=sentence.split(\" \")\n",
    "    newWords=[word[::-1] for word in words]\n",
    "    newSent=\" \".join(newWords)\n",
    "    return newSent\n",
    "s=\"Today is a Wonderful Day\"\n",
    "print(revWordSen(s))"
   ]
  },
  {
   "cell_type": "code",
   "execution_count": 27,
   "metadata": {},
   "outputs": [
    {
     "name": "stdout",
     "output_type": "stream",
     "text": [
      "Ek\n",
      "Tha\n",
      "Raja\n",
      "Ek\n",
      "Thi\n",
      "Rani\n",
      "Dono\n",
      "Mar\n",
      "Gaye\n",
      "Khatam\n",
      "Kahani\n"
     ]
    }
   ],
   "source": [
    "with open(r\"E:\\Ishan\\story.txt\",\"r\") as f:\n",
    "    for line in f:\n",
    "        for word in line.split():\n",
    "            print(word)"
   ]
  },
  {
   "cell_type": "code",
   "execution_count": 4,
   "metadata": {},
   "outputs": [
    {
     "name": "stdout",
     "output_type": "stream",
     "text": [
      "eK tHA rAJA eK tHI rANI dONO mAR gAYE kHATAM kAHANI "
     ]
    }
   ],
   "source": [
    "with open(r\"E:\\Ishan\\story.txt\",\"r\") as f:\n",
    "    for line in f:\n",
    "        for word in line.split():\n",
    "            newword=\"\"\n",
    "            for ch in word:\n",
    "                if \"a\"<=ch<=\"z\":\n",
    "                    ch=chr(ord(ch)-32)\n",
    "                elif \"A\"<=ch<=\"Z\":\n",
    "                    ch=chr(ord(ch)+32)\n",
    "                else:\n",
    "                    pass\n",
    "                newword+=ch\n",
    "            print(newword,end=\" \")"
   ]
  },
  {
   "cell_type": "code",
   "execution_count": null,
   "metadata": {},
   "outputs": [],
   "source": []
  }
 ],
 "metadata": {
  "kernelspec": {
   "display_name": "Python 3",
   "language": "python",
   "name": "python3"
  },
  "language_info": {
   "codemirror_mode": {
    "name": "ipython",
    "version": 3
   },
   "file_extension": ".py",
   "mimetype": "text/x-python",
   "name": "python",
   "nbconvert_exporter": "python",
   "pygments_lexer": "ipython3",
   "version": "3.7.6"
  }
 },
 "nbformat": 4,
 "nbformat_minor": 4
}
