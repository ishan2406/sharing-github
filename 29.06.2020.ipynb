{
 "cells": [
  {
   "cell_type": "code",
   "execution_count": 1,
   "metadata": {},
   "outputs": [
    {
     "name": "stdout",
     "output_type": "stream",
     "text": [
      "Enter roll number: 1\n",
      "Enter name: Anna\n",
      "Enter marks: 33\n",
      "Enter marks: 44\n",
      "Enter marks: 55\n",
      "Enter y to continue: y\n",
      "Enter roll number: 2\n",
      "Enter name: Jena\n",
      "Enter marks: 44\n",
      "Enter marks: 55\n",
      "Enter marks: 66\n",
      "Enter y to continue: y\n",
      "Enter roll number: 3\n",
      "Enter name: Mena\n",
      "Enter marks: 55\n",
      "Enter marks: 66\n",
      "Enter marks: 77\n",
      "Enter y to continue: n\n",
      "['1', 'Anna', '33.0', '44.0', '55.0', '132.0']\n",
      "['2', 'Jena', '44.0', '55.0', '66.0', '165.0']\n",
      "['3', 'Mena', '55.0', '66.0', '77.0', '198.0']\n"
     ]
    }
   ],
   "source": [
    "import csv\n",
    "f=open(\"studnew.csv\",\"a\",newline=\"\")\n",
    "cw=csv.writer(f)\n",
    "ch=\"y\"\n",
    "while ch==\"y\" or ch==\"Y\":\n",
    "    L=[]\n",
    "    rno=int(input(\"Enter roll number: \"))\n",
    "    L.append(rno)\n",
    "    name=input(\"Enter name: \")\n",
    "    L.append(name)\n",
    "    total=0\n",
    "    for i in range(3):\n",
    "        mk=float(input(\"Enter marks: \"))\n",
    "        L.append(mk)\n",
    "        total+=mk\n",
    "    L.append(total)\n",
    "    cw.writerow(L)\n",
    "    ch=input(\"Enter y to continue: \")\n",
    "f.close()\n",
    "f=open(\"studnew.csv\",\"r\")\n",
    "cr=csv.reader(f)\n",
    "for i in cr:\n",
    "    print(i)\n",
    "f.close()"
   ]
  },
  {
   "cell_type": "code",
   "execution_count": 2,
   "metadata": {},
   "outputs": [
    {
     "name": "stdout",
     "output_type": "stream",
     "text": [
      "Enter prople id: 101\n",
      "Enter name: Amit\n",
      "Enter age: 30\n",
      "Enter profession: Cricketer\n",
      "Enter y to continue: y\n",
      "Enter prople id: 102\n",
      "Enter name: Sumit\n",
      "Enter age: 35\n",
      "Enter profession: IPS\n",
      "Enter y to continue: y\n",
      "Enter prople id: 103\n",
      "Enter name: Ramit\n",
      "Enter age: 53\n",
      "Enter profession: CEO\n",
      "Enter y to continue: n\n",
      "['101', 'Amit', '30', 'Cricketer']\n",
      "['102', 'Sumit', '35', 'IPS']\n",
      "['103', 'Ramit', '53', 'CEO']\n"
     ]
    }
   ],
   "source": [
    "import csv\n",
    "f=open(\"people.csv\",\"a\",newline=\"\")\n",
    "cw=csv.writer(f)\n",
    "ch=\"y\"\n",
    "while ch==\"y\" or ch==\"Y\":\n",
    "    L=[]\n",
    "    pid=int(input(\"Enter prople id: \"))\n",
    "    L.append(pid)\n",
    "    name=input(\"Enter name: \")\n",
    "    L.append(name)\n",
    "    age=int(input(\"Enter age: \"))\n",
    "    L.append(age)\n",
    "    prof=input(\"Enter profession: \")\n",
    "    L.append(prof)\n",
    "    cw.writerow(L)\n",
    "    ch=input(\"Enter y to continue: \")\n",
    "f.close()\n",
    "f=open(\"people.csv\",\"r\")\n",
    "cr=csv.reader(f)\n",
    "for i in cr:\n",
    "    print(i)\n",
    "f.close()"
   ]
  },
  {
   "cell_type": "code",
   "execution_count": null,
   "metadata": {},
   "outputs": [],
   "source": []
  }
 ],
 "metadata": {
  "kernelspec": {
   "display_name": "Python 3",
   "language": "python",
   "name": "python3"
  },
  "language_info": {
   "codemirror_mode": {
    "name": "ipython",
    "version": 3
   },
   "file_extension": ".py",
   "mimetype": "text/x-python",
   "name": "python",
   "nbconvert_exporter": "python",
   "pygments_lexer": "ipython3",
   "version": "3.7.6"
  }
 },
 "nbformat": 4,
 "nbformat_minor": 4
}
