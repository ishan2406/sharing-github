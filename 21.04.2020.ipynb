{
 "cells": [
  {
   "cell_type": "code",
   "execution_count": 4,
   "metadata": {},
   "outputs": [
    {
     "name": "stdout",
     "output_type": "stream",
     "text": [
      "Enter element to be searched: 0\n",
      "Element not found\n"
     ]
    }
   ],
   "source": [
    "#Binary Search\n",
    "l=[2,4,6,8,10,11,34,56,88,100]\n",
    "ele=int(input(\"Enter element to be searched: \"))\n",
    "last=(len(l)-1)\n",
    "first=0\n",
    "found=0\n",
    "while first<=last:\n",
    "    mid=(first+last)//2\n",
    "    if l[mid]==ele:\n",
    "        print(ele,\"found at\",mid)\n",
    "        found=1\n",
    "        break\n",
    "    elif l[mid]>ele:\n",
    "        last=mid-1\n",
    "    else:\n",
    "        first=mid+1\n",
    "if found==0:\n",
    "    print(\"Element not found\")"
   ]
  },
  {
   "cell_type": "code",
   "execution_count": 12,
   "metadata": {},
   "outputs": [
    {
     "name": "stdout",
     "output_type": "stream",
     "text": [
      "Enter element to be searched: 100\n",
      "Element not found\n"
     ]
    }
   ],
   "source": [
    "#Binary Search Using Function\n",
    "l=[2,4,6,8,10,11,34,56,88,900]\n",
    "ele=int(input(\"Enter element to be searched: \"))\n",
    "size=len(l)\n",
    "def Bsearch(l,size,ele):\n",
    "    last=(len(l)-1)\n",
    "    first=0\n",
    "    while first<=last:\n",
    "        mid=(first+last)//2\n",
    "        if l[mid]==ele:\n",
    "            return mid\n",
    "        elif l[mid]>ele:\n",
    "            last=mid-1\n",
    "        else:\n",
    "            first=mid+1\n",
    "    return -1\n",
    "index=Bsearch(l,size,ele)\n",
    "if index==-1:\n",
    "    print(\"Element not found\")\n",
    "else:\n",
    "    print(ele,\"found at\",index)"
   ]
  },
  {
   "cell_type": "code",
   "execution_count": 13,
   "metadata": {},
   "outputs": [
    {
     "name": "stdout",
     "output_type": "stream",
     "text": [
      "Product of 5 and 3 is 15\n"
     ]
    }
   ],
   "source": [
    "#Write function product to multiply two numbers using + & - only\n",
    "def product(a,b):\n",
    "    if b==1:\n",
    "        return a\n",
    "    else:\n",
    "        return a + product(a,b-1)\n",
    "a=5\n",
    "b=3\n",
    "result=product(a,b)\n",
    "print(\"Product of\",a,\"and\",b,\"is\",result)"
   ]
  },
  {
   "cell_type": "code",
   "execution_count": 16,
   "metadata": {},
   "outputs": [
    {
     "name": "stdout",
     "output_type": "stream",
     "text": [
      "Enter string: jupyter\n",
      "retypuj\n"
     ]
    }
   ],
   "source": [
    "#Recursive function to print string backwards\n",
    "def bk(s,n):\n",
    "    if n>0:\n",
    "        print(s[n],end=\"\")\n",
    "        bk(s,n-1)\n",
    "    elif n==0:\n",
    "        print(s[0])\n",
    "s=input(\"Enter string: \")\n",
    "bk(s,len(s)-1)"
   ]
  },
  {
   "cell_type": "code",
   "execution_count": 20,
   "metadata": {
    "scrolled": true
   },
   "outputs": [
    {
     "name": "stdout",
     "output_type": "stream",
     "text": [
      "1\n",
      "3\n",
      "6\n",
      "10\n",
      "15\n",
      "21\n"
     ]
    },
    {
     "data": {
      "text/plain": [
       "21"
      ]
     },
     "execution_count": 20,
     "metadata": {},
     "output_type": "execute_result"
    }
   ],
   "source": [
    "#Recursive function to print the below output\n",
    "#1\n",
    "#3\n",
    "#6\n",
    "#10\n",
    "#15\n",
    "#21\n",
    "def tri_series(k):\n",
    "    if (k>0):\n",
    "        result=k+tri_series(k-1)\n",
    "        print(result)\n",
    "    else:\n",
    "        result=0\n",
    "    return result\n",
    "tri_series(6)"
   ]
  }
 ],
 "metadata": {
  "kernelspec": {
   "display_name": "Python 3",
   "language": "python",
   "name": "python3"
  },
  "language_info": {
   "codemirror_mode": {
    "name": "ipython",
    "version": 3
   },
   "file_extension": ".py",
   "mimetype": "text/x-python",
   "name": "python",
   "nbconvert_exporter": "python",
   "pygments_lexer": "ipython3",
   "version": "3.7.6"
  }
 },
 "nbformat": 4,
 "nbformat_minor": 4
}
