{
 "cells": [
  {
   "cell_type": "code",
   "execution_count": 1,
   "metadata": {},
   "outputs": [
    {
     "name": "stdout",
     "output_type": "stream",
     "text": [
      "Original key list is : ['Rohan', 'Sohan', 'Mohan']\n",
      "Original value list is : [10, 20, 30]\n",
      "Resultant dictionary is : {'Rohan': 10, 'Sohan': 20, 'Mohan': 30}\n"
     ]
    }
   ],
   "source": [
    "#Converting 2 lists into dictionary\n",
    "test_keys = [\"Rohan\", \"Sohan\", \"Mohan\"]\n",
    "test_values = [10, 20, 30]\n",
    "\n",
    "print (\"Original key list is : \" + str(test_keys))\n",
    "print (\"Original value list is : \" + str(test_values))\n",
    "\n",
    "res = {}\n",
    "for key in test_keys:\n",
    "    for value in test_values:\n",
    "        res[key] = value\n",
    "        test_values.remove(value)\n",
    "        break\n",
    "\n",
    "print (\"Resultant dictionary is : \" + str(res))"
   ]
  },
  {
   "cell_type": "code",
   "execution_count": 3,
   "metadata": {},
   "outputs": [
    {
     "name": "stdout",
     "output_type": "stream",
     "text": [
      "\n",
      "0. Exit 1. Factorial 2.Fibonacci 3. Sum of N numbers\n",
      "Enter choice: 2\n",
      "Enter number: 0\n",
      "\n",
      "0. Exit 1. Factorial 2.Fibonacci 3. Sum of N numbers\n",
      "Enter choice: 0\n"
     ]
    }
   ],
   "source": [
    "#Menu driven function\n",
    "def factorial(n):\n",
    "    fact = 1\n",
    "    for i in range(1,n+1):\n",
    "        fact = fact * i\n",
    "    return fact\n",
    "def fibonacci(n):\n",
    "    a = 0\n",
    "    b = 1\n",
    "    if n < 0:\n",
    "        print(\"Incorrect input\")\n",
    "    elif n == 0:\n",
    "        return a\n",
    "    elif n == 1:\n",
    "        return b\n",
    "    else:\n",
    "        for i in range(2,n+2):\n",
    "            c = a + b\n",
    "            print(c,end=\" \")\n",
    "            a = b\n",
    "            b = c\n",
    "def sumofn(n):\n",
    "    sum=0\n",
    "    for i in range(n+1):\n",
    "        sum =sum+i\n",
    "    return sum\n",
    "while True:\n",
    "    print()\n",
    "    print(\"0. Exit 1. Factorial 2.Fibonacci 3. Sum of N numbers\" )\n",
    "    choice=int(input(\"Enter choice: \"))\n",
    "    if choice == 0:\n",
    "        break\n",
    "    elif choice == 1:\n",
    "        n=int(input(\"Enter number: \"))\n",
    "        print (\"The factorial is : \",factorial(n))\n",
    "    elif choice == 2:\n",
    "        n=int(input(\"Enter number: \"))\n",
    "        fibonacci(n)\n",
    "    elif choice == 3:\n",
    "        n=int(input(\"Enter number: \"))\n",
    "        print(\"Sum of N natural numbers is : \", sumofn(n))"
   ]
  },
  {
   "cell_type": "code",
   "execution_count": 5,
   "metadata": {},
   "outputs": [
    {
     "name": "stdout",
     "output_type": "stream",
     "text": [
      "Enter number: 4\n",
      "The sum of the series is  76.0\n"
     ]
    }
   ],
   "source": [
    "#Sum of series:1/1 + 2^2 /2 + 3^3 /3 + ……. n^n/n\n",
    "n = int(input(\"Enter number: \"))\n",
    "def sumseries(n):\n",
    "    s=0.0\n",
    "    for i in range(1,n+1):\n",
    "        a=float(i**i)/i\n",
    "        s=s+a\n",
    "    return s\n",
    "print(\"The sum of the series is \", sumseries(n))"
   ]
  },
  {
   "cell_type": "code",
   "execution_count": 8,
   "metadata": {},
   "outputs": [
    {
     "name": "stdout",
     "output_type": "stream",
     "text": [
      "Enter String: arora\n",
      "arora is a Palindrome\n"
     ]
    }
   ],
   "source": [
    "#Palindrome check\n",
    "def isPalindrome(str):\n",
    "    for i in range(0, len(str)//2):\n",
    "        if str[i] != str[len(str)-i-1]:\n",
    "            return False\n",
    "    return True\n",
    "s=input(\"Enter String: \")\n",
    "ans = isPalindrome(s)\n",
    "if (ans):\n",
    "    print(s,\"is a Palindrome\")\n",
    "else:\n",
    "    print(s,\"is not Palindrome\")"
   ]
  },
  {
   "cell_type": "code",
   "execution_count": 9,
   "metadata": {},
   "outputs": [
    {
     "name": "stdout",
     "output_type": "stream",
     "text": [
      "Enter no. of rows: 5\n",
      "[1]\n",
      "[1, 1]\n",
      "[1, 2, 1]\n",
      "[1, 3, 3, 1]\n",
      "[1, 4, 6, 4, 1]\n"
     ]
    },
    {
     "data": {
      "text/plain": [
       "True"
      ]
     },
     "execution_count": 9,
     "metadata": {},
     "output_type": "execute_result"
    }
   ],
   "source": [
    "#Pascal's triangle\n",
    "def pascal_tri(n):\n",
    "    trow=[1]\n",
    "    y=[0]\n",
    "    sp=\" \"\n",
    "    for x in range(max(n,0)):\n",
    "        print(trow)\n",
    "        trow=[l+r for l,r in zip(trow+y,y+trow)]\n",
    "    return n>=1\n",
    "n=int(input(\"Enter no. of rows: \"))\n",
    "pascal_tri(n)"
   ]
  },
  {
   "cell_type": "code",
   "execution_count": 10,
   "metadata": {},
   "outputs": [
    {
     "name": "stdout",
     "output_type": "stream",
     "text": [
      "16\n"
     ]
    }
   ],
   "source": [
    "#Accessing a function inside function\n",
    "def test(a):\n",
    "    def add(b):\n",
    "        nonlocal a\n",
    "        a += 1\n",
    "        return a+b\n",
    "    return add\n",
    "func = test(10)\n",
    "print(func(5))"
   ]
  },
  {
   "cell_type": "code",
   "execution_count": 11,
   "metadata": {},
   "outputs": [
    {
     "name": "stdout",
     "output_type": "stream",
     "text": [
      "Enter no7\n",
      "22 11 34 17 52 26 13 40 20 10 5 16 8 4 2 1 "
     ]
    }
   ],
   "source": [
    "#Hailstone number\n",
    "def hailstone(n):\n",
    "    if n==1:\n",
    "        return\n",
    "    if n%2==0:\n",
    "        print(n//2, end=' ')\n",
    "        hailstone(n//2)\n",
    "    elif n%2==1:\n",
    "        print(3* n +1, end=' ')\n",
    "        hailstone(3*n+1)\n",
    "n=int(input(\"Enter no\"))\n",
    "hailstone(n)"
   ]
  },
  {
   "cell_type": "code",
   "execution_count": 12,
   "metadata": {},
   "outputs": [
    {
     "name": "stdout",
     "output_type": "stream",
     "text": [
      "Enter no. of terms: 10\n",
      "Fibonacci sequence:\n",
      "0 1 1 2 3 5 8 13 21 34 "
     ]
    }
   ],
   "source": [
    "#Recursive fibonacci series\n",
    "def recur_fibo(n):\n",
    "    if n <= 1:\n",
    "        return n\n",
    "    else:\n",
    "        return(recur_fibo(n-1) + recur_fibo(n-2))\n",
    "nterms = int(input(\"Enter no. of terms: \"))\n",
    "if (nterms <= 0):\n",
    "    print(\"Plese enter a positive integer\")\n",
    "else:\n",
    "    print(\"Fibonacci sequence:\")\n",
    "for i in range(nterms):\n",
    "    print(recur_fibo(i),end=\" \")"
   ]
  },
  {
   "cell_type": "code",
   "execution_count": 13,
   "metadata": {},
   "outputs": [
    {
     "name": "stdout",
     "output_type": "stream",
     "text": [
      "1. Push 2. Pop 3. Traversal 4.. Exit\n",
      "Enter your choice 1\n",
      "Enter bcode 101\n",
      "Enter btitle Python Basic Concepts\n",
      "Enter price 450\n",
      "1. Push 2. Pop 3. Traversal 4.. Exit\n",
      "Enter your choice 1\n",
      "Enter bcode Python Advance Concepts\n",
      "Enter btitle 111111111\n",
      "Enter price rrrrrrrrrrr\n",
      "1. Push 2. Pop 3. Traversal 4.. Exit\n",
      "Enter your choice 2\n",
      "poped element is \n",
      "bcode  Python Advance Concepts  btitle  111111111  price  rrrrrrrrrrr\n",
      "1. Push 2. Pop 3. Traversal 4.. Exit\n",
      "Enter your choice 3\n",
      "('101', 'Python Basic Concepts', '450')\n",
      "1. Push 2. Pop 3. Traversal 4.. Exit\n",
      "Enter your choice 4\n",
      "End\n"
     ]
    }
   ],
   "source": [
    "#Stack data structure\n",
    "book=[]\n",
    "def push():\n",
    "    bcode=input(\"Enter bcode: \")\n",
    "    btitle=input(\"Enter btitle: \")\n",
    "    price=input(\"Enter price: \")\n",
    "    bk=(bcode,btitle,price)\n",
    "    book.append(bk)\n",
    "def pop():\n",
    "    if(book==[]):\n",
    "        print(\"Underflow / Book Stack in empty\")\n",
    "    else:\n",
    "        bcode,btitle,price=book.pop()\n",
    "        print(\"Popped element is:\")\n",
    "        print(\"bcode:\",bcode,\" btitle:\",btitle,\" price:\",price)\n",
    "def traverse():\n",
    "    if not (book==[]):\n",
    "        n=len(book)\n",
    "        for i in range(n-1,-1,-1):\n",
    "            print(book[i])\n",
    "    else:\n",
    "        print(\"Empty, No book to display\")\n",
    "while True:\n",
    "    print(\"1. Push 2. Pop 3. Traversal 4. Exit\")\n",
    "    ch=int(input(\"Enter your choice: \"))\n",
    "    if(ch==1):\n",
    "        push()\n",
    "    elif(ch==2):\n",
    "        pop()\n",
    "    elif(ch==3):\n",
    "        traverse()\n",
    "    elif(ch==4):\n",
    "        print(\"End\")\n",
    "        break\n",
    "    else:\n",
    "        print(\"Invalid choice\")"
   ]
  },
  {
   "cell_type": "code",
   "execution_count": 15,
   "metadata": {},
   "outputs": [
    {
     "name": "stdout",
     "output_type": "stream",
     "text": [
      "1. Add employee 2. Delete employee 3. Traversal 4. Exit\n",
      "Enter your choice: 3\n",
      "1. Add employee 2. Delete employee 3. Traversal 4. Exit\n",
      "Enter your choice: 1\n",
      "Enter empno: 101\n",
      "Enter name: Rohan\n",
      "Enter salary: 35000\n",
      "1. Add employee 2. Delete employee 3. Traversal 4. Exit\n",
      "Enter your choice: 1\n",
      "Enter empno: 102\n",
      "Enter name: Sohan\n",
      "Enter salary: 40000\n",
      "1. Add employee 2. Delete employee 3. Traversal 4. Exit\n",
      "Enter your choice: 3\n",
      "('101', 'Rohan', '35000')\n",
      "('102', 'Sohan', '40000')\n",
      "Empty, No employee to display\n",
      "1. Add employee 2. Delete employee 3. Traversal 4. Exit\n",
      "Enter your choice: 2\n",
      "Popped element is:\n",
      "empno: 101  name: Rohan  salary: 35000\n",
      "1. Add employee 2. Delete employee 3. Traversal 4. Exit\n",
      "Enter your choice: 4\n",
      "End\n"
     ]
    }
   ],
   "source": [
    "#Queues data structure\n",
    "employee=[]\n",
    "def add_element():\n",
    "    empno=input(\"Enter empno: \")\n",
    "    name=input(\"Enter name: \")\n",
    "    sal=input(\"Enter salary: \")\n",
    "    emp=(empno,name,sal)\n",
    "    employee.append(emp)\n",
    "def del_element():\n",
    "    if(employee==[]):\n",
    "        print(\"Underflow / Employee Stack in empty\")\n",
    "    else:\n",
    "        empno,name,sal=employee.pop(0)\n",
    "        print(\"Popped element is:\")\n",
    "        print(\"empno:\",empno,\" name:\",name,\" salary:\",sal)\n",
    "def traverse():\n",
    "    if not (employee==[]):\n",
    "        n=len(employee)\n",
    "        for i in range(0,n):\n",
    "            print(employee[i])\n",
    "        else:\n",
    "            print(\"Empty, No employee to display\")\n",
    "while True:\n",
    "    print(\"1. Add employee 2. Delete employee 3. Traversal 4. Exit\")\n",
    "    ch=int(input(\"Enter your choice: \"))\n",
    "    if(ch==1):\n",
    "        add_element()\n",
    "    elif(ch==2):\n",
    "        del_element();\n",
    "    elif(ch==3):\n",
    "        traverse()\n",
    "    elif(ch==4):\n",
    "        print(\"End\")\n",
    "        break\n",
    "    else:\n",
    "        print(\"Invalid choice\")"
   ]
  },
  {
   "cell_type": "code",
   "execution_count": 21,
   "metadata": {},
   "outputs": [
    {
     "name": "stdout",
     "output_type": "stream",
     "text": [
      "Enforced Downtime\n",
      "A need of reality in difficult times,\n",
      "To control situation and bring life a pleasant chime,\n",
      "Enforced downtime is essential in crucial prime!\n",
      "Total lower case alphabets are 131\n"
     ]
    }
   ],
   "source": [
    "#Print total alphabets of file\n",
    "def count_alpha():\n",
    "    lo=0\n",
    "    with open(\"article.txt\") as f:\n",
    "        while True:\n",
    "            c=f.read(1)\n",
    "            if not c:\n",
    "                break\n",
    "            print(c,end='')\n",
    "            if((c>='A' and c<='Z') or (c>='a' and c<='z')):\n",
    "                lo=lo+1\n",
    "        print()\n",
    "        print(\"Total lower case alphabets are\",lo)\n",
    "count_alpha()"
   ]
  },
  {
   "cell_type": "code",
   "execution_count": 22,
   "metadata": {},
   "outputs": [
    {
     "name": "stdout",
     "output_type": "stream",
     "text": [
      "Enforced Downtime\n",
      "A need of reality in difficult times,\n",
      "To control situation and bring life a pleasant chime,\n",
      "Enforced downtime is essential in crucial prime!\n",
      "Total alphabets: 262\n",
      "Total upper case alphabets: 5\n",
      "Total lower case alphabets: 126\n",
      "Total digits: 0\n",
      "Total spaces: 21\n",
      "Total special characters: 6\n"
     ]
    }
   ],
   "source": [
    "def count():\n",
    "    a=ua=la=d=sp=spl=0\n",
    "    with open(\"article.txt\") as f:\n",
    "        while True:\n",
    "            c=f.read(1)\n",
    "            if not c:\n",
    "                break\n",
    "            print(c,end='')\n",
    "            if((c>='A' and c<='Z') or (c>='a' and c<='z')):\n",
    "                a=a+1\n",
    "                if((c>='A' and c<='Z') or (c>='a' and c<='z')):\n",
    "                    a=a+1\n",
    "                if(c>='A' and c<='Z'):\n",
    "                    ua=ua+1\n",
    "                else:\n",
    "                    la=la+1\n",
    "            elif(c>='0' and c<='9'):\n",
    "                d=d+1\n",
    "            elif(c==' '):\n",
    "                sp=sp+1\n",
    "            else:\n",
    "                spl=spl+1\n",
    "        print()\n",
    "        print(\"Total alphabets:\",a)\n",
    "        print(\"Total upper case alphabets:\",ua)\n",
    "        print(\"Total lower case alphabets:\",la)\n",
    "        print(\"Total digits:\",d)\n",
    "        print(\"Total spaces:\",sp)\n",
    "        print(\"Total special characters:\",spl)\n",
    "count()"
   ]
  },
  {
   "cell_type": "code",
   "execution_count": 23,
   "metadata": {},
   "outputs": [
    {
     "name": "stdout",
     "output_type": "stream",
     "text": [
      "today\n",
      "today.\n",
      "today\n",
      "tomorrow.\n",
      "today\n",
      "today\n",
      "Total words starting with 't' are  6\n"
     ]
    }
   ],
   "source": [
    "#Counting words starting with \"t\" or \"T\"\n",
    "def count_words():\n",
    "    w=0\n",
    "    with open(\"C:\\\\Users\\\\Krishna\\\\Desktop\\\\Ishan\\\\today.txt\") as f:\n",
    "        for line in f:\n",
    "            for word in line.split():\n",
    "                if(word[0]==\"t\" or word[0]==\"T\"):\n",
    "                    print(word)\n",
    "                    w=w+1\n",
    "        print(\"Total words starting with 't' are \",w)\n",
    "count_words()"
   ]
  },
  {
   "cell_type": "code",
   "execution_count": 25,
   "metadata": {},
   "outputs": [
    {
     "data": {
      "image/png": "[encoded data removed]",
      "text/plain": [
       "<Figure size 432x288 with 1 Axes>"
      ]
     },
     "metadata": {
      "needs_background": "light"
     },
     "output_type": "display_data"
    }
   ],
   "source": [
    "#Plotting sine wave\n",
    "import numpy as np\n",
    "import matplotlib.pyplot as plot\n",
    "time = np.arange(0, 10, 0.1); # Get x values of the sine wave\n",
    "amplitude = np.sin(time) # Amplitude of the sine wave is sine of a variable like time\n",
    "plot.plot(time, amplitude) # Plot a sine wave using time and amplitude obtained for the sine wave\n",
    "plot.title('Sine wave') # Give a title for the sine wave plot\n",
    "plot.xlabel('Time') # Give x axis label for the sine wave plot\n",
    "plot.ylabel('Amplitude = sin(time)') # Give y axis label for the sine wave plot\n",
    "plot.grid(True, which='both')\n",
    "plot.axhline(y=0, color='k')\n",
    "plot.show()\n",
    "#Display the sine wave\n",
    "plot.show()"
   ]
  },
  {
   "cell_type": "code",
   "execution_count": 26,
   "metadata": {},
   "outputs": [
    {
     "data": {
      "image/png": "[encoded data removed]",
      "text/plain": [
       "<Figure size 640x480 with 1 Axes>"
      ]
     },
     "metadata": {},
     "output_type": "display_data"
    }
   ],
   "source": [
    "#Plotting bar chart\n",
    "import matplotlib.pyplot as plt; plt.rcdefaults()\n",
    "import numpy as np\n",
    "import matplotlib.pyplot as plt\n",
    "objects = ('Python', 'C++', 'Java', 'Perl', 'Scala', 'Lisp')\n",
    "y_pos = np.arange(len(objects))\n",
    "performance = [10,8,6,4,2,1]\n",
    "plt.bar(y_pos, performance, align='center', alpha=0.5)\n",
    "plt.xticks(y_pos, objects)\n",
    "plt.title('Programming language usage')\n",
    "plt.show()"
   ]
  },
  {
   "cell_type": "code",
   "execution_count": null,
   "metadata": {},
   "outputs": [],
   "source": []
  }
 ],
 "metadata": {
  "kernelspec": {
   "display_name": "Python 3",
   "language": "python",
   "name": "python3"
  },
  "language_info": {
   "codemirror_mode": {
    "name": "ipython",
    "version": 3
   },
   "file_extension": ".py",
   "mimetype": "text/x-python",
   "name": "python",
   "nbconvert_exporter": "python",
   "pygments_lexer": "ipython3",
   "version": "3.7.6"
  }
 },
 "nbformat": 4,
 "nbformat_minor": 4
}
