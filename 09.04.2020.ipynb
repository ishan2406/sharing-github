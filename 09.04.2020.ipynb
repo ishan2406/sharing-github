{
 "cells": [
  {
   "cell_type": "code",
   "execution_count": 3,
   "metadata": {},
   "outputs": [
    {
     "name": "stdout",
     "output_type": "stream",
     "text": [
      "12345\n",
      "6789\n",
      "10\n",
      "Length is:  13\n"
     ]
    }
   ],
   "source": [
    "#Reading text file\n",
    "fin=open(r\"E:\\\\Ishan\\\\demo.txt\",\"r\")\n",
    "print(fin.read())\n",
    "fin.seek(0)\n",
    "print(\"Length is: \",len(fin.read()))"
   ]
  },
  {
   "cell_type": "code",
   "execution_count": 4,
   "metadata": {},
   "outputs": [
    {
     "name": "stdout",
     "output_type": "stream",
     "text": [
      "b'12345\\r\\n6789\\r\\n10'\n",
      "15\n"
     ]
    }
   ],
   "source": [
    "#Reading Binary File\n",
    "fin=open(r\"E:\\\\Ishan\\\\demo.txt\",\"rb\")\n",
    "print(fin.read())\n",
    "fin.seek(0)\n",
    "print(len(fin.read()))"
   ]
  },
  {
   "cell_type": "code",
   "execution_count": 5,
   "metadata": {},
   "outputs": [
    {
     "name": "stdout",
     "output_type": "stream",
     "text": [
      "[5, 10, 15, 20, 25]\n"
     ]
    }
   ],
   "source": [
    "f=open(\"binfile.bin\",\"wb\")\n",
    "no=[5,10,15,20,25]\n",
    "arr=bytearray(no) #The data needs to be converted using bytearray() to store it in binary file.\n",
    "f.write(arr)\n",
    "f.close()\n",
    "f=open(\"binfile.bin\",\"rb\")\n",
    "no=list(f.read())\n",
    "print(no)\n",
    "f.close()\n",
    "#bytearray() returns a byte representation of an object"
   ]
  },
  {
   "cell_type": "code",
   "execution_count": 9,
   "metadata": {},
   "outputs": [
    {
     "name": "stdout",
     "output_type": "stream",
     "text": [
      "b'12345'\n",
      "File handle is at position 5\n",
      "b'\\r\\nabc'\n",
      "File handle is at position 10\n",
      "b'defg'\n",
      "File handle is at position 14\n"
     ]
    }
   ],
   "source": [
    "#tell() function is used to get position of file pointer/handle. No parameters.\n",
    "#Returns integer value\n",
    "f=open(\"E:\\\\Ishan\\\\alphabet.txt\",\"rb\")\n",
    "print(f.read(5)) #will read abc;pointer at c\n",
    "print(\"File handle is at position\",f.tell())\n",
    "print(f.read(5)) #will read d;pointer on d;\"\\n\" is added between\n",
    "print(\"File handle is at position\",f.tell())\n",
    "print(f.read(4)) #will read efgh;pointer on h\n",
    "print(\"File handle is at position\",f.tell())"
   ]
  },
  {
   "cell_type": "code",
   "execution_count": 14,
   "metadata": {},
   "outputs": [
    {
     "name": "stdout",
     "output_type": "stream",
     "text": [
      "[10, 20, 30, 40, 50]\n",
      "[11, 22, 33, 44, 55]\n",
      "{1: 'Python', 2: 'Ruby', 3: 'Pearl'}\n",
      "The End\n"
     ]
    }
   ],
   "source": [
    "import pickle\n",
    "#write: dump() read: load()\n",
    "f=open(\"binary.bin\",\"wb\")\n",
    "no1=[10,20,30,40,50]\n",
    "no2=[11,22,33,44,55]\n",
    "dict={1:\"Python\",2:\"Ruby\",3:\"Pearl\"}\n",
    "#dump two operators 1.object 2.file pointer\n",
    "pickle.dump(no1,f)\n",
    "pickle.dump(no2,f)\n",
    "pickle.dump(dict,f)\n",
    "f.close()\n",
    "f=open(\"binary.bin\",\"rb\")\n",
    "try:\n",
    "    while True: #in text file when it reaches EOF it will terminate not here\n",
    "        s=pickle.load(f)\n",
    "        print(s)\n",
    "except EOFError:\n",
    "    f.close()\n",
    "    print(\"The End\")"
   ]
  },
  {
   "cell_type": "code",
   "execution_count": 15,
   "metadata": {},
   "outputs": [],
   "source": [
    "#WAP to store 2-3 lists or a dictionary in a binary file"
   ]
  },
  {
   "cell_type": "code",
   "execution_count": null,
   "metadata": {},
   "outputs": [],
   "source": []
  }
 ],
 "metadata": {
  "kernelspec": {
   "display_name": "Python 3",
   "language": "python",
   "name": "python3"
  },
  "language_info": {
   "codemirror_mode": {
    "name": "ipython",
    "version": 3
   },
   "file_extension": ".py",
   "mimetype": "text/x-python",
   "name": "python",
   "nbconvert_exporter": "python",
   "pygments_lexer": "ipython3",
   "version": "3.7.6"
  }
 },
 "nbformat": 4,
 "nbformat_minor": 4
}
