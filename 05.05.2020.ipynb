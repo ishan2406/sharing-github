{
 "cells": [
  {
   "cell_type": "code",
   "execution_count": 2,
   "metadata": {},
   "outputs": [
    {
     "name": "stdout",
     "output_type": "stream",
     "text": [
      "Enter rno to be searched: 2\n",
      "Record Not Found\n"
     ]
    }
   ],
   "source": [
    "import pickle\n",
    "roll=int(input(\"Enter rno to be searched: \"))\n",
    "fin=open(\"stunew.dat\",\"rb\")\n",
    "flag=0\n",
    "try:\n",
    "    while True:\n",
    "        a=pickle.load(fin)\n",
    "        if a[0]==roll:\n",
    "            print(a)\n",
    "            flag=1\n",
    "            break\n",
    "except:\n",
    "    if flag==0:\n",
    "        print(\"Record Not Found\")\n",
    "    fin.close()"
   ]
  },
  {
   "cell_type": "code",
   "execution_count": 3,
   "metadata": {},
   "outputs": [
    {
     "name": "stdout",
     "output_type": "stream",
     "text": [
      "Enter rno to be deleted: 8\n"
     ]
    }
   ],
   "source": [
    "# Deleting record from file\n",
    "import os\n",
    "import pickle\n",
    "roll=int(input(\"Enter rno to be deleted: \"))\n",
    "fin=open(\"stunew.dat\",\"rb\")\n",
    "fout=open(\"temp.dat\",\"wb\")\n",
    "try:\n",
    "    while True:\n",
    "        a=pickle.load(fin)\n",
    "        if a[0]!=roll:\n",
    "            pickle.dump(a,fout)\n",
    "except:\n",
    "    fin.close()\n",
    "    fout.close()\n",
    "os.remove(\"stunew.dat\")\n",
    "os.rename(\"temp.dat\",\"stunew.dat\")"
   ]
  },
  {
   "cell_type": "code",
   "execution_count": 4,
   "metadata": {},
   "outputs": [
    {
     "name": "stdout",
     "output_type": "stream",
     "text": [
      "1. Insert record\n",
      "2. Display records\n",
      "3. Exit\n",
      "Enter your choice (1/2/3): 3\n"
     ]
    }
   ],
   "source": [
    "#Working with dictionary adding in binary file\n",
    "import pickle\n",
    "def insertRec():\n",
    "    rno=int(input(\"Enter rno: \"))\n",
    "    name=input(\"Enter name: \")\n",
    "    marks=input(\"Enter marks: \")\n",
    "    rec={\"Rollno\":rno,\"Name\":name,\"Marks\":marks}\n",
    "    f=open(\"Reportcard.dat\",\"ab\")\n",
    "    pickle.dump(rec,f)\n",
    "    f.close()\n",
    "def displayAll():\n",
    "    f=open(\"Reportcard.dat\",\"rb\")\n",
    "    try:\n",
    "        while True:\n",
    "            s=pickle.load(f)\n",
    "            print(s)\n",
    "    except:\n",
    "        f.close()\n",
    "while True:\n",
    "    print(\"1. Insert record\\n2. Display records\\n3. Exit\")\n",
    "    choice=int(input(\"Enter your choice (1/2/3): \"))\n",
    "    if choice==3:\n",
    "        break\n",
    "    elif choice==1:\n",
    "        insertRec()\n",
    "    elif choice==2:\n",
    "        displayAll()\n",
    "    print()"
   ]
  },
  {
   "cell_type": "code",
   "execution_count": 5,
   "metadata": {},
   "outputs": [
    {
     "ename": "SyntaxError",
     "evalue": "invalid syntax (<ipython-input-5-800c8620c052>, line 1)",
     "output_type": "error",
     "traceback": [
      "\u001b[1;36m  File \u001b[1;32m\"<ipython-input-5-800c8620c052>\"\u001b[1;36m, line \u001b[1;32m1\u001b[0m\n\u001b[1;33m    Create a menu driven program for student using dictionary\u001b[0m\n\u001b[1;37m           ^\u001b[0m\n\u001b[1;31mSyntaxError\u001b[0m\u001b[1;31m:\u001b[0m invalid syntax\n"
     ]
    }
   ],
   "source": [
    "Create a menu driven program for student using dictionary\n",
    "1. Insert record\n",
    "2. Display all records\n",
    "3. Search a record\n",
    "4. Delete a record\n",
    "5. Update a record\n",
    "6. Exit"
   ]
  },
  {
   "cell_type": "code",
   "execution_count": 2,
   "metadata": {},
   "outputs": [
    {
     "name": "stdout",
     "output_type": "stream",
     "text": [
      "Python too supports file handling and allows users to handle files \n",
      "i.e., to read and write files, along with many other file handling options, \n"
     ]
    },
    {
     "name": "stderr",
     "output_type": "stream",
     "text": [
      "That was end of line"
     ]
    }
   ],
   "source": [
    "import sys\n",
    "f=open(\"C:\\\\Users\\\\Krishna\\\\Desktop\\\\XII A\\\\Misc\\\\fh.txt\")\n",
    "l1=f.readline()\n",
    "l2=f.readline()\n",
    "sys.stdout.write(l1)\n",
    "sys.stdout.write(l2)\n",
    "sys.stderr.write(\"That was end of line\")"
   ]
  },
  {
   "cell_type": "code",
   "execution_count": 8,
   "metadata": {},
   "outputs": [
    {
     "name": "stdout",
     "output_type": "stream",
     "text": [
      "1. Insert record\n",
      "2. Display records\n",
      "3. Search a record\n",
      "4. Delete a record\n",
      "5. Update a record\n",
      "6. Exit\n",
      "Enter desired choice number: 4\n",
      "Enter rno to be deleted: 5\n",
      "\n",
      "1. Insert record\n",
      "2. Display records\n",
      "3. Search a record\n",
      "4. Delete a record\n",
      "5. Update a record\n",
      "6. Exit\n",
      "Enter desired choice number: 2\n",
      "{'Rollno': 1, 'Name': 'Amit Khanna', 'Marks': '45'}\n",
      "{'Rollno': 2, 'Name': 'Sunil Patel', 'Marks': '60'}\n",
      "{'Rollno': 3, 'Name': 'Zoya Ali', 'Marks': '72'}\n",
      "{'Rollno': 4, 'Name': 'Nitin Gadhkari', 'Marks': '89'}\n",
      "\n",
      "1. Insert record\n",
      "2. Display records\n",
      "3. Search a record\n",
      "4. Delete a record\n",
      "5. Update a record\n",
      "6. Exit\n",
      "Enter desired choice number: 4\n",
      "Enter rno to be deleted: 4\n",
      "\n",
      "1. Insert record\n",
      "2. Display records\n",
      "3. Search a record\n",
      "4. Delete a record\n",
      "5. Update a record\n",
      "6. Exit\n",
      "Enter desired choice number: 2\n",
      "{'Rollno': 1, 'Name': 'Amit Khanna', 'Marks': '45'}\n",
      "{'Rollno': 2, 'Name': 'Sunil Patel', 'Marks': '60'}\n",
      "{'Rollno': 3, 'Name': 'Zoya Ali', 'Marks': '72'}\n",
      "{'Rollno': 4, 'Name': 'Nitin Gadhkari', 'Marks': '89'}\n",
      "\n",
      "1. Insert record\n",
      "2. Display records\n",
      "3. Search a record\n",
      "4. Delete a record\n",
      "5. Update a record\n",
      "6. Exit\n",
      "Enter desired choice number: 6\n"
     ]
    }
   ],
   "source": []
  },
  {
   "cell_type": "code",
   "execution_count": null,
   "metadata": {},
   "outputs": [],
   "source": []
  }
 ],
 "metadata": {
  "kernelspec": {
   "display_name": "Python 3",
   "language": "python",
   "name": "python3"
  },
  "language_info": {
   "codemirror_mode": {
    "name": "ipython",
    "version": 3
   },
   "file_extension": ".py",
   "mimetype": "text/x-python",
   "name": "python",
   "nbconvert_exporter": "python",
   "pygments_lexer": "ipython3",
   "version": "3.7.6"
  }
 },
 "nbformat": 4,
 "nbformat_minor": 4
}
