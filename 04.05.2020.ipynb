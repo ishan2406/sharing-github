{
 "cells": [
  {
   "cell_type": "code",
   "execution_count": 3,
   "metadata": {},
   "outputs": [
    {
     "name": "stdout",
     "output_type": "stream",
     "text": [
      "Enter rno: 6\n",
      "Enter name:Sunil\n",
      "Enter percent: 76.8\n",
      "Wish to continue (Y/N): y\n",
      "Enter rno: 7\n",
      "Enter name:Munil\n",
      "Enter percent: 90.2\n",
      "Wish to continue (Y/N): n\n",
      "Record(s) is/are added to file\n"
     ]
    }
   ],
   "source": [
    "#Program to insert/append records in a binary file \"student.dat\"\n",
    "import pickle\n",
    "record=[]\n",
    "while True:\n",
    "    rno=int(input(\"Enter rno: \"))\n",
    "    record.append(rno)\n",
    "    name=input(\"Enter name:\")\n",
    "    record.append(name)\n",
    "    per=float(input(\"Enter percent: \"))\n",
    "    record.append(per)\n",
    "    choice=input(\"Wish to continue (Y/N): \")\n",
    "    if choice.upper()==\"N\":\n",
    "        break\n",
    "f=open(\"Stunew.dat\",\"ab\")\n",
    "pickle.dump(record,f)\n",
    "print(\"Record(s) is/are added to file\")\n",
    "f.close()"
   ]
  },
  {
   "cell_type": "code",
   "execution_count": 8,
   "metadata": {},
   "outputs": [],
   "source": [
    "#Program to read records from binary file\n",
    "import pickle\n",
    "fin=open(\"Stunew.dat\",\"rb\")\n",
    "try:\n",
    "    while True:\n",
    "        print(pickle.load(fin))\n",
    "except EOFError:\n",
    "    fin.close()"
   ]
  },
  {
   "cell_type": "code",
   "execution_count": 14,
   "metadata": {},
   "outputs": [
    {
     "name": "stdout",
     "output_type": "stream",
     "text": [
      "Enter co-eff of x^2: 4\n",
      "Enter co-eff of x: 1\n",
      "Enter constant: 2\n",
      "No real roots exist\n"
     ]
    }
   ],
   "source": [
    "#HW1: WAP to find roots of a quadratic equation using formula\n",
    "#roots = (-b +- sqrt((b^2)-4ac))/2a\n",
    "from math import *\n",
    "def roots(a,b,c):\n",
    "    D = pow(b,2) - 4*a*c\n",
    "    if D<0:\n",
    "        print(\"No real roots exist\")\n",
    "        return\n",
    "    root1 = (-b + sqrt(D))/2*a\n",
    "    root2 = (-b - sqrt(D))/2*a\n",
    "    if D==0:\n",
    "        print(\"Real & equal roots exist\")\n",
    "        print(\"Roots are\",round(root1,2),\"and\",round(root2,2))\n",
    "    else:\n",
    "        print(\"Real & unequal roots exist\")\n",
    "        print(\"Roots are\",round(root1,2),\"and\",round(root2,2))\n",
    "a=int(input(\"Enter co-eff of x^2: \"))\n",
    "while a<=0:\n",
    "    print(\"Co-eff of x^2 cannot be <=0\")\n",
    "    a=int(input(\"Enter value again: \"))\n",
    "b=int(input(\"Enter co-eff of x: \"))\n",
    "c=int(input(\"Enter constant: \"))\n",
    "roots(a,b,c)"
   ]
  },
  {
   "cell_type": "code",
   "execution_count": null,
   "metadata": {},
   "outputs": [],
   "source": [
    "#HW2: WAP to calculate arc length of an angle\n",
    "def arclen(r,x):\n",
    "    return 2*pi*r*x/360\n",
    "r=int(input(\"Enter radius in cm: \"))\n",
    "x=int(input(\"Enter angle in degrees: \"))\n",
    "print(\"Arc length is\",arclen(r,x))"
   ]
  },
  {
   "cell_type": "code",
   "execution_count": 8,
   "metadata": {},
   "outputs": [
    {
     "name": "stdout",
     "output_type": "stream",
     "text": [
      "Python too supports file handling and allows users to handle files \n",
      "\n",
      "69\n",
      "30\n",
      "hon t\n"
     ]
    }
   ],
   "source": [
    "f=open(\"C:\\\\Users\\\\Krishna\\\\Desktop\\\\Ishan\\\\fh.txt\")\n",
    "line=f.readline()\n",
    "print(line)\n",
    "print(f.tell())\n",
    "f.seek(30)\n",
    "print(f.tell())\n",
    "f.seek(3)\n",
    "s=f.read(5)\n",
    "print(s)"
   ]
  },
  {
   "cell_type": "code",
   "execution_count": 23,
   "metadata": {},
   "outputs": [
    {
     "name": "stdout",
     "output_type": "stream",
     "text": [
      "Enter rno to be searched: 1\n"
     ]
    }
   ],
   "source": [
    "import pickle\n",
    "f=open(\"Stunew.dat\",\"rb\")\n",
    "r=int(input(\"Enter rno to be searched: \"))\n",
    "try:\n",
    "    while True:\n",
    "        s=pickle.load(f)\n",
    "        x=s.split()\n",
    "        for i in s:\n",
    "            if i==r:\n",
    "                print(\"Record Found\")\n",
    "                print(\"Roll No:\",i)\n",
    "                print(\"Name:\",s[index[i]+1])\n",
    "                print(\"Percant:\",s[index[i]+2])\n",
    "        else:\n",
    "            print(\"Record Not Found\")\n",
    "except:\n",
    "    f.close()"
   ]
  }
 ],
 "metadata": {
  "kernelspec": {
   "display_name": "Python 3",
   "language": "python",
   "name": "python3"
  },
  "language_info": {
   "codemirror_mode": {
    "name": "ipython",
    "version": 3
   },
   "file_extension": ".py",
   "mimetype": "text/x-python",
   "name": "python",
   "nbconvert_exporter": "python",
   "pygments_lexer": "ipython3",
   "version": "3.7.6"
  }
 },
 "nbformat": 4,
 "nbformat_minor": 4
}
