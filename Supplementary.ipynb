{
 "cells": [
  {
   "cell_type": "code",
   "execution_count": 2,
   "metadata": {},
   "outputs": [
    {
     "name": "stdout",
     "output_type": "stream",
     "text": [
      "Enter number of sides for polygon: 8\n",
      "Enter length for sides: 2.3\n",
      "Area of polygon is 25.54\n"
     ]
    }
   ],
   "source": [
    "#1. WAP to calculate area of a regular polygon\n",
    "from math import tan,pi\n",
    "no_sides = int(input(\"Enter number of sides for polygon: \"))\n",
    "side_len = float(input(\"Enter length for sides: \"))\n",
    "poly_area = no_sides * (side_len**2) / (4 * tan(pi/no_sides))\n",
    "print(\"Area of polygon is\",round(poly_area,2))"
   ]
  },
  {
   "cell_type": "code",
   "execution_count": 3,
   "metadata": {},
   "outputs": [
    {
     "name": "stdout",
     "output_type": "stream",
     "text": [
      "Enter a binary number: 100001\n",
      "The decimal of given binary number is 33.0\n"
     ]
    }
   ],
   "source": [
    "#2. WAP to convert binary number to decimal; Eg.: 100001 ---> 33\n",
    "import math\n",
    "bno=list(input(\"Enter a binary number: \"))\n",
    "v=0\n",
    "for i in range(len(bno)):\n",
    "    d=bno.pop()\n",
    "    if d==\"1\":\n",
    "        v=v + math.pow(2,i)\n",
    "print(\"The decimal of given binary number is\",v)"
   ]
  },
  {
   "cell_type": "code",
   "execution_count": 11,
   "metadata": {},
   "outputs": [
    {
     "name": "stdout",
     "output_type": "stream",
     "text": [
      "Enter diameter: 10\n",
      "Enter angle: 361\n",
      "Angle not possible\n"
     ]
    }
   ],
   "source": [
    "#3. WAP to calculate the arc length of an angle\n",
    "from math import pi\n",
    "def arc_len():\n",
    "    dia=float(input(\"Enter diameter: \"))\n",
    "    angle=float(input(\"Enter angle: \"))\n",
    "    if angle>360:\n",
    "        print(\"Angle not possible\")\n",
    "        return\n",
    "    arclen=(pi * dia) * angle / 360\n",
    "    print(\"The arc length is\",round(arclen,2))\n",
    "arc_len()"
   ]
  },
  {
   "cell_type": "code",
   "execution_count": 12,
   "metadata": {},
   "outputs": [
    {
     "name": "stdout",
     "output_type": "stream",
     "text": [
      "Length of longest element is 7\n"
     ]
    }
   ],
   "source": [
    "#4. WAP using function to pass list of words as argument and return length of longes word\n",
    "def len_long(lst):\n",
    "    long=lst[0]\n",
    "    for i in lst:\n",
    "        if len(i)>len(long):\n",
    "            long=i\n",
    "    return len(long)\n",
    "lst=[\"rohan\",\"ena\",\"siny\",\"amit\",\"sumitra\",\"raj\"]\n",
    "print(\"Length of longest element is\",len_long(lst))"
   ]
  },
  {
   "cell_type": "code",
   "execution_count": 13,
   "metadata": {},
   "outputs": [
    {
     "name": "stdout",
     "output_type": "stream",
     "text": [
      "******************************\n",
      "\n",
      "\n",
      "\n",
      "\n",
      "******************************\n"
     ]
    }
   ],
   "source": [
    "#5. WAP to print * for 30 times, 3 blank lines and again * for 30 times; No loop to be used\n",
    "print(\"*\" * 30)\n",
    "print(\"\\n\" * 3)\n",
    "print(\"*\" * 30)"
   ]
  },
  {
   "cell_type": "code",
   "execution_count": 16,
   "metadata": {},
   "outputs": [
    {
     "name": "stdout",
     "output_type": "stream",
     "text": [
      "Enter username: Dpsbopal\n",
      "Enter password: ········\n",
      "Wrong user/passsword\n"
     ]
    }
   ],
   "source": [
    "from getpass import getpass\n",
    "user=input(\"Enter username: \")\n",
    "pw=getpass(\"Enter password: \")\n",
    "if user==\"Dpsbopal\" and pw==\"12345\":\n",
    "    print(\"Welcome\",user)\n",
    "else:\n",
    "    print(\"Wrong user/passsword\")"
   ]
  },
  {
   "cell_type": "code",
   "execution_count": 19,
   "metadata": {},
   "outputs": [
    {
     "name": "stdout",
     "output_type": "stream",
     "text": [
      "Enter number of rows: 5\n",
      "* \n",
      "* * \n",
      "* * * \n",
      "* * * * \n",
      "* * * * * \n"
     ]
    }
   ],
   "source": [
    "#*\n",
    "#* *\n",
    "#* * * upto n rows\n",
    "def pyramid():\n",
    "    n=int(input(\"Enter number of rows: \"))\n",
    "    for i in range(1,n+1):\n",
    "        print(\"* \" * i)\n",
    "pyramid()"
   ]
  },
  {
   "cell_type": "code",
   "execution_count": 3,
   "metadata": {},
   "outputs": [
    {
     "name": "stdout",
     "output_type": "stream",
     "text": [
      "TodaY IS A WonderfuL DaY\n"
     ]
    }
   ],
   "source": [
    "#29 July 2020\n",
    "#1. WAP using function (Parameter as string) to capitalize first & last letter of each word in string\n",
    "def capflletter(s):\n",
    "    s=ans=s.title()\n",
    "    ans=\"\"\n",
    "    for word in s.split():\n",
    "        ans += word[:-1] + word[-1].upper() + \" \"\n",
    "    return ans[:-1]\n",
    "print(capflletter(\"today is a wonderful day\"))"
   ]
  },
  {
   "cell_type": "code",
   "execution_count": 7,
   "metadata": {},
   "outputs": [
    {
     "name": "stdout",
     "output_type": "stream",
     "text": [
      "mY NaME Is IsHAn\n"
     ]
    }
   ],
   "source": [
    "#2. WAP using function (Para string) to swap upper to lower & vice versa\n",
    "def swapcase(s):\n",
    "    ans=\"\"\n",
    "    for ch in s:\n",
    "        if ch.islower():\n",
    "            ans+=ch.upper()\n",
    "        elif ch.isupper():\n",
    "            ans+=ch.lower()\n",
    "        else:\n",
    "            ans+=ch\n",
    "    return ans\n",
    "print(swapcase(\"My nAme iS iShaN\"))"
   ]
  },
  {
   "cell_type": "code",
   "execution_count": 9,
   "metadata": {},
   "outputs": [
    {
     "name": "stdout",
     "output_type": "stream",
     "text": [
      "H%ll% P%rm%t%t%%n\n"
     ]
    }
   ],
   "source": [
    "#3. WAP using function (Para String) that replaces all vowels with \"%\"\n",
    "def repvow(s):\n",
    "    ans=\"\"\n",
    "    for ch in s:\n",
    "        if ch in \"aeiouAEIOU\":\n",
    "            ans+=\"%\"\n",
    "        else:\n",
    "            ans+=ch\n",
    "    return ans\n",
    "print(repvow(\"Hello Permutation\"))"
   ]
  },
  {
   "cell_type": "code",
   "execution_count": 2,
   "metadata": {},
   "outputs": [
    {
     "name": "stdout",
     "output_type": "stream",
     "text": [
      "enter a string: on 8/11, 500 and 1000 rupee notes were banned\n",
      "original string:  on 8/11, 500 and 1000 rupee notes were banned\n",
      "digits are:  8115001000\n",
      "sum is:  16\n"
     ]
    }
   ],
   "source": [
    "def digistr():\n",
    "    s = input('enter a string: ')\n",
    "    dig=''\n",
    "    digsum=0\n",
    "    for ch in s:\n",
    "        if ch.isnumeric():\n",
    "            dig += ch\n",
    "            digsum += int(ch)\n",
    "    print('original string: ',s)\n",
    "    print('digits are: ',dig)\n",
    "    print('sum is: ',digsum)\n",
    "digistr()"
   ]
  },
  {
   "cell_type": "code",
   "execution_count": 5,
   "metadata": {},
   "outputs": [
    {
     "name": "stdout",
     "output_type": "stream",
     "text": [
      "Enter string: I turned 17 on 24 June 2020\n",
      "Original string is: I turned 17 on 24 June 2020\n"
     ]
    },
    {
     "data": {
      "text/plain": [
       "False"
      ]
     },
     "execution_count": 5,
     "metadata": {},
     "output_type": "execute_result"
    }
   ],
   "source": [
    "s=input(\"Enter string: \")\n",
    "print(\"Original string is:\",s)\n",
    "s.isalnum()"
   ]
  },
  {
   "cell_type": "code",
   "execution_count": 4,
   "metadata": {},
   "outputs": [
    {
     "name": "stdout",
     "output_type": "stream",
     "text": [
      "Enter rno of student: 12\n",
      "Enter name of student: Rohan\n",
      "Enter percent of student: 32.9\n",
      "Would you like to continue: n\n",
      "Content of student file are:\n",
      "\n",
      "1 Amit Shukla 78.5\n",
      "2 Suniti Shah 89.4\n",
      "3 Amishi Mehta 45.5\n",
      "4 Sunil Saha 89.5\n",
      "5 Seema Jha 67.0\n",
      "6 Rakesh Sharma 98.0\n",
      "7 Ashish Kapadia 75.8\n",
      "8 Alina Singh 84.2\n",
      "9 Vicky Ray 42.1\n",
      "10 Vinie Patel 59.6\n",
      "11 Fenny Saxena 65.0\n",
      "12 Rohan 32.9\n",
      "Enter rno to be searched: 11\n",
      "11 Fenny Saxena 65.0\n",
      "Enter rno to be searched: 8\n",
      "Current name is: Alina Singh\n",
      "Enter new name: Alin Singh\n"
     ]
    }
   ],
   "source": [
    "import pickle\n",
    "rec=[]\n",
    "while True:\n",
    "    rno=int(input(\"Enter rno of student: \"))\n",
    "    name=input(\"Enter name of student: \")\n",
    "    marks=float(input(\"Enter percent of student: \"))\n",
    "    #data=[rno,name,marks]\n",
    "    rec.append([rno,name,marks])\n",
    "    choice=input(\"Would you like to continue: \")\n",
    "    if choice.upper()==\"N\":\n",
    "        break\n",
    "f=open(\"stu\",\"ab\")\n",
    "pickle.dump(rec,f)\n",
    "f.close()\n",
    "f=open(\"stu\",\"rb\")\n",
    "try:\n",
    "    print(\"Content of student file are:\\n\")\n",
    "    while True:\n",
    "        stu_rec=pickle.load(f)\n",
    "        for r in stu_rec:\n",
    "            rno=r[0]\n",
    "            n=r[1]\n",
    "            m=r[2]\n",
    "            print(rno,n,m)\n",
    "except:\n",
    "    f.close()\n",
    "f=open(\"stu\",\"rb\")\n",
    "try:\n",
    "    rno=int(input(\"Enter rno to be searched: \"))\n",
    "    while True:\n",
    "        stu_rec=pickle.load(f)\n",
    "        for r in stu_rec:\n",
    "            if r[0]==rno:\n",
    "                print(rno,r[1],r[2])\n",
    "    else:\n",
    "        print(\"Record not found\")\n",
    "except:\n",
    "    f.close()\n",
    "f=open(\"stu\",\"rb\")\n",
    "try:\n",
    "    while True:\n",
    "        stu_rec=pickle.load(f)\n",
    "        found=0\n",
    "        \n",
    "        for r in stu_rec:\n",
    "            if r[0]==rno:\n",
    "                print(\"Current name is:\",r[1])\n",
    "                r[1]=input(\"Enter new name: \")\n",
    "                found=1\n",
    "                break\n",
    "        if found==1:\n",
    "            f.seek(0)\n",
    "            pickle.dump(stu_rec,f)\n",
    "            print(\"Name is updated\")\n",
    "except:\n",
    "    f.close()"
   ]
  },
  {
   "cell_type": "code",
   "execution_count": 2,
   "metadata": {},
   "outputs": [
    {
     "name": "stdout",
     "output_type": "stream",
     "text": [
      "1.Add 2.Display 3.Search 4.Update 5.Delete 6.Exit\n",
      "Enter choice: 2\n",
      "Roll number: 1\n",
      "Name       : Reeta Saha\n",
      "Marks      : 89\n",
      "Roll number: 2\n",
      "Name       : Gagan Mehta\n",
      "Marks      : 98\n",
      "Roll number: 3\n",
      "Name       : Amit Shukla\n",
      "Marks      : 72\n",
      "Roll number: 4\n",
      "Name       : Ena Joseph\n",
      "Marks      : 64\n",
      "Roll number: 5\n",
      "Name       : Sumitra Shah\n",
      "Marks      : 43\n",
      "1.Add 2.Display 3.Search 4.Update 5.Delete 6.Exit\n",
      "Enter choice: 1\n",
      "Enter roll no: 6\n",
      "Enter name: Ashok Patil\n",
      "Enter marks: 77\n",
      "1.Add 2.Display 3.Search 4.Update 5.Delete 6.Exit\n",
      "Enter choice: 23\n",
      "Invalid Choice!!\n",
      "Enter value again...\n",
      "1.Add 2.Display 3.Search 4.Update 5.Delete 6.Exit\n",
      "Enter choice: 2\n",
      "Roll number: 1\n",
      "Name       : Reeta Saha\n",
      "Marks      : 89\n",
      "Roll number: 2\n",
      "Name       : Gagan Mehta\n",
      "Marks      : 98\n",
      "Roll number: 3\n",
      "Name       : Amit Shukla\n",
      "Marks      : 72\n",
      "Roll number: 4\n",
      "Name       : Ena Joseph\n",
      "Marks      : 64\n",
      "Roll number: 5\n",
      "Name       : Sumitra Shah\n",
      "Marks      : 43\n",
      "Roll number: 6\n",
      "Name       : Ashok Patil\n",
      "Marks      : 77\n",
      "1.Add 2.Display 3.Search 4.Update 5.Delete 6.Exit\n",
      "Enter choice: 3\n",
      "Enter roll no. to be searched: 5\n",
      "Roll Number :  5\n",
      "Name :  Sumitra Shah\n",
      "Marks :  43\n",
      "1.Add 2.Display 3.Search 4.Update 5.Delete 6.Exit\n",
      "Enter choice: 3\n",
      "Enter roll no. to be searched: 7\n",
      "Record Not Found in File ....\n",
      "1.Add 2.Display 3.Search 4.Update 5.Delete 6.Exit\n",
      "Enter choice: 4\n",
      "Enter roll no. to be updated: 2\n",
      "Enter new marks: 99\n",
      "1.Add 2.Display 3.Search 4.Update 5.Delete 6.Exit\n",
      "Enter choice: 5\n",
      "Enter roll no. to be deleted: 6\n",
      "1.Add 2.Display 3.Search 4.Update 5.Delete 6.Exit\n",
      "Enter choice: 2\n",
      "Roll number: 1\n",
      "Name       : Reeta Saha\n",
      "Marks      : 89\n",
      "Roll number: 2\n",
      "Name       : Gagan Mehta\n",
      "Marks      : 99\n",
      "Roll number: 3\n",
      "Name       : Amit Shukla\n",
      "Marks      : 72\n",
      "Roll number: 4\n",
      "Name       : Ena Joseph\n",
      "Marks      : 64\n",
      "Roll number: 5\n",
      "Name       : Sumitra Shah\n",
      "Marks      : 43\n",
      "1.Add 2.Display 3.Search 4.Update 5.Delete 6.Exit\n",
      "Enter choice: 6\n"
     ]
    }
   ],
   "source": [
    "import pickle\n",
    "import os\n",
    "def insertRec():\n",
    "    rno=int(input(\"Enter roll no: \"))\n",
    "    name=input(\"Enter name: \")\n",
    "    marks=int(input(\"Enter marks: \"))\n",
    "    rec={\"Rollno\":rno,\"Name\":name,\"Marks\":marks}\n",
    "    f=open(\"Studict.dat\",\"ab\")\n",
    "    pickle.dump(rec,f)\n",
    "    f.close()\n",
    "def readRec():\n",
    "    f=open(\"Studict.dat\",\"rb\")\n",
    "    while True:\n",
    "        try:\n",
    "            rec=pickle.load(f)\n",
    "            print(\"Roll number:\",rec[\"Rollno\"])\n",
    "            print(\"Name       :\",rec[\"Name\"])\n",
    "            print(\"Marks      :\",rec[\"Marks\"])\n",
    "        except:\n",
    "            break\n",
    "    f.close()\n",
    "def searchRno(r):\n",
    "    f=open(\"Studict.dat\",\"rb\")\n",
    "    flag=False\n",
    "    while True:\n",
    "        try:\n",
    "            rec=pickle.load(f)\n",
    "            if rec[\"Rollno\"]==r:\n",
    "                print(\"Roll Number : \",rec[\"Rollno\"])\n",
    "                print(\"Name : \",rec[\"Name\"])\n",
    "                print(\"Marks : \",rec[\"Marks\"])\n",
    "                flag=True\n",
    "        except EOFError:\n",
    "            break\n",
    "    if flag==False:\n",
    "        print(\"Record Not Found in File ....\")\n",
    "    f.close()\n",
    "def updateMarks(r,m):\n",
    "    f=open(\"Studict.dat\",\"rb\")\n",
    "    reclst=[]\n",
    "    while True:\n",
    "        try:\n",
    "            rec=pickle.load(f)\n",
    "            reclst.append(rec)\n",
    "        except EOFError:\n",
    "            break\n",
    "    f.close()\n",
    "    for i in range(len(reclst)):\n",
    "        if reclst[i][\"Rollno\"]==r:\n",
    "            reclst[i][\"Marks\"]=m\n",
    "    f=open(\"Studict.dat\",\"wb\")\n",
    "    for x in reclst:\n",
    "        pickle.dump(x,f)\n",
    "    f.close()\n",
    "def deleteRec(r):\n",
    "    f=open(\"Studict.dat\",\"rb\")\n",
    "    reclst=[]\n",
    "    while True:\n",
    "        try:\n",
    "            rec=pickle.load(f)\n",
    "            reclst.append(rec)\n",
    "        except:\n",
    "            break\n",
    "    f.close()\n",
    "    f=open(\"Studict.dat\",\"wb\")\n",
    "    for x in reclst:\n",
    "        if x[\"Rollno\"]==r:\n",
    "            continue\n",
    "        pickle.dump(x,f)\n",
    "    f.close()\n",
    "while True:\n",
    "    print(\"1.Add 2.Display 3.Search 4.Update 5.Delete 6.Exit\")\n",
    "    ch=int(input(\"Enter choice: \"))\n",
    "    if ch==6:\n",
    "        break\n",
    "    elif ch==1:\n",
    "        insertRec()\n",
    "    elif ch==2:\n",
    "        readRec()\n",
    "    elif ch==3:\n",
    "        r=int(input(\"Enter roll no. to be searched: \"))\n",
    "        searchRno(r)\n",
    "    elif ch==4:\n",
    "        r=int(input(\"Enter roll no. to be updated: \"))\n",
    "        m=int(input(\"Enter new marks: \"))\n",
    "        updateMarks(r,m)\n",
    "    elif ch==5:\n",
    "        r=int(input(\"Enter roll no. to be deleted: \"))\n",
    "        deleteRec(r)\n",
    "    else:\n",
    "        print(\"Invalid Choice!!\")\n",
    "        print(\"Enter value again...\")"
   ]
  },
  {
   "cell_type": "code",
   "execution_count": null,
   "metadata": {},
   "outputs": [],
   "source": []
  }
 ],
 "metadata": {
  "kernelspec": {
   "display_name": "Python 3",
   "language": "python",
   "name": "python3"
  },
  "language_info": {
   "codemirror_mode": {
    "name": "ipython",
    "version": 3
   },
   "file_extension": ".py",
   "mimetype": "text/x-python",
   "name": "python",
   "nbconvert_exporter": "python",
   "pygments_lexer": "ipython3",
   "version": "3.7.6"
  }
 },
 "nbformat": 4,
 "nbformat_minor": 4
}
