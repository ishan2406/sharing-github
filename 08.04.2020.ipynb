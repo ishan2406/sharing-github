{
 "cells": [
  {
   "cell_type": "code",
   "execution_count": 1,
   "metadata": {},
   "outputs": [
    {
     "name": "stdout",
     "output_type": "stream",
     "text": [
      "Each line of code includes a sequence of characters and they form text file.\n"
     ]
    }
   ],
   "source": [
    "fo=open(\"E:\\\\Ishan\\\\filehandling.txt\")\n",
    "data=fo.readlines()\n",
    "for line in data:\n",
    "    if line[0]=='E':\n",
    "        print(line)\n",
    "fo.close()"
   ]
  },
  {
   "cell_type": "code",
   "execution_count": 2,
   "metadata": {},
   "outputs": [],
   "source": [
    "#Standard Input,Output Devices as Files\n",
    "#Program reads two lines only\n"
   ]
  },
  {
   "cell_type": "code",
   "execution_count": 3,
   "metadata": {},
   "outputs": [
    {
     "ename": "SyntaxError",
     "evalue": "EOL while scanning string literal (<ipython-input-3-07265858a025>, line 3)",
     "output_type": "error",
     "traceback": [
      "\u001b[1;36m  File \u001b[1;32m\"<ipython-input-3-07265858a025>\"\u001b[1;36m, line \u001b[1;32m3\u001b[0m\n\u001b[1;33m    f=open(r\"E:\\\\Ishan)\u001b[0m\n\u001b[1;37m                       ^\u001b[0m\n\u001b[1;31mSyntaxError\u001b[0m\u001b[1;31m:\u001b[0m EOL while scanning string literal\n"
     ]
    }
   ],
   "source": [
    "#Program reads all contents of file\n",
    "import sys\n",
    "f=open(r\"E:\\\\Ishan)\n",
    "data=f.read()"
   ]
  },
  {
   "cell_type": "code",
   "execution_count": 6,
   "metadata": {},
   "outputs": [
    {
     "name": "stdout",
     "output_type": "stream",
     "text": [
      "Hello, how are you\n",
      "We are working with File Handling in Python\n",
      "Today we have started with Chapter 5\n",
      "CS WT Syllabus\n",
      "Chapter 1,2,3\n"
     ]
    }
   ],
   "source": [
    "#Opening file with \"with\" statement\n",
    "with open(\"E:\\\\Ishan\\\\hello.txt\") as mf:\n",
    "    data=mf.read()\n",
    "    print(data)"
   ]
  },
  {
   "cell_type": "code",
   "execution_count": 12,
   "metadata": {},
   "outputs": [
    {
     "name": "stdout",
     "output_type": "stream",
     "text": [
      "3,2,1 retpahC\n",
      "suballyS TW SC\n",
      "5 retpahC htiw detrats evah ew yadoT\n",
      "nohtyP ni gnildnaH eliF htiw gnikrow era eW\n",
      "uoy era woh ,olleH\n"
     ]
    }
   ],
   "source": [
    "#Reverse content of file to new file\n",
    "with open(\"E:\\\\Ishan\\\\hello.txt\") as mf:\n",
    "    data=mf.read()\n",
    "newdata=data[::-1]\n",
    "\n",
    "with open(\"E:\\\\Ishan\\\\rev.txt\",\"w\") as fo:\n",
    "    fo.write(newdata)\n",
    "\n",
    "fo=open(\"E:\\\\Ishan\\\\rev.txt\")\n",
    "fo.seek(0)\n",
    "print(fo.read())"
   ]
  },
  {
   "cell_type": "code",
   "execution_count": 17,
   "metadata": {},
   "outputs": [
    {
     "name": "stdout",
     "output_type": "stream",
     "text": [
      "{\n",
      "    \"name\": \"ishan\",\n",
      "    \"rollno\": 21,\n",
      "    \"per\": 74.8,\n",
      "    \"phonemunber\": 6351340608\n",
      "}\n"
     ]
    }
   ],
   "source": [
    "import json\n",
    "\n",
    "#Data to be written\n",
    "dictionary={\n",
    "    \"name\" : \"ishan\",\n",
    "    \"rollno\" : 21,\n",
    "    \"per\" : 74.8,\n",
    "    \"phonemunber\" : 6351340608\n",
    "}\n",
    "\n",
    "#Serializing json\n",
    "jo=json.dumps(dictionary,indent=4)\n",
    "\n",
    "#Writing to sample.json\n",
    "with open(\"sample.json\",\"w\") as outfile:\n",
    "    outfile.write(jo)\n",
    "    \n",
    "fin=open(\"sample.json\")\n",
    "print(fin.read())"
   ]
  },
  {
   "cell_type": "code",
   "execution_count": null,
   "metadata": {},
   "outputs": [],
   "source": []
  }
 ],
 "metadata": {
  "kernelspec": {
   "display_name": "Python 3",
   "language": "python",
   "name": "python3"
  },
  "language_info": {
   "codemirror_mode": {
    "name": "ipython",
    "version": 3
   },
   "file_extension": ".py",
   "mimetype": "text/x-python",
   "name": "python",
   "nbconvert_exporter": "python",
   "pygments_lexer": "ipython3",
   "version": "3.7.6"
  }
 },
 "nbformat": 4,
 "nbformat_minor": 4
}
