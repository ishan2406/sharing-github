{
 "cells": [
  {
   "cell_type": "code",
   "execution_count": 3,
   "metadata": {},
   "outputs": [
    {
     "name": "stdout",
     "output_type": "stream",
     "text": [
      "Enter number: 275\n",
      "Enter number: 30\n",
      "GCD of 275 and 30 is 5\n"
     ]
    }
   ],
   "source": [
    "#Write a recursive funtion to find gcd\n",
    "def gcd(a,b):\n",
    "    if b==0:\n",
    "        return a\n",
    "    else:\n",
    "        return gcd(b,a%b)\n",
    "p=int(input(\"Enter number: \"))\n",
    "q=int(input(\"Enter number: \"))\n",
    "print(\"GCD of\",p,\"and\",q,\"is\",gcd(p,q))"
   ]
  },
  {
   "cell_type": "code",
   "execution_count": 6,
   "metadata": {},
   "outputs": [
    {
     "name": "stdout",
     "output_type": "stream",
     "text": [
      "Enter number: 7\n",
      "Product of alternate numbers till 7 is 105\n"
     ]
    }
   ],
   "source": [
    "#Write a recursive function to find product of alternate numbers of N\n",
    "#Eg if proskip(6) Ans is 48 i.e 2 X 4 X 6 = 48\n",
    "#Eg if proskip(7) Ans is 105 i.e 1 X 3 X 5 X 7 = 105\n",
    "def proskip(n):\n",
    "    if n<=0:\n",
    "        return 1\n",
    "    else:\n",
    "        return n * proskip(n-2)\n",
    "n=int(input(\"Enter number: \"))\n",
    "print(\"Product of alternate numbers till\",n,\"is\",proskip(n))"
   ]
  },
  {
   "cell_type": "code",
   "execution_count": 1,
   "metadata": {},
   "outputs": [
    {
     "name": "stdout",
     "output_type": "stream",
     "text": [
      "Enter number: 4\n",
      "Sum of squares till 4 is 30\n"
     ]
    }
   ],
   "source": [
    "#Write a recursive funtion to print sum of squares of N\n",
    "def square_sum(n):\n",
    "    if n<=1:\n",
    "        return 1\n",
    "    else:\n",
    "        return n*n + square_sum(n-1)\n",
    "n=int(input(\"Enter number: \"))\n",
    "print(\"Sum of squares till\",n,\"is\",square_sum(n))"
   ]
  },
  {
   "cell_type": "code",
   "execution_count": 2,
   "metadata": {},
   "outputs": [
    {
     "name": "stdout",
     "output_type": "stream",
     "text": [
      "Enter number: 34\n",
      "It is not a happy :( number\n"
     ]
    }
   ],
   "source": [
    "# Write a recursive program to check whether a number is Happy Number or not\n",
    "def sumofsq(n):\n",
    "    def calsum(n):\n",
    "        if n==0:\n",
    "            return n\n",
    "        else:\n",
    "            return (n%10)**2 + calsum(n//10)\n",
    "    x = calsum(n)\n",
    "    l=len(str(x))\n",
    "    if l==1:\n",
    "        ishappy(x)\n",
    "    else:\n",
    "        sumofsq(x)\n",
    "def ishappy(x):\n",
    "    if x==1:\n",
    "        print(\"It is a happy :) number\")\n",
    "    else:\n",
    "        print(\"It is not a happy :( number\")\n",
    "n=int(input(\"Enter number: \"))\n",
    "sumofsq(n)"
   ]
  },
  {
   "cell_type": "code",
   "execution_count": null,
   "metadata": {},
   "outputs": [],
   "source": []
  }
 ],
 "metadata": {
  "kernelspec": {
   "display_name": "Python 3",
   "language": "python",
   "name": "python3"
  },
  "language_info": {
   "codemirror_mode": {
    "name": "ipython",
    "version": 3
   },
   "file_extension": ".py",
   "mimetype": "text/x-python",
   "name": "python",
   "nbconvert_exporter": "python",
   "pygments_lexer": "ipython3",
   "version": "3.7.6"
  }
 },
 "nbformat": 4,
 "nbformat_minor": 4
}
