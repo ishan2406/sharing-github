{
 "cells": [
  {
   "cell_type": "code",
   "execution_count": 7,
   "metadata": {},
   "outputs": [
    {
     "name": "stdout",
     "output_type": "stream",
     "text": [
      "120\n",
      "2.46 µs ± 344 ns per loop (mean ± std. dev. of 7 runs, 100000 loops each)\n",
      "3.72 µs ± 340 ns per loop (mean ± std. dev. of 7 runs, 100000 loops each)\n"
     ]
    }
   ],
   "source": [
    "def fact(n):\n",
    "    if n == 0:\n",
    "        return 1\n",
    "    else:\n",
    "        return n * fact(n-1)\n",
    "\n",
    "print(fact(5))\n",
    "%timeit fact(5)\n",
    "%timeit fact(10)"
   ]
  },
  {
   "cell_type": "code",
   "execution_count": 8,
   "metadata": {},
   "outputs": [
    {
     "name": "stdout",
     "output_type": "stream",
     "text": [
      "120\n",
      "2.11 µs ± 663 ns per loop (mean ± std. dev. of 7 runs, 1000000 loops each)\n"
     ]
    }
   ],
   "source": [
    "def fact(n):\n",
    "    product = 1\n",
    "    for i in range(n):\n",
    "        product = product * (i+1)\n",
    "    return product\n",
    "\n",
    "print(fact(5))\n",
    "%timeit fact(5)"
   ]
  },
  {
   "cell_type": "code",
   "execution_count": 9,
   "metadata": {},
   "outputs": [
    {
     "name": "stdout",
     "output_type": "stream",
     "text": [
      "True\n",
      "343 ns ± 31 ns per loop (mean ± std. dev. of 7 runs, 1000000 loops each)\n"
     ]
    }
   ],
   "source": [
    "def search_algo(num,items):\n",
    "    for item in items:\n",
    "        if item == num:\n",
    "            return True\n",
    "        else:\n",
    "            return False\n",
    "        \n",
    "nums = [2,4,6,8,10]\n",
    "print(search_algo(2,nums))\n",
    "%timeit search_algo(2,nums)"
   ]
  },
  {
   "cell_type": "code",
   "execution_count": 10,
   "metadata": {},
   "outputs": [
    {
     "name": "stdout",
     "output_type": "stream",
     "text": [
      "6368040000\n",
      "0.06704378128051758\n",
      "45 ns ± 0.826 ns per loop (mean ± std. dev. of 7 runs, 10000000 loops each)\n"
     ]
    }
   ],
   "source": [
    "import time\n",
    "start = time.time()\n",
    "r=0\n",
    "for i in range(400):\n",
    "    for n in range(400):\n",
    "        r = r  +(i*n)\n",
    "\n",
    "print(r)\n",
    "end = time.time()\n",
    "print(end-start)\n",
    "%timeit end=start"
   ]
  },
  {
   "cell_type": "code",
   "execution_count": 18,
   "metadata": {},
   "outputs": [
    {
     "name": "stdout",
     "output_type": "stream",
     "text": [
      "Enter number: 71\n",
      "Number is prime\n",
      "3.131769895553589\n"
     ]
    }
   ],
   "source": [
    "#Prime 1\n",
    "import time\n",
    "start = time.time()\n",
    "a = int(input(\"Enter number: \"))\n",
    "k=0\n",
    "for i in range(2,a//2+1):\n",
    "    if k%i!=0:\n",
    "        k=k+1\n",
    "if k<=0:\n",
    "    print(\"Number is prime\")\n",
    "else:\n",
    "    print(\"Number isn't prime\")\n",
    "end=time.time()\n",
    "print(end-start)"
   ]
  },
  {
   "cell_type": "code",
   "execution_count": 19,
   "metadata": {},
   "outputs": [
    {
     "name": "stdout",
     "output_type": "stream",
     "text": [
      "Enter number: 71\n",
      "number is prime\n",
      "1.6533968448638916\n"
     ]
    }
   ],
   "source": [
    "#Prime 2\n",
    "import time\n",
    "start=time.time()\n",
    "number=int(input(\"Enter number: \"))\n",
    "if number>1:\n",
    "    for i in range(2,number):\n",
    "        if number%i==0:\n",
    "            print(\"Not prime\")\n",
    "            break\n",
    "    else:\n",
    "        print(\"number is prime\")\n",
    "else:\n",
    "    print(\"Not prime\")\n",
    "end=time.time()\n",
    "print(end-start)"
   ]
  },
  {
   "cell_type": "code",
   "execution_count": 21,
   "metadata": {},
   "outputs": [
    {
     "name": "stdout",
     "output_type": "stream",
     "text": [
      "168.58742117881775\n",
      "138 ns ± 7.21 ns per loop (mean ± std. dev. of 7 runs, 10000000 loops each)\n"
     ]
    }
   ],
   "source": [
    "import time\n",
    "def my_func(data):\n",
    "    start=time.time()\n",
    "    first_ele=data[0]\n",
    "    \n",
    "    for value in data:\n",
    "        print(value)\n",
    "    \n",
    "    for x in data:\n",
    "        for y in data:\n",
    "            print(x,y)\n",
    "end=time.time()\n",
    "print(end-start)\n",
    "%timeit end-start"
   ]
  },
  {
   "cell_type": "code",
   "execution_count": null,
   "metadata": {},
   "outputs": [],
   "source": []
  }
 ],
 "metadata": {
  "kernelspec": {
   "display_name": "Python 3",
   "language": "python",
   "name": "python3"
  },
  "language_info": {
   "codemirror_mode": {
    "name": "ipython",
    "version": 3
   },
   "file_extension": ".py",
   "mimetype": "text/x-python",
   "name": "python",
   "nbconvert_exporter": "python",
   "pygments_lexer": "ipython3",
   "version": "3.7.6"
  }
 },
 "nbformat": 4,
 "nbformat_minor": 4
}
