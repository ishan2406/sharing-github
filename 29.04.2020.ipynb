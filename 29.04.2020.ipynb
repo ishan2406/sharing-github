{
 "cells": [
  {
   "cell_type": "code",
   "execution_count": 1,
   "metadata": {},
   "outputs": [
    {
     "name": "stdout",
     "output_type": "stream",
     "text": [
      "HELLO WORLD\n",
      "ARE YOU ONLINE?\n"
     ]
    }
   ],
   "source": [
    "#Copying function\n",
    "def shout(text):\n",
    "    return text.upper()\n",
    "print(shout(\"Hello World\"))\n",
    "yell=shout\n",
    "print(yell(\"Are you Online?\"))"
   ]
  },
  {
   "cell_type": "code",
   "execution_count": 2,
   "metadata": {},
   "outputs": [
    {
     "name": "stdout",
     "output_type": "stream",
     "text": [
      "HI, I AM CREATED BY A FUNCTION PASSED AS AN ARGUMENT\n",
      "hi, i am created by a function passed as an argument\n"
     ]
    }
   ],
   "source": [
    "#Passing function as argument to function\n",
    "def shout(text):\n",
    "    return text.upper()\n",
    "def whisper(text):\n",
    "    return text.lower()\n",
    "def greet(func):\n",
    "    #storing the functionin a variable\n",
    "    greeting=func(\"Hi, I am Created by a FUNCtion passed as an argument\")\n",
    "    print(greeting)\n",
    "greet(shout)\n",
    "greet(whisper)\n",
    "#This is also known as Higher Order Funtions"
   ]
  },
  {
   "cell_type": "code",
   "execution_count": 4,
   "metadata": {},
   "outputs": [
    {
     "name": "stdout",
     "output_type": "stream",
     "text": [
      "Mohan is 34 years old\n",
      "Soham is 20 years old\n",
      "Amit is 20 years old\n"
     ]
    }
   ],
   "source": [
    "#Default argument function\n",
    "def demo(name='Amit',age='20'):\n",
    "    print(name + ' is ' + age + ' years old')\n",
    "#calling the function\n",
    "demo(\"Mohan\",\"34\")\n",
    "demo(\"Soham\")\n",
    "demo()"
   ]
  },
  {
   "cell_type": "code",
   "execution_count": 5,
   "metadata": {},
   "outputs": [
    {
     "name": "stdout",
     "output_type": "stream",
     "text": [
      "Hello Ishan\n",
      "Hello Devansh\n",
      "Hello Om\n"
     ]
    }
   ],
   "source": [
    "#WAP to show use of Arbitrary Arguments\n",
    "def hello(*names):\n",
    "    for a in names:\n",
    "        print(\"Hello\",a)\n",
    "hello(\"Ishan\",\"Devansh\",\"Om\")"
   ]
  },
  {
   "cell_type": "code",
   "execution_count": 8,
   "metadata": {},
   "outputs": [
    {
     "name": "stdout",
     "output_type": "stream",
     "text": [
      "Steve is 35 years old\n",
      "Mohan is 20 years old\n",
      "Bucky is 40 years old\n",
      "Siny is 56 years old\n"
     ]
    }
   ],
   "source": [
    "#Keyword Arguments\n",
    "def demo(name,age):\n",
    "     print(name + ' is ' + age + ' years old')\n",
    "\n",
    "#2 keyword arguments(In Order)\n",
    "demo(name=\"Steve\",age=\"35\")\n",
    "\n",
    "#2 keyword argument(Not In Order)\n",
    "demo(age=\"20\",name=\"Mohan\")\n",
    "\n",
    "#1 positional and 1 keyword argument\n",
    "demo(\"Bucky\",age=\"40\")\n",
    "demo(\"Siny\",\"56\")"
   ]
  },
  {
   "cell_type": "code",
   "execution_count": 17,
   "metadata": {},
   "outputs": [
    {
     "name": "stdout",
     "output_type": "stream",
     "text": [
      "1 2 3 4 5 6 7 8 9 153 370 371 407 1634 8208 9474 "
     ]
    }
   ],
   "source": [
    "#WAF that takes 2 arguments & prints all the armstrong numbers between 2 numbers\n",
    "def armstrong(low,up):\n",
    "    for i in range(low,up+1):\n",
    "        length=len(str(i))\n",
    "        ctr=0\n",
    "        j=i\n",
    "        while j>0:\n",
    "            r=j%10\n",
    "            ctr+=r**length\n",
    "            j//=10\n",
    "        if i==ctr:\n",
    "            print(i,end=' ')\n",
    "armstrong(1,10000)"
   ]
  },
  {
   "cell_type": "code",
   "execution_count": 19,
   "metadata": {},
   "outputs": [
    {
     "name": "stdout",
     "output_type": "stream",
     "text": [
      "{'Mumbai': 8000, 'Gujarat': 4000, 'Goa': 7, 'Sikkim': 1}\n"
     ]
    }
   ],
   "source": [
    "#WAF that takes a list and converts it to dictionary\n",
    "def ltod(lst):\n",
    "    d={lst[i]:lst[i+1] for i in range(0,len(lst),2)}\n",
    "    return d\n",
    "lst=[\"Mumbai\",8000,\"Gujarat\",4000,\"Goa\",7,\"Sikkim\",1]\n",
    "print(ltod(lst))"
   ]
  },
  {
   "cell_type": "code",
   "execution_count": 24,
   "metadata": {},
   "outputs": [
    {
     "name": "stdout",
     "output_type": "stream",
     "text": [
      "Product: Maggi In stock: 102\n",
      "Product: Cadbury In stock: 50\n",
      "Product: Biscuits In stock: 100\n"
     ]
    }
   ],
   "source": [
    "#WAF that takes dictionary as argument and print its keys and values\n",
    "def stock(d):\n",
    "    for key in d:\n",
    "        print(\"Product:\",key,\"In stock:\",d[key])\n",
    "d={\"Maggi\":102,\"Cadbury\":50,\"Biscuits\":100}\n",
    "stock(d)"
   ]
  },
  {
   "cell_type": "code",
   "execution_count": null,
   "metadata": {},
   "outputs": [],
   "source": []
  }
 ],
 "metadata": {
  "kernelspec": {
   "display_name": "Python 3",
   "language": "python",
   "name": "python3"
  },
  "language_info": {
   "codemirror_mode": {
    "name": "ipython",
    "version": 3
   },
   "file_extension": ".py",
   "mimetype": "text/x-python",
   "name": "python",
   "nbconvert_exporter": "python",
   "pygments_lexer": "ipython3",
   "version": "3.7.6"
  }
 },
 "nbformat": 4,
 "nbformat_minor": 4
}
