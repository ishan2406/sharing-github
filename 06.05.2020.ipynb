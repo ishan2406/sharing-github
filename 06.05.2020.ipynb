{
 "cells": [
  {
   "cell_type": "code",
   "execution_count": null,
   "metadata": {},
   "outputs": [],
   "source": []
  },
  {
   "cell_type": "code",
   "execution_count": 5,
   "metadata": {},
   "outputs": [
    {
     "name": "stdout",
     "output_type": "stream",
     "text": [
      "TODAY IS WEDNESDAY\n",
      "Today%is%Wednesday\n",
      "18\n"
     ]
    }
   ],
   "source": [
    "def f1(t):\n",
    "    return t.upper()\n",
    "def f2(t):\n",
    "    x=t.replace(\" \",\"%\")\n",
    "    return x\n",
    "def f3(t):\n",
    "    return len(t)\n",
    "def func(fun):\n",
    "    s=fun(\"Today is Wednesday\")\n",
    "    print(s)\n",
    "func(f1)\n",
    "func(f2)\n",
    "func(f3)"
   ]
  },
  {
   "cell_type": "code",
   "execution_count": 6,
   "metadata": {},
   "outputs": [
    {
     "name": "stdout",
     "output_type": "stream",
     "text": [
      "%\n"
     ]
    }
   ],
   "source": [
    "print(\"Today is Wed\".join(\"%\"))"
   ]
  },
  {
   "cell_type": "code",
   "execution_count": 8,
   "metadata": {},
   "outputs": [
    {
     "name": "stdout",
     "output_type": "stream",
     "text": [
      "Enter rno: 2\n",
      "Enter name: Sumit\n",
      "Enter marks: 55\n",
      "Enter marks: 65\n",
      "Enter marks: 75\n",
      "Enter y to continue: Y\n",
      "Enter rno: 3\n",
      "Enter name: Ramit\n",
      "Enter marks: 77\n",
      "Enter marks: 748\n",
      "Enter marks: 79\n",
      "Enter y to continue: n\n",
      "['1', 'Amit', '[89.0, 67.0, 55.0]']\n",
      "['2', 'Sumit', '[55.0, 65.0, 75.0]']\n",
      "['3', 'Ramit', '[77.0, 748.0, 79.0]']\n"
     ]
    }
   ],
   "source": [
    "import csv\n",
    "f=open(\"C:\\\\Users\\\\Krishna\\\\Desktop\\\\studmmk.csv\",\"a\",newline=\"\")\n",
    "cw=csv.writer(f)\n",
    "ch='y'\n",
    "while ch=='y':\n",
    "    L=[]\n",
    "    rno=int(input(\"Enter rno: \"))\n",
    "    L.append(rno)\n",
    "    name=input(\"Enter name: \")\n",
    "    L.append(name)\n",
    "    m=[]\n",
    "    for i in range(3):\n",
    "        a=float(input(\"Enter marks: \"))\n",
    "        m.append(a)\n",
    "    L.append(m)\n",
    "    cw.writerow(L)\n",
    "    ch=input(\"Enter y to continue: \")\n",
    "    ch=ch.lower()\n",
    "f.close()\n",
    "f=open(\"C:\\\\Users\\\\Krishna\\\\Desktop\\\\Ishan\\\\studmk.csv\",\"r\")\n",
    "cr=csv.reader(f)\n",
    "for i in cr:\n",
    "    print(i)\n",
    "f.close()"
   ]
  },
  {
   "cell_type": "code",
   "execution_count": null,
   "metadata": {},
   "outputs": [],
   "source": []
  }
 ],
 "metadata": {
  "kernelspec": {
   "display_name": "Python 3",
   "language": "python",
   "name": "python3"
  },
  "language_info": {
   "codemirror_mode": {
    "name": "ipython",
    "version": 3
   },
   "file_extension": ".py",
   "mimetype": "text/x-python",
   "name": "python",
   "nbconvert_exporter": "python",
   "pygments_lexer": "ipython3",
   "version": "3.7.6"
  }
 },
 "nbformat": 4,
 "nbformat_minor": 4
}
