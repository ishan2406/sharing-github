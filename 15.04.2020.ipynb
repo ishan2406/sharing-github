{
 "cells": [
  {
   "cell_type": "code",
   "execution_count": 1,
   "metadata": {},
   "outputs": [
    {
     "name": "stdout",
     "output_type": "stream",
     "text": [
      "File name: stud.dat\n",
      "File mode: rb\n",
      "Is file readable: True\n",
      "Is file writable: False\n",
      "Is file closed: False\n",
      "Is file closed: True\n"
     ]
    }
   ],
   "source": [
    "#Properties of file object\n",
    "f=open(\"stud.dat\",\"rb\")\n",
    "print(\"File name:\",f.name)\n",
    "print(\"File mode:\",f.mode)\n",
    "print(\"Is file readable:\",f.readable())\n",
    "print(\"Is file writable:\",f.writable())\n",
    "print(\"Is file closed:\",f.closed)\n",
    "f.close()\n",
    "print(\"Is file closed:\",f.closed)"
   ]
  },
  {
   "cell_type": "code",
   "execution_count": 6,
   "metadata": {},
   "outputs": [
    {
     "name": "stdout",
     "output_type": "stream",
     "text": [
      "List & Dictionary added to file\n",
      "[10, 20, 30, 40, 50]\n",
      "{'Python': 45, 'Java': 30, 'C++': 14}\n"
     ]
    }
   ],
   "source": [
    "#Write a fuction to addLD() to add list and dictionary to binary file using pickle\n",
    "#Also write code to read file and display conten on monitor\n",
    "#L=[10,20,30,40,50]\n",
    "#D={\"Python\":45,\"Java\":30,\"C++\":14}\n",
    "def flist():\n",
    "    import pickle\n",
    "    L=[10,20,30,40,50]\n",
    "    D={\"Python\":45,\"Java\":30,\"C++\":14}\n",
    "    f=open(\"list.dat\",\"wb\")\n",
    "    pickle.dump(L,f)\n",
    "    pickle.dump(D,f)\n",
    "    print(\"List & Dictionary added to file\")\n",
    "    f.close()\n",
    "flist()\n",
    "import pickle\n",
    "f=open(\"list.dat\",\"rb\")\n",
    "try:\n",
    "    while True:\n",
    "        print(pickle.load(f))\n",
    "except:\n",
    "    f.close()"
   ]
  },
  {
   "cell_type": "code",
   "execution_count": 20,
   "metadata": {},
   "outputs": [
    {
     "ename": "SyntaxError",
     "evalue": "invalid syntax (<ipython-input-20-b00783cd0e6d>, line 11)",
     "output_type": "error",
     "traceback": [
      "\u001b[1;36m  File \u001b[1;32m\"<ipython-input-20-b00783cd0e6d>\"\u001b[1;36m, line \u001b[1;32m11\u001b[0m\n\u001b[1;33m    else:\u001b[0m\n\u001b[1;37m       ^\u001b[0m\n\u001b[1;31mSyntaxError\u001b[0m\u001b[1;31m:\u001b[0m invalid syntax\n"
     ]
    }
   ],
   "source": [
    "#WAP to search a record from stud.dat    #Still working on it\n",
    "import pickle\n",
    "roll=int(input(\"Enter rno to be searched: \"))\n",
    "fin=open(\"stud.dat\",\"rb\")\n",
    "try:\n",
    "    while True:\n",
    "        a=pickle.load(fin)\n",
    "        if a[0]==roll:\n",
    "            print(a)\n",
    "        else:\n",
    "            print(\"Record Not Found\")\n",
    "            break\n",
    "except:\n",
    "    fin.close()"
   ]
  },
  {
   "cell_type": "code",
   "execution_count": 15,
   "metadata": {},
   "outputs": [
    {
     "name": "stdout",
     "output_type": "stream",
     "text": [
      "khaajakhianionoarayehatamahani\n"
     ]
    }
   ],
   "source": [
    "#Homework\n",
    "#WAP to create a story file story.txt\n",
    "#Copy all the lowercase characters to newfile storylow.txt and print it\n",
    "fin=open(r\"E:\\\\Ishan\\\\story.txt\",\"r\")\n",
    "fout=open(\"storylow.txt\",\"w\")\n",
    "s=fin.read()\n",
    "for i in range(len(s)):\n",
    "    if \"a\"<=s[i]<=\"z\":\n",
    "        fout.write(s[i])\n",
    "        fin.close()\n",
    "fout.close()\n",
    "f=open(r\"storylow.txt\",\"r\")\n",
    "print(f.read())\n",
    "f.close()"
   ]
  },
  {
   "cell_type": "code",
   "execution_count": null,
   "metadata": {},
   "outputs": [],
   "source": []
  }
 ],
 "metadata": {
  "kernelspec": {
   "display_name": "Python 3",
   "language": "python",
   "name": "python3"
  },
  "language_info": {
   "codemirror_mode": {
    "name": "ipython",
    "version": 3
   },
   "file_extension": ".py",
   "mimetype": "text/x-python",
   "name": "python",
   "nbconvert_exporter": "python",
   "pygments_lexer": "ipython3",
   "version": "3.7.6"
  }
 },
 "nbformat": 4,
 "nbformat_minor": 4
}
