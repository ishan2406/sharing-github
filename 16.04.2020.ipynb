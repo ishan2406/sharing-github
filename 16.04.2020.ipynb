{
 "cells": [
  {
   "cell_type": "code",
   "execution_count": 2,
   "metadata": {},
   "outputs": [
    {
     "name": "stdout",
     "output_type": "stream",
     "text": [
      "Enter rno: 4\n",
      "Enter name: Mirav\n",
      "Enter marks: 79\n",
      "Enter marks: 81\n",
      "Enter marks: 65\n",
      "Enter y to continue: y\n",
      "Enter rno: 5\n",
      "Enter name: Sheetal\n",
      "Enter marks: 84\n",
      "Enter marks: 85\n",
      "Enter marks: 83\n",
      "Enter y to continue: n\n",
      "['1', 'Alina', '[89.0, 78.0, 82.0]']\n",
      "[]\n",
      "['2', 'Zoya', '[66.0, 69.0, 72.0]']\n",
      "[]\n",
      "['3', 'Katrina', '[67.0, 67.0, 67.0]']\n",
      "[]\n",
      "['4', 'Mirav', '[79.0, 81.0, 65.0]']\n",
      "['5', 'Sheetal', '[84.0, 85.0, 83.0]']\n"
     ]
    }
   ],
   "source": [
    "import csv\n",
    "f=open(\"E:\\\\Ishan\\\\stu.csv\",\"a\",newline=\"\")\n",
    "csvw=csv.writer(f)\n",
    "ch='y'\n",
    "while ch=='y':\n",
    "    l=[]\n",
    "    rno=int(input(\"Enter rno: \"))\n",
    "    l.append(rno)\n",
    "    name=input(\"Enter name: \")\n",
    "    l.append(name)\n",
    "    mks=[]\n",
    "    for i in range(0,3):\n",
    "        x=float(input(\"Enter marks: \"))\n",
    "        mks.append(x)\n",
    "    l.append(mks)\n",
    "    csvw.writerow(l)\n",
    "    ch=input(\"Enter y to continue: \")\n",
    "f.close()\n",
    "f=open(\"E:\\\\Ishan\\\\stu.csv\",\"r\")\n",
    "csvr=csv.reader(f)\n",
    "for line in csvr:\n",
    "    print(line)\n",
    "f.close()"
   ]
  },
  {
   "cell_type": "code",
   "execution_count": null,
   "metadata": {},
   "outputs": [],
   "source": []
  }
 ],
 "metadata": {
  "kernelspec": {
   "display_name": "Python 3",
   "language": "python",
   "name": "python3"
  },
  "language_info": {
   "codemirror_mode": {
    "name": "ipython",
    "version": 3
   },
   "file_extension": ".py",
   "mimetype": "text/x-python",
   "name": "python",
   "nbconvert_exporter": "python",
   "pygments_lexer": "ipython3",
   "version": "3.7.6"
  }
 },
 "nbformat": 4,
 "nbformat_minor": 4
}
