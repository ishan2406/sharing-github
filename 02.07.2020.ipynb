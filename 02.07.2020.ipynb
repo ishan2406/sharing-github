{
 "cells": [
  {
   "cell_type": "code",
   "execution_count": 4,
   "metadata": {},
   "outputs": [
    {
     "name": "stdout",
     "output_type": "stream",
     "text": [
      "[[1, 2, 3], [4, 5, 6], [7, 8, 9], [10, 11, 12]]\n",
      "[[1, 4, 7, 10], [2, 5, 8, 11], [3, 6, 9, 12]]\n"
     ]
    }
   ],
   "source": [
    "#WAP for transpose of matrix using list comprehension\n",
    "matrix=[[1,2,3],[4,5,6],[7,8,9],[10,11,12]]\n",
    "t=[[row[i] for row in matrix] for i in range(3)]\n",
    "print(matrix)\n",
    "print(t)"
   ]
  },
  {
   "cell_type": "code",
   "execution_count": 7,
   "metadata": {},
   "outputs": [
    {
     "name": "stdout",
     "output_type": "stream",
     "text": [
      "[[1, 2, 3], [4, 5, 6], [7, 8, 9], [10, 11, 12]]\n",
      "[[1, 4, 7, 10], [2, 5, 8, 11], [3, 6, 9, 12]]\n"
     ]
    }
   ],
   "source": [
    "#WAP for transpose of matrix without using list comprehension\n",
    "matrix=[[1,2,3],[4,5,6],[7,8,9],[10,11,12]]\n",
    "trans=[]\n",
    "for i in range(3):\n",
    "    tr=[]\n",
    "    for row in matrix:\n",
    "        tr.append(row[i])\n",
    "    trans.append(tr)\n",
    "print(matrix)\n",
    "print(trans)"
   ]
  },
  {
   "cell_type": "code",
   "execution_count": null,
   "metadata": {},
   "outputs": [],
   "source": [
    "#2D list is all elements are same in the list\n",
    "L=[[1,2],[3,4],[5,6],[7,8]]\n",
    "#Ragged list has diffrerent elements in list(size)\n",
    "RL=[[1,2,3],[4],[5,6,7,8]]"
   ]
  },
  {
   "cell_type": "code",
   "execution_count": 5,
   "metadata": {},
   "outputs": [
    {
     "name": "stdout",
     "output_type": "stream",
     "text": [
      "[[1, 2, 3], [4, 5, 6], [7, 8, 9], [10, 11, 12]]\n",
      "[1, 2, 3, 4, 5, 6, 7, 8, 9, 10, 11, 12]\n"
     ]
    }
   ],
   "source": [
    "#WAP to convert 2D list(number array) to flat list using list comprehension\n",
    "matrix=[[1,2,3],[4,5,6],[7,8,9],[10,11,12]]\n",
    "t=[row[i] for row in matrix for i in range(3)]\n",
    "print(matrix)\n",
    "print(t)"
   ]
  },
  {
   "cell_type": "code",
   "execution_count": 8,
   "metadata": {},
   "outputs": [
    {
     "name": "stdout",
     "output_type": "stream",
     "text": [
      "{2: 4, 4: 16, 6: 36, 8: 64}\n"
     ]
    }
   ],
   "source": [
    "#WAP to create dictionay using dictionary comprehension method for no. & square of 2,4,6,8\n",
    "d={x:x*x for x in range(2,9,2)}\n",
    "print(d)"
   ]
  },
  {
   "cell_type": "code",
   "execution_count": 12,
   "metadata": {},
   "outputs": [
    {
     "name": "stdout",
     "output_type": "stream",
     "text": [
      "Enter string: Today is Thursday Of July\n",
      "['o', 'a', 'i', 'u']\n",
      "The number of unique vowels in Today is Thursday Of July is 4\n"
     ]
    }
   ],
   "source": [
    "#WAP to display unique vowels present in the given string using stack\n",
    "string=input(\"Enter string: \")\n",
    "stack=[]\n",
    "for v in string:\n",
    "    if v.lower() in \"aeiou\":\n",
    "        if v.lower() not in stack:\n",
    "            stack.append(v)\n",
    "print(stack)\n",
    "print(\"The number of unique vowels in\",string,\"is\",len(stack))"
   ]
  },
  {
   "cell_type": "code",
   "execution_count": 1,
   "metadata": {},
   "outputs": [
    {
     "name": "stdout",
     "output_type": "stream",
     "text": [
      "['e', 'o', 'u', 'a', 'i']\n"
     ]
    }
   ],
   "source": [
    "s=\"Hello World U are lOOking at A python program\"\n",
    "vowels=\"aeiouAEIOU\"\n",
    "thelist=[]\n",
    "stack=[thelist.append(i.lower()) or i.lower() for i in s if i in vowels and i.lower() not in thelist]\n",
    "print(stack)"
   ]
  },
  {
   "cell_type": "code",
   "execution_count": null,
   "metadata": {},
   "outputs": [],
   "source": []
  }
 ],
 "metadata": {
  "kernelspec": {
   "display_name": "Python 3",
   "language": "python",
   "name": "python3"
  },
  "language_info": {
   "codemirror_mode": {
    "name": "ipython",
    "version": 3
   },
   "file_extension": ".py",
   "mimetype": "text/x-python",
   "name": "python",
   "nbconvert_exporter": "python",
   "pygments_lexer": "ipython3",
   "version": "3.7.6"
  }
 },
 "nbformat": 4,
 "nbformat_minor": 4
}
