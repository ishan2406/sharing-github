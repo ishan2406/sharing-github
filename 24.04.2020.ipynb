{
 "cells": [
  {
   "cell_type": "code",
   "execution_count": 1,
   "metadata": {},
   "outputs": [
    {
     "name": "stdout",
     "output_type": "stream",
     "text": [
      "Enter number: 7\n",
      "22 11 34 17 52 26 13 40 20 10 5 16 8 4 2 1 "
     ]
    }
   ],
   "source": [
    "def hailstone(n):\n",
    "    if n==1:\n",
    "        return\n",
    "    if n%2==0:\n",
    "        print(n//2,end=\" \")\n",
    "        hailstone(n//2)\n",
    "    elif n%2==1:\n",
    "        print(3*n+1,end=\" \")\n",
    "        hailstone(3*n+1)\n",
    "n=int(input(\"Enter number: \"))\n",
    "hailstone(n)"
   ]
  },
  {
   "cell_type": "code",
   "execution_count": 14,
   "metadata": {},
   "outputs": [
    {
     "name": "stdout",
     "output_type": "stream",
     "text": [
      "Enter number: 19\n",
      "It is a happy :) number\n"
     ]
    }
   ],
   "source": [
    "def sumofsq(n):\n",
    "    def calsum(n):\n",
    "        if n==0:\n",
    "            return n\n",
    "        else:\n",
    "            return (n%10)**2 + calsum(n//10)\n",
    "    x = calsum(n)\n",
    "    l=len(str(x))\n",
    "    if l==1:\n",
    "        ishappy(x)\n",
    "    else:\n",
    "        sumofsq(x)\n",
    "def ishappy(x):\n",
    "    if x==1:\n",
    "        print(\"It is a happy :) number\")\n",
    "    else:\n",
    "        print(\"It is not a happy :( number\")\n",
    "n=int(input(\"Enter number: \"))\n",
    "sumofsq(n)"
   ]
  },
  {
   "cell_type": "code",
   "execution_count": 1,
   "metadata": {},
   "outputs": [
    {
     "name": "stdout",
     "output_type": "stream",
     "text": [
      "99\n"
     ]
    }
   ],
   "source": [
    "def fun(n):\n",
    "    if n>100:\n",
    "        return n-5\n",
    "    return fun(fun(n+11))\n",
    "print(fun(50))"
   ]
  },
  {
   "cell_type": "code",
   "execution_count": null,
   "metadata": {},
   "outputs": [],
   "source": []
  }
 ],
 "metadata": {
  "kernelspec": {
   "display_name": "Python 3",
   "language": "python",
   "name": "python3"
  },
  "language_info": {
   "codemirror_mode": {
    "name": "ipython",
    "version": 3
   },
   "file_extension": ".py",
   "mimetype": "text/x-python",
   "name": "python",
   "nbconvert_exporter": "python",
   "pygments_lexer": "ipython3",
   "version": "3.7.6"
  }
 },
 "nbformat": 4,
 "nbformat_minor": 4
}
