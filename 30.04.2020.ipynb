{
 "cells": [
  {
   "cell_type": "code",
   "execution_count": 2,
   "metadata": {},
   "outputs": [
    {
     "name": "stdout",
     "output_type": "stream",
     "text": [
      "Ek tha raja\n",
      "Ek thi rani\n",
      "Dono mar gaye\n",
      "Khatam kahani\n"
     ]
    }
   ],
   "source": [
    "#WAF to pass text file and read entire contents of file\n",
    "def read_file(fname):\n",
    "    txt=open(fname)\n",
    "    print(txt.read())\n",
    "read_file(r\"C:\\Users\\Krishna\\Desktop\\Ishan\\story.txt\")"
   ]
  },
  {
   "cell_type": "code",
   "execution_count": 4,
   "metadata": {},
   "outputs": [
    {
     "name": "stdout",
     "output_type": "stream",
     "text": [
      "Python too supports file handling and allows users to handle files \n",
      "\n",
      "i.e., to read and write files, along with many other file handling options, \n",
      "\n",
      "to operate on files. The concept of file handling has stretched \n",
      "\n"
     ]
    }
   ],
   "source": [
    "#WAF to pass file and sen_no that will read only that sentences\n",
    "def read_file(fname,sen):\n",
    "    from itertools import islice   #islice takes one sentence till it encounters a \"\\n\"\n",
    "    with open(fname) as f:\n",
    "        for line in islice(f,sen):\n",
    "            print(line)\n",
    "read_file(r\"C:\\Users\\Krishna\\Desktop\\Ishan\\fh.txt\",3)"
   ]
  },
  {
   "cell_type": "code",
   "execution_count": 5,
   "metadata": {},
   "outputs": [
    {
     "name": "stdout",
     "output_type": "stream",
     "text": [
      "['Python too supports file handling and allows users to handle files \\n', 'i.e., to read and write files, along with many other file handling options, \\n', 'to operate on files. The concept of file handling has stretched \\n', 'over various other languages, but the implementation is either \\n', 'complicated or lengthy, but alike other concepts of Python, \\n', 'this concept here is also easy and short.']\n"
     ]
    }
   ],
   "source": [
    "#WAF to pass file as parameter & read a file line by line and\n",
    "#store it in a list\n",
    "def file_read(fname):\n",
    "    with open(fname) as f:\n",
    "        L=f.readlines()\n",
    "        print(L)\n",
    "file_read(r\"C:\\Users\\Krishna\\Desktop\\Ishan\\fh.txt\")"
   ]
  },
  {
   "cell_type": "code",
   "execution_count": 9,
   "metadata": {},
   "outputs": [
    {
     "name": "stdout",
     "output_type": "stream",
     "text": [
      "today is today. don't compare today with tomorrow. so today is today\n",
      "----------\n",
      "Number of words in file are:  Counter({'today': 4, 'is': 2, 'today.': 1, \"don't\": 1, 'compare': 1, 'with': 1, 'tomorrow.': 1, 'so': 1})\n"
     ]
    }
   ],
   "source": [
    "#WAF to pass file as parameter & count occurance of word in file\n",
    "from collections import Counter  #Counter counts the words splited from a file\n",
    "def wordcount(fname):\n",
    "    with open(fname) as f:\n",
    "        return Counter(f.read().split())\n",
    "def read_file(fname):\n",
    "    txt=open(fname)\n",
    "    print(txt.read())\n",
    "read_file(r\"C:\\Users\\Krishna\\Desktop\\Ishan\\today.txt\")\n",
    "print(\"----------\")\n",
    "print(\"Number of words in file are: \",wordcount(r\"C:\\Users\\Krishna\\Desktop\\Ishan\\today.txt\"))"
   ]
  },
  {
   "cell_type": "code",
   "execution_count": 14,
   "metadata": {},
   "outputs": [
    {
     "name": "stdout",
     "output_type": "stream",
     "text": [
      "Python too supports file handling and allows users to handle files \n",
      "Ek tha raja\n",
      "\n",
      "i.e., to read and write files, along with many other file handling options, \n",
      "Ek thi rani\n",
      "\n",
      "to operate on files. The concept of file handling has stretched \n",
      "Dono mar gaye\n",
      "\n",
      "over various other languages, but the implementation is either \n",
      "Khatam kahani\n"
     ]
    }
   ],
   "source": [
    "#WAF to combine each line from first file with corresponding line in second file\n",
    "def read2files(f1,f2):\n",
    "    with open(f1) as fo1, open(f2) as fo2:\n",
    "        for line1,line2 in zip(fo1,fo2):  #zip will take one line from each file and read it\n",
    "            print(line1+line2)\n",
    "read2files(\"C:\\\\Users\\\\Krishna\\\\Desktop\\\\Ishan\\\\fh.txt\",\"C:\\\\Users\\\\Krishna\\\\Desktop\\\\Ishan\\\\story.txt\")"
   ]
  },
  {
   "cell_type": "code",
   "execution_count": 16,
   "metadata": {},
   "outputs": [
    {
     "name": "stdout",
     "output_type": "stream",
     "text": [
      "Python too supports file handling and allows users to handle files \n",
      "i.e., to read and write files, along with many other file handling options, \n",
      "to operate on files. The concept of file handling has stretched \n",
      "over various other languages, but the implementation is either \n",
      "complicated or lengthy, but alike other concepts of Python, \n",
      "this concept here is also easy and short.\n",
      "\n",
      "Python too supports file handling and allows users to handle files \n",
      "@@  i.e., to read and write files, along with many other file handling options, \n",
      "@@  to operate on files. The concept of file handling has stretched \n",
      "@@  over various other languages, but the implementation is either \n",
      "@@  complicated or lengthy, but alike other concepts of Python, \n",
      "@@  this concept here is also easy and short.@@  "
     ]
    }
   ],
   "source": [
    "with open(\"C:\\\\Users\\\\Krishna\\\\Desktop\\\\Ishan\\\\fh.txt\") as f:\n",
    "    data=f.read()\n",
    "    print(data)\n",
    "print()\n",
    "#Iterate over the lines of the file\n",
    "with open(\"C:\\\\Users\\\\Krishna\\\\Desktop\\\\Ishan\\\\fh.txt\") as f:\n",
    "    for line in f:\n",
    "        print(line,end='@@  ')"
   ]
  },
  {
   "cell_type": "code",
   "execution_count": 18,
   "metadata": {},
   "outputs": [],
   "source": [
    "#Open file with 'with' & write 2 lines in it\n",
    "with open(\"C:\\\\Users\\\\Krishna\\\\Desktop\\\\Ishan\\\\story.txt\",\"a\") as f:\n",
    "    f.write(\"The End\")\n",
    "    f.write(\"Go home\")"
   ]
  },
  {
   "cell_type": "code",
   "execution_count": 19,
   "metadata": {},
   "outputs": [
    {
     "data": {
      "text/plain": [
       "'C:\\\\Users\\\\Krishna\\\\Desktop\\\\Ishan\\\\newstory.txt'"
      ]
     },
     "execution_count": 19,
     "metadata": {},
     "output_type": "execute_result"
    }
   ],
   "source": [
    "#Copying a file with shutil module\n",
    "from shutil import copyfile\n",
    "copyfile(r\"C:\\Users\\Krishna\\Desktop\\Ishan\\story.txt\",\"C:\\\\Users\\\\Krishna\\\\Desktop\\\\Ishan\\\\newstory.txt\")"
   ]
  }
 ],
 "metadata": {
  "kernelspec": {
   "display_name": "Python 3",
   "language": "python",
   "name": "python3"
  },
  "language_info": {
   "codemirror_mode": {
    "name": "ipython",
    "version": 3
   },
   "file_extension": ".py",
   "mimetype": "text/x-python",
   "name": "python",
   "nbconvert_exporter": "python",
   "pygments_lexer": "ipython3",
   "version": "3.7.6"
  }
 },
 "nbformat": 4,
 "nbformat_minor": 4
}
