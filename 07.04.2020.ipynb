{
 "cells": [
  {
   "cell_type": "code",
   "execution_count": 1,
   "metadata": {},
   "outputs": [
    {
     "name": "stdout",
     "output_type": "stream",
     "text": [
      "Enter no. for how many records to store: 3\n",
      "Enter details for student 1 : \n",
      "Enter roll no.: 1\n",
      "Enter name: Ishan Soni\n",
      "Enter marks: 97.4\n",
      "Enter details for student 2 : \n",
      "Enter roll no.: 2\n",
      "Enter name: Om Mistry\n",
      "Enter marks: 95.2\n",
      "Enter details for student 3 : \n",
      "Enter roll no.: 3\n",
      "Enter name: Devansh Patel\n",
      "Enter marks: 95.0\n",
      "1,Ishan Soni,97.4\n",
      "2,Om Mistry,95.2\n",
      "3,Devansh Patel,95.0\n",
      "\n"
     ]
    }
   ],
   "source": [
    "N=int(input(\"Enter no. for how many records to store: \"))\n",
    "fo=open(\"Marks.dat\",\"w\")\n",
    "for i in range(N):\n",
    "    print(\"Enter details for student\",i+1,\": \",)\n",
    "    rno=int(input(\"Enter roll no.: \"))\n",
    "    name=input(\"Enter name: \")\n",
    "    mk=float(input(\"Enter marks: \"))\n",
    "    rec=str(rno)+\",\"+name+\",\"+str(mk)+\"\\n\"\n",
    "    fo.write(rec)\n",
    "fo.close()\n",
    "fin=open(\"Marks.dat\")\n",
    "print(fin.read())"
   ]
  },
  {
   "cell_type": "code",
   "execution_count": 4,
   "metadata": {},
   "outputs": [
    {
     "name": "stdout",
     "output_type": "stream",
     "text": [
      "Enter roll no.: 1\n",
      "Enter name: Ishan\n",
      "Enter marks: 97.4\n",
      "Enter roll no.: 2\n",
      "Enter name: Om\n",
      "Enter marks: 95.2\n",
      "Enter roll no.: 3\n",
      "Enter name: Devansh\n",
      "Enter marks: 95.0\n",
      "1Ishan97.42Om95.23Devansh95.0\n"
     ]
    }
   ],
   "source": [
    "Lr=[]\n",
    "Ln=[]\n",
    "Lm=[]\n",
    "newlist=[]\n",
    "fo=open(\"Mk.dat\",\"w\")\n",
    "for i in range(3):\n",
    "    rno=int(input(\"Enter roll no.: \"))\n",
    "    Lr.append(rno)\n",
    "    name=input(\"Enter name: \")\n",
    "    Ln.append(name)\n",
    "    mk=float(input(\"Enter marks: \"))\n",
    "    Lm.append(mk)\n",
    "for i in range(3):\n",
    "    newlist.append(str(Lr[i])+Ln[i]+str(Lm[i]))\n",
    "fo.writelines(newlist)\n",
    "fo.close()\n",
    "fin=open(\"mk.dat\")\n",
    "print(fin.read())"
   ]
  },
  {
   "cell_type": "code",
   "execution_count": 4,
   "metadata": {},
   "outputs": [],
   "source": [
    "f=open(\"story.dat\",\"w\")\n",
    "f.write(\"Man and God met somewhere\")\n",
    "f.close()"
   ]
  },
  {
   "cell_type": "code",
   "execution_count": 5,
   "metadata": {},
   "outputs": [],
   "source": [
    "f=open(\"story.dat\",\"a\")\n",
    "f.write(\"\\nBoth exclaimed, \\\"My Creator !\\\"\")\n",
    "f.close()"
   ]
  },
  {
   "cell_type": "code",
   "execution_count": 6,
   "metadata": {},
   "outputs": [
    {
     "name": "stdout",
     "output_type": "stream",
     "text": [
      "Man and God met somewhere\n",
      "Both exclaimed, \"My Creator !\"\n"
     ]
    }
   ],
   "source": [
    "fin=open(\"story.dat\")\n",
    "print(fin.read())"
   ]
  },
  {
   "cell_type": "code",
   "execution_count": 16,
   "metadata": {},
   "outputs": [],
   "source": [
    "f=open(\"newstory.txt\",\"a\")\n",
    "f.write(\"She was screaming when one man took her inside a room\")\n",
    "f.write(\"She thought her tears would melt her mother's heart\")\n",
    "f.close()"
   ]
  },
  {
   "cell_type": "code",
   "execution_count": 18,
   "metadata": {},
   "outputs": [
    {
     "name": "stdout",
     "output_type": "stream",
     "text": [
      "\n",
      "This is how she started her pre-schoolShe was screaming when one man took her inside a roomShe thought her tears would melt her mother's heart\n",
      "This is how she started her pre-school\n",
      "This is how she started her pre-school\n"
     ]
    }
   ],
   "source": [
    "f=open(\"newstory.txt\",\"a\")\n",
    "f.write(\"\\nThis is how she started her pre-school\")\n",
    "f.close()\n",
    "fin=open(\"newstory.txt\")\n",
    "print(fin.read())"
   ]
  },
  {
   "cell_type": "code",
   "execution_count": null,
   "metadata": {},
   "outputs": [],
   "source": []
  },
  {
   "cell_type": "code",
   "execution_count": null,
   "metadata": {},
   "outputs": [],
   "source": []
  }
 ],
 "metadata": {
  "kernelspec": {
   "display_name": "Python 3",
   "language": "python",
   "name": "python3"
  },
  "language_info": {
   "codemirror_mode": {
    "name": "ipython",
    "version": 3
   },
   "file_extension": ".py",
   "mimetype": "text/x-python",
   "name": "python",
   "nbconvert_exporter": "python",
   "pygments_lexer": "ipython3",
   "version": "3.7.6"
  }
 },
 "nbformat": 4,
 "nbformat_minor": 4
}
